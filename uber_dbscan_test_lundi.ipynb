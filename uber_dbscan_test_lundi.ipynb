{
 "cells": [
  {
   "cell_type": "code",
   "execution_count": 1,
   "id": "78dc1bbc-fc0e-4df4-b938-82702306f658",
   "metadata": {},
   "outputs": [
    {
     "name": "stdout",
     "output_type": "stream",
     "text": [
      "Collecting package metadata (current_repodata.json): ...working... done\n",
      "Solving environment: ...working... done\n",
      "\n",
      "# All requested packages already installed.\n",
      "\n",
      "Retrieving notices: ...working... done\n",
      "\n",
      "Note: you may need to restart the kernel to use updated packages.\n"
     ]
    }
   ],
   "source": [
    "conda install numpy"
   ]
  },
  {
   "cell_type": "code",
   "execution_count": 2,
   "id": "c068b12a-d1bc-4e47-9fa5-6564d35219ba",
   "metadata": {},
   "outputs": [],
   "source": [
    "import pandas as pd \n",
    "import numpy as np \n",
    "\n",
    "from sklearn.preprocessing import  OneHotEncoder, StandardScaler\n",
    "from sklearn.compose import ColumnTransformer\n",
    "from sklearn.pipeline import Pipeline\n",
    "from sklearn import preprocessing\n",
    "from sklearn.cluster import DBSCAN\n",
    "\n",
    "\n",
    "import plotly.express as px\n",
    "import plotly.io as pio\n",
    "pio.renderers.default = \"iframe_connected\""
   ]
  },
  {
   "cell_type": "code",
   "execution_count": 3,
   "id": "ebb40c3e",
   "metadata": {},
   "outputs": [],
   "source": [
    "df_apr = pd.read_csv('uber-raw-data-apr14.csv')"
   ]
  },
  {
   "cell_type": "code",
   "execution_count": 4,
   "id": "0a4f6553",
   "metadata": {},
   "outputs": [],
   "source": [
    "df_may = pd.read_csv('uber-raw-data-may14.csv')"
   ]
  },
  {
   "cell_type": "code",
   "execution_count": 5,
   "id": "a1b0c7f1",
   "metadata": {},
   "outputs": [],
   "source": [
    "df_jun = pd.read_csv('uber-raw-data-jun14.csv')"
   ]
  },
  {
   "cell_type": "code",
   "execution_count": 6,
   "id": "0e4726fb",
   "metadata": {},
   "outputs": [],
   "source": [
    "df_jul = pd.read_csv('uber-raw-data-jul14.csv')"
   ]
  },
  {
   "cell_type": "code",
   "execution_count": 7,
   "id": "977849c9",
   "metadata": {},
   "outputs": [],
   "source": [
    "df_aug = pd.read_csv('uber-raw-data-aug14.csv')"
   ]
  },
  {
   "cell_type": "code",
   "execution_count": 8,
   "id": "75188d34",
   "metadata": {},
   "outputs": [],
   "source": [
    "df_sep = pd.read_csv('uber-raw-data-sep14.csv')"
   ]
  },
  {
   "cell_type": "code",
   "execution_count": 9,
   "id": "db56d387",
   "metadata": {},
   "outputs": [],
   "source": [
    "df_def = pd.concat([df_apr, df_aug, df_jul, df_jun, df_may, df_sep])"
   ]
  },
  {
   "cell_type": "code",
   "execution_count": 10,
   "id": "7e003d4c",
   "metadata": {},
   "outputs": [],
   "source": [
    "df_def.columns = [x.lower().replace('/', '_') for x in df_def.columns]"
   ]
  },
  {
   "cell_type": "code",
   "execution_count": 11,
   "id": "7ad2a590",
   "metadata": {},
   "outputs": [],
   "source": [
    "df_def.date_time = pd.to_datetime(df_def['date_time'])"
   ]
  },
  {
   "cell_type": "code",
   "execution_count": 12,
   "id": "d85c7ecc",
   "metadata": {},
   "outputs": [],
   "source": [
    "new_dates, new_times = zip(*[(d.date(), d.time()) for d in df_def['date_time']])\n",
    "df_def = df_def.assign(new_date=new_dates, new_time=new_times)\n",
    "df_def['hour'] = df_def.date_time.dt.hour\n",
    "df_def['day'] = df_def.date_time.dt.dayofweek"
   ]
  },
  {
   "cell_type": "code",
   "execution_count": 13,
   "id": "70d31586",
   "metadata": {},
   "outputs": [],
   "source": [
    "df_def = df_def.drop(columns=[\"date_time\"])"
   ]
  },
  {
   "cell_type": "code",
   "execution_count": 14,
   "id": "bc848914-832c-4dfe-a08e-2563fec41516",
   "metadata": {},
   "outputs": [
    {
     "data": {
      "text/plain": [
       "4534327"
      ]
     },
     "execution_count": 14,
     "metadata": {},
     "output_type": "execute_result"
    }
   ],
   "source": [
    "len(df_def)"
   ]
  },
  {
   "cell_type": "markdown",
   "id": "b2387c64-9f0b-45f5-8a9d-0ec586cdea6e",
   "metadata": {},
   "source": [
    "DROP OUTLIERS"
   ]
  },
  {
   "cell_type": "code",
   "execution_count": 15,
   "id": "18e59331-32d1-41d9-acc1-1aaabd7b1dec",
   "metadata": {},
   "outputs": [],
   "source": [
    "for i in ['lat', 'lon',]:\n",
    "    df_def = df_def[~(np.abs(df_def[i]-df_def[i].mean()) > (3*df_def[i].std()))]"
   ]
  },
  {
   "cell_type": "code",
   "execution_count": 16,
   "id": "a5add719-dbf3-4529-a1fd-bc352fb7427c",
   "metadata": {},
   "outputs": [
    {
     "data": {
      "text/plain": [
       "4301626"
      ]
     },
     "execution_count": 16,
     "metadata": {},
     "output_type": "execute_result"
    }
   ],
   "source": [
    "len(df_def)"
   ]
  },
  {
   "cell_type": "code",
   "execution_count": 17,
   "id": "eace9233-07fa-42c2-9ea5-6ede52f3a5df",
   "metadata": {},
   "outputs": [],
   "source": [
    "####################  TEST SUR DIFFERENTES HEURES ###########################################################"
   ]
  },
  {
   "cell_type": "markdown",
   "id": "1714635d",
   "metadata": {},
   "source": [
    "TEST : LUNDI A 18H"
   ]
  },
  {
   "cell_type": "code",
   "execution_count": 18,
   "id": "d147799f",
   "metadata": {},
   "outputs": [],
   "source": [
    "df_day_1_h18 = df_def[(df_def.day == 0) & (df_def.hour == 18)]\n"
   ]
  },
  {
   "cell_type": "code",
   "execution_count": 19,
   "id": "dd6b2250",
   "metadata": {},
   "outputs": [],
   "source": [
    "df_day_1_h18 = df_day_1_h18.drop(columns=['base', 'new_date', 'new_time'])"
   ]
  },
  {
   "cell_type": "code",
   "execution_count": 20,
   "id": "4ba4a187",
   "metadata": {},
   "outputs": [],
   "source": [
    "numeric_features = [0, 1, 2, 3] # Positions des colonnes quantitatives dans X\n",
    "numeric_transformer = StandardScaler()\n",
    "\n",
    "# On combine les transformers dans un ColumnTransformer\n",
    "preprocessor = ColumnTransformer(\n",
    "    transformers=[\n",
    "        ('num', numeric_transformer, numeric_features),\n",
    "        \n",
    "    ])\n",
    "\n",
    "X_h18 = preprocessor.fit_transform(df_day_1_h18) # fit_transform !!\n",
    "\n",
    "db = DBSCAN(eps=0.2, min_samples=100, algorithm=\"brute\")\n",
    "\n",
    "db.fit(X_h18)\n",
    "np.unique(db.labels_)\n",
    "df_day_1_h18[\"cluster\"] = db.labels_\n"
   ]
  },
  {
   "cell_type": "code",
   "execution_count": 21,
   "id": "7b7b639c",
   "metadata": {},
   "outputs": [
    {
     "data": {
      "text/html": [
       "<div>\n",
       "<style scoped>\n",
       "    .dataframe tbody tr th:only-of-type {\n",
       "        vertical-align: middle;\n",
       "    }\n",
       "\n",
       "    .dataframe tbody tr th {\n",
       "        vertical-align: top;\n",
       "    }\n",
       "\n",
       "    .dataframe thead th {\n",
       "        text-align: right;\n",
       "    }\n",
       "</style>\n",
       "<table border=\"1\" class=\"dataframe\">\n",
       "  <thead>\n",
       "    <tr style=\"text-align: right;\">\n",
       "      <th></th>\n",
       "      <th>lat</th>\n",
       "      <th>lon</th>\n",
       "      <th>hour</th>\n",
       "      <th>day</th>\n",
       "      <th>cluster</th>\n",
       "    </tr>\n",
       "  </thead>\n",
       "  <tbody>\n",
       "    <tr>\n",
       "      <th>8638</th>\n",
       "      <td>40.7407</td>\n",
       "      <td>-73.9915</td>\n",
       "      <td>18</td>\n",
       "      <td>0</td>\n",
       "      <td>0</td>\n",
       "    </tr>\n",
       "    <tr>\n",
       "      <th>8639</th>\n",
       "      <td>40.7514</td>\n",
       "      <td>-73.9940</td>\n",
       "      <td>18</td>\n",
       "      <td>0</td>\n",
       "      <td>0</td>\n",
       "    </tr>\n",
       "    <tr>\n",
       "      <th>8640</th>\n",
       "      <td>40.7632</td>\n",
       "      <td>-73.9758</td>\n",
       "      <td>18</td>\n",
       "      <td>0</td>\n",
       "      <td>0</td>\n",
       "    </tr>\n",
       "    <tr>\n",
       "      <th>8641</th>\n",
       "      <td>40.7623</td>\n",
       "      <td>-73.9754</td>\n",
       "      <td>18</td>\n",
       "      <td>0</td>\n",
       "      <td>0</td>\n",
       "    </tr>\n",
       "    <tr>\n",
       "      <th>8642</th>\n",
       "      <td>40.7553</td>\n",
       "      <td>-73.9868</td>\n",
       "      <td>18</td>\n",
       "      <td>0</td>\n",
       "      <td>0</td>\n",
       "    </tr>\n",
       "  </tbody>\n",
       "</table>\n",
       "</div>"
      ],
      "text/plain": [
       "          lat      lon  hour  day  cluster\n",
       "8638  40.7407 -73.9915    18    0        0\n",
       "8639  40.7514 -73.9940    18    0        0\n",
       "8640  40.7632 -73.9758    18    0        0\n",
       "8641  40.7623 -73.9754    18    0        0\n",
       "8642  40.7553 -73.9868    18    0        0"
      ]
     },
     "execution_count": 21,
     "metadata": {},
     "output_type": "execute_result"
    }
   ],
   "source": [
    "df_day_1_h18.head()"
   ]
  },
  {
   "cell_type": "code",
   "execution_count": 22,
   "id": "031b8e3c",
   "metadata": {},
   "outputs": [
    {
     "data": {
      "text/html": [
       "<iframe\n",
       "    scrolling=\"no\"\n",
       "    width=\"100%\"\n",
       "    height=\"545px\"\n",
       "    src=\"iframe_figures/figure_22.html\"\n",
       "    frameborder=\"0\"\n",
       "    allowfullscreen\n",
       "></iframe>\n"
      ]
     },
     "metadata": {},
     "output_type": "display_data"
    }
   ],
   "source": [
    "fig = px.scatter_mapbox(\n",
    "        df_day_1_h18[(df_day_1_h18.cluster >= -1)], \n",
    "        lat=\"lat\", \n",
    "        lon=\"lon\",\n",
    "        color=\"cluster\",\n",
    "        mapbox_style=\"carto-positron\"\n",
    ")\n",
    "\n",
    "fig.show()"
   ]
  },
  {
   "cell_type": "markdown",
   "id": "42c17dfc",
   "metadata": {},
   "source": [
    "TEST : LUNDI A 1H DU MATIN"
   ]
  },
  {
   "cell_type": "code",
   "execution_count": 23,
   "id": "003bdd17",
   "metadata": {},
   "outputs": [],
   "source": [
    "df_day_1_h1 = df_def[(df_def.day == 0) & (df_def.hour == 1)]"
   ]
  },
  {
   "cell_type": "code",
   "execution_count": 24,
   "id": "ccdec0c9",
   "metadata": {},
   "outputs": [],
   "source": [
    "df_day_1_h1 = df_day_1_h1.drop(columns=['base', 'new_date', 'new_time'])"
   ]
  },
  {
   "cell_type": "code",
   "execution_count": 25,
   "id": "481e4acb",
   "metadata": {},
   "outputs": [],
   "source": [
    "X_h1 = preprocessor.fit_transform(df_day_1_h1) # fit_transform !!\n",
    "\n",
    "db = DBSCAN(eps=0.2, min_samples=100, algorithm=\"brute\")\n",
    "\n",
    "db.fit(X_h1)\n",
    "np.unique(db.labels_)\n",
    "df_day_1_h1[\"cluster\"] = db.labels_\n"
   ]
  },
  {
   "cell_type": "code",
   "execution_count": 26,
   "id": "644b4405",
   "metadata": {},
   "outputs": [
    {
     "data": {
      "text/html": [
       "<iframe\n",
       "    scrolling=\"no\"\n",
       "    width=\"100%\"\n",
       "    height=\"545px\"\n",
       "    src=\"iframe_figures/figure_26.html\"\n",
       "    frameborder=\"0\"\n",
       "    allowfullscreen\n",
       "></iframe>\n"
      ]
     },
     "metadata": {},
     "output_type": "display_data"
    }
   ],
   "source": [
    "fig = px.scatter_mapbox(\n",
    "        df_day_1_h1[(df_day_1_h1.cluster >= -1)], \n",
    "        lat=\"lat\", \n",
    "        lon=\"lon\",\n",
    "        color=\"cluster\",\n",
    "        mapbox_style=\"carto-positron\"\n",
    ")\n",
    "\n",
    "fig.show()"
   ]
  },
  {
   "cell_type": "code",
   "execution_count": 27,
   "id": "e1d849a1",
   "metadata": {},
   "outputs": [],
   "source": [
    "##############################################################################################################################"
   ]
  },
  {
   "cell_type": "markdown",
   "id": "f8a89918",
   "metadata": {},
   "source": [
    "VISUALISATION DES LUNDI TOUTES LES HEURES."
   ]
  },
  {
   "cell_type": "code",
   "execution_count": 28,
   "id": "15930530",
   "metadata": {},
   "outputs": [
    {
     "data": {
      "text/html": [
       "<div>\n",
       "<style scoped>\n",
       "    .dataframe tbody tr th:only-of-type {\n",
       "        vertical-align: middle;\n",
       "    }\n",
       "\n",
       "    .dataframe tbody tr th {\n",
       "        vertical-align: top;\n",
       "    }\n",
       "\n",
       "    .dataframe thead th {\n",
       "        text-align: right;\n",
       "    }\n",
       "</style>\n",
       "<table border=\"1\" class=\"dataframe\">\n",
       "  <thead>\n",
       "    <tr style=\"text-align: right;\">\n",
       "      <th></th>\n",
       "      <th>lat</th>\n",
       "      <th>lon</th>\n",
       "      <th>base</th>\n",
       "      <th>new_date</th>\n",
       "      <th>new_time</th>\n",
       "      <th>hour</th>\n",
       "      <th>day</th>\n",
       "    </tr>\n",
       "  </thead>\n",
       "  <tbody>\n",
       "    <tr>\n",
       "      <th>0</th>\n",
       "      <td>40.7690</td>\n",
       "      <td>-73.9549</td>\n",
       "      <td>B02512</td>\n",
       "      <td>2014-04-01</td>\n",
       "      <td>00:11:00</td>\n",
       "      <td>0</td>\n",
       "      <td>1</td>\n",
       "    </tr>\n",
       "    <tr>\n",
       "      <th>1</th>\n",
       "      <td>40.7267</td>\n",
       "      <td>-74.0345</td>\n",
       "      <td>B02512</td>\n",
       "      <td>2014-04-01</td>\n",
       "      <td>00:17:00</td>\n",
       "      <td>0</td>\n",
       "      <td>1</td>\n",
       "    </tr>\n",
       "    <tr>\n",
       "      <th>2</th>\n",
       "      <td>40.7316</td>\n",
       "      <td>-73.9873</td>\n",
       "      <td>B02512</td>\n",
       "      <td>2014-04-01</td>\n",
       "      <td>00:21:00</td>\n",
       "      <td>0</td>\n",
       "      <td>1</td>\n",
       "    </tr>\n",
       "    <tr>\n",
       "      <th>3</th>\n",
       "      <td>40.7588</td>\n",
       "      <td>-73.9776</td>\n",
       "      <td>B02512</td>\n",
       "      <td>2014-04-01</td>\n",
       "      <td>00:28:00</td>\n",
       "      <td>0</td>\n",
       "      <td>1</td>\n",
       "    </tr>\n",
       "    <tr>\n",
       "      <th>4</th>\n",
       "      <td>40.7594</td>\n",
       "      <td>-73.9722</td>\n",
       "      <td>B02512</td>\n",
       "      <td>2014-04-01</td>\n",
       "      <td>00:33:00</td>\n",
       "      <td>0</td>\n",
       "      <td>1</td>\n",
       "    </tr>\n",
       "  </tbody>\n",
       "</table>\n",
       "</div>"
      ],
      "text/plain": [
       "       lat      lon    base    new_date  new_time  hour  day\n",
       "0  40.7690 -73.9549  B02512  2014-04-01  00:11:00     0    1\n",
       "1  40.7267 -74.0345  B02512  2014-04-01  00:17:00     0    1\n",
       "2  40.7316 -73.9873  B02512  2014-04-01  00:21:00     0    1\n",
       "3  40.7588 -73.9776  B02512  2014-04-01  00:28:00     0    1\n",
       "4  40.7594 -73.9722  B02512  2014-04-01  00:33:00     0    1"
      ]
     },
     "execution_count": 28,
     "metadata": {},
     "output_type": "execute_result"
    }
   ],
   "source": [
    "df_def.head()"
   ]
  },
  {
   "cell_type": "code",
   "execution_count": 29,
   "id": "579b5e48",
   "metadata": {},
   "outputs": [],
   "source": [
    "df_j1 = df_def[(df_def.day == 0) & (df_def.hour <=23)]"
   ]
  },
  {
   "cell_type": "code",
   "execution_count": 30,
   "id": "2a46117d",
   "metadata": {},
   "outputs": [
    {
     "data": {
      "text/html": [
       "<div>\n",
       "<style scoped>\n",
       "    .dataframe tbody tr th:only-of-type {\n",
       "        vertical-align: middle;\n",
       "    }\n",
       "\n",
       "    .dataframe tbody tr th {\n",
       "        vertical-align: top;\n",
       "    }\n",
       "\n",
       "    .dataframe thead th {\n",
       "        text-align: right;\n",
       "    }\n",
       "</style>\n",
       "<table border=\"1\" class=\"dataframe\">\n",
       "  <thead>\n",
       "    <tr style=\"text-align: right;\">\n",
       "      <th></th>\n",
       "      <th>lat</th>\n",
       "      <th>lon</th>\n",
       "      <th>base</th>\n",
       "      <th>new_date</th>\n",
       "      <th>new_time</th>\n",
       "      <th>hour</th>\n",
       "      <th>day</th>\n",
       "    </tr>\n",
       "  </thead>\n",
       "  <tbody>\n",
       "    <tr>\n",
       "      <th>7785</th>\n",
       "      <td>40.7205</td>\n",
       "      <td>-73.9939</td>\n",
       "      <td>B02512</td>\n",
       "      <td>2014-04-07</td>\n",
       "      <td>00:31:00</td>\n",
       "      <td>0</td>\n",
       "      <td>0</td>\n",
       "    </tr>\n",
       "    <tr>\n",
       "      <th>7786</th>\n",
       "      <td>40.7407</td>\n",
       "      <td>-74.0077</td>\n",
       "      <td>B02512</td>\n",
       "      <td>2014-04-07</td>\n",
       "      <td>00:37:00</td>\n",
       "      <td>0</td>\n",
       "      <td>0</td>\n",
       "    </tr>\n",
       "    <tr>\n",
       "      <th>7787</th>\n",
       "      <td>40.7591</td>\n",
       "      <td>-73.9892</td>\n",
       "      <td>B02512</td>\n",
       "      <td>2014-04-07</td>\n",
       "      <td>00:50:00</td>\n",
       "      <td>0</td>\n",
       "      <td>0</td>\n",
       "    </tr>\n",
       "    <tr>\n",
       "      <th>7788</th>\n",
       "      <td>40.7419</td>\n",
       "      <td>-74.0034</td>\n",
       "      <td>B02512</td>\n",
       "      <td>2014-04-07</td>\n",
       "      <td>00:58:00</td>\n",
       "      <td>0</td>\n",
       "      <td>0</td>\n",
       "    </tr>\n",
       "    <tr>\n",
       "      <th>7789</th>\n",
       "      <td>40.7419</td>\n",
       "      <td>-74.0034</td>\n",
       "      <td>B02512</td>\n",
       "      <td>2014-04-07</td>\n",
       "      <td>01:27:00</td>\n",
       "      <td>1</td>\n",
       "      <td>0</td>\n",
       "    </tr>\n",
       "    <tr>\n",
       "      <th>...</th>\n",
       "      <td>...</td>\n",
       "      <td>...</td>\n",
       "      <td>...</td>\n",
       "      <td>...</td>\n",
       "      <td>...</td>\n",
       "      <td>...</td>\n",
       "      <td>...</td>\n",
       "    </tr>\n",
       "    <tr>\n",
       "      <th>1020560</th>\n",
       "      <td>40.7028</td>\n",
       "      <td>-73.9088</td>\n",
       "      <td>B02764</td>\n",
       "      <td>2014-09-29</td>\n",
       "      <td>23:55:00</td>\n",
       "      <td>23</td>\n",
       "      <td>0</td>\n",
       "    </tr>\n",
       "    <tr>\n",
       "      <th>1020561</th>\n",
       "      <td>40.6920</td>\n",
       "      <td>-73.9912</td>\n",
       "      <td>B02764</td>\n",
       "      <td>2014-09-29</td>\n",
       "      <td>23:55:00</td>\n",
       "      <td>23</td>\n",
       "      <td>0</td>\n",
       "    </tr>\n",
       "    <tr>\n",
       "      <th>1020562</th>\n",
       "      <td>40.7323</td>\n",
       "      <td>-73.9879</td>\n",
       "      <td>B02764</td>\n",
       "      <td>2014-09-29</td>\n",
       "      <td>23:56:00</td>\n",
       "      <td>23</td>\n",
       "      <td>0</td>\n",
       "    </tr>\n",
       "    <tr>\n",
       "      <th>1020564</th>\n",
       "      <td>40.7193</td>\n",
       "      <td>-74.0474</td>\n",
       "      <td>B02764</td>\n",
       "      <td>2014-09-29</td>\n",
       "      <td>23:57:00</td>\n",
       "      <td>23</td>\n",
       "      <td>0</td>\n",
       "    </tr>\n",
       "    <tr>\n",
       "      <th>1020567</th>\n",
       "      <td>40.7310</td>\n",
       "      <td>-73.9914</td>\n",
       "      <td>B02764</td>\n",
       "      <td>2014-09-29</td>\n",
       "      <td>23:59:00</td>\n",
       "      <td>23</td>\n",
       "      <td>0</td>\n",
       "    </tr>\n",
       "  </tbody>\n",
       "</table>\n",
       "<p>505347 rows × 7 columns</p>\n",
       "</div>"
      ],
      "text/plain": [
       "             lat      lon    base    new_date  new_time  hour  day\n",
       "7785     40.7205 -73.9939  B02512  2014-04-07  00:31:00     0    0\n",
       "7786     40.7407 -74.0077  B02512  2014-04-07  00:37:00     0    0\n",
       "7787     40.7591 -73.9892  B02512  2014-04-07  00:50:00     0    0\n",
       "7788     40.7419 -74.0034  B02512  2014-04-07  00:58:00     0    0\n",
       "7789     40.7419 -74.0034  B02512  2014-04-07  01:27:00     1    0\n",
       "...          ...      ...     ...         ...       ...   ...  ...\n",
       "1020560  40.7028 -73.9088  B02764  2014-09-29  23:55:00    23    0\n",
       "1020561  40.6920 -73.9912  B02764  2014-09-29  23:55:00    23    0\n",
       "1020562  40.7323 -73.9879  B02764  2014-09-29  23:56:00    23    0\n",
       "1020564  40.7193 -74.0474  B02764  2014-09-29  23:57:00    23    0\n",
       "1020567  40.7310 -73.9914  B02764  2014-09-29  23:59:00    23    0\n",
       "\n",
       "[505347 rows x 7 columns]"
      ]
     },
     "execution_count": 30,
     "metadata": {},
     "output_type": "execute_result"
    }
   ],
   "source": [
    "df_j1"
   ]
  },
  {
   "cell_type": "code",
   "execution_count": 31,
   "id": "9ce7a3e9",
   "metadata": {},
   "outputs": [],
   "source": [
    "df_j1 = df_j1.drop(columns=['base', 'new_date', 'new_time'])"
   ]
  },
  {
   "cell_type": "code",
   "execution_count": 32,
   "id": "57b168d0",
   "metadata": {},
   "outputs": [
    {
     "data": {
      "text/html": [
       "<div>\n",
       "<style scoped>\n",
       "    .dataframe tbody tr th:only-of-type {\n",
       "        vertical-align: middle;\n",
       "    }\n",
       "\n",
       "    .dataframe tbody tr th {\n",
       "        vertical-align: top;\n",
       "    }\n",
       "\n",
       "    .dataframe thead th {\n",
       "        text-align: right;\n",
       "    }\n",
       "</style>\n",
       "<table border=\"1\" class=\"dataframe\">\n",
       "  <thead>\n",
       "    <tr style=\"text-align: right;\">\n",
       "      <th></th>\n",
       "      <th>lat</th>\n",
       "      <th>lon</th>\n",
       "      <th>hour</th>\n",
       "      <th>day</th>\n",
       "    </tr>\n",
       "  </thead>\n",
       "  <tbody>\n",
       "    <tr>\n",
       "      <th>7785</th>\n",
       "      <td>40.7205</td>\n",
       "      <td>-73.9939</td>\n",
       "      <td>0</td>\n",
       "      <td>0</td>\n",
       "    </tr>\n",
       "    <tr>\n",
       "      <th>7786</th>\n",
       "      <td>40.7407</td>\n",
       "      <td>-74.0077</td>\n",
       "      <td>0</td>\n",
       "      <td>0</td>\n",
       "    </tr>\n",
       "    <tr>\n",
       "      <th>7787</th>\n",
       "      <td>40.7591</td>\n",
       "      <td>-73.9892</td>\n",
       "      <td>0</td>\n",
       "      <td>0</td>\n",
       "    </tr>\n",
       "    <tr>\n",
       "      <th>7788</th>\n",
       "      <td>40.7419</td>\n",
       "      <td>-74.0034</td>\n",
       "      <td>0</td>\n",
       "      <td>0</td>\n",
       "    </tr>\n",
       "    <tr>\n",
       "      <th>7789</th>\n",
       "      <td>40.7419</td>\n",
       "      <td>-74.0034</td>\n",
       "      <td>1</td>\n",
       "      <td>0</td>\n",
       "    </tr>\n",
       "    <tr>\n",
       "      <th>...</th>\n",
       "      <td>...</td>\n",
       "      <td>...</td>\n",
       "      <td>...</td>\n",
       "      <td>...</td>\n",
       "    </tr>\n",
       "    <tr>\n",
       "      <th>1020560</th>\n",
       "      <td>40.7028</td>\n",
       "      <td>-73.9088</td>\n",
       "      <td>23</td>\n",
       "      <td>0</td>\n",
       "    </tr>\n",
       "    <tr>\n",
       "      <th>1020561</th>\n",
       "      <td>40.6920</td>\n",
       "      <td>-73.9912</td>\n",
       "      <td>23</td>\n",
       "      <td>0</td>\n",
       "    </tr>\n",
       "    <tr>\n",
       "      <th>1020562</th>\n",
       "      <td>40.7323</td>\n",
       "      <td>-73.9879</td>\n",
       "      <td>23</td>\n",
       "      <td>0</td>\n",
       "    </tr>\n",
       "    <tr>\n",
       "      <th>1020564</th>\n",
       "      <td>40.7193</td>\n",
       "      <td>-74.0474</td>\n",
       "      <td>23</td>\n",
       "      <td>0</td>\n",
       "    </tr>\n",
       "    <tr>\n",
       "      <th>1020567</th>\n",
       "      <td>40.7310</td>\n",
       "      <td>-73.9914</td>\n",
       "      <td>23</td>\n",
       "      <td>0</td>\n",
       "    </tr>\n",
       "  </tbody>\n",
       "</table>\n",
       "<p>505347 rows × 4 columns</p>\n",
       "</div>"
      ],
      "text/plain": [
       "             lat      lon  hour  day\n",
       "7785     40.7205 -73.9939     0    0\n",
       "7786     40.7407 -74.0077     0    0\n",
       "7787     40.7591 -73.9892     0    0\n",
       "7788     40.7419 -74.0034     0    0\n",
       "7789     40.7419 -74.0034     1    0\n",
       "...          ...      ...   ...  ...\n",
       "1020560  40.7028 -73.9088    23    0\n",
       "1020561  40.6920 -73.9912    23    0\n",
       "1020562  40.7323 -73.9879    23    0\n",
       "1020564  40.7193 -74.0474    23    0\n",
       "1020567  40.7310 -73.9914    23    0\n",
       "\n",
       "[505347 rows x 4 columns]"
      ]
     },
     "execution_count": 32,
     "metadata": {},
     "output_type": "execute_result"
    }
   ],
   "source": [
    "df_j1"
   ]
  },
  {
   "cell_type": "code",
   "execution_count": 33,
   "id": "c5f2cd4a",
   "metadata": {},
   "outputs": [],
   "source": [
    "numeric_features = [0, 1, 2, 3] # Positions des colonnes quantitatives dans X\n",
    "numeric_transformer = StandardScaler()\n",
    "\n",
    "# On combine les transformers dans un ColumnTransformer\n",
    "preprocessor = ColumnTransformer(\n",
    "    transformers=[\n",
    "        ('num', numeric_transformer, numeric_features),\n",
    "        \n",
    "    ])\n",
    "\n",
    "X_total = preprocessor.fit_transform(df_j1) # fit_transform !!\n",
    "\n",
    "db = DBSCAN(eps=0.2, min_samples=100, algorithm=\"brute\")\n",
    "\n",
    "db.fit(X_total)\n",
    "np.unique(db.labels_)\n",
    "df_j1[\"cluster\"] = db.labels_\n"
   ]
  },
  {
   "cell_type": "code",
   "execution_count": 34,
   "id": "a0daf1b3",
   "metadata": {},
   "outputs": [
    {
     "data": {
      "text/html": [
       "<iframe\n",
       "    scrolling=\"no\"\n",
       "    width=\"100%\"\n",
       "    height=\"545px\"\n",
       "    src=\"iframe_figures/figure_34.html\"\n",
       "    frameborder=\"0\"\n",
       "    allowfullscreen\n",
       "></iframe>\n"
      ]
     },
     "metadata": {},
     "output_type": "display_data"
    }
   ],
   "source": [
    "fig = px.scatter_mapbox(df_j1[(df_j1.cluster >=-1)], \n",
    "        lat=\"lat\", \n",
    "        lon=\"lon\",\n",
    "        hover_name = 'hour',                \n",
    "        color=\"cluster\",\n",
    "        mapbox_style=\"carto-positron\",\n",
    "        animation_frame=\"hour\"\n",
    ")\n",
    "fig.show()"
   ]
  },
  {
   "cell_type": "markdown",
   "id": "85d7ac27",
   "metadata": {},
   "source": [
    "VISUALITION MARDI TOUTES LES HEURES"
   ]
  },
  {
   "cell_type": "code",
   "execution_count": 35,
   "id": "4b5bef8a",
   "metadata": {},
   "outputs": [],
   "source": [
    "df_j1 = df_def[(df_def.day == 0) & (df_def.hour <=23)].drop(columns=['base', 'new_date', 'new_time'])"
   ]
  },
  {
   "cell_type": "code",
   "execution_count": 38,
   "id": "8245b023",
   "metadata": {},
   "outputs": [],
   "source": [
    "X_total = preprocessor.fit_transform(df_j1) # fit_transform !!\n",
    "\n",
    "db = DBSCAN(eps=0.2, min_samples=100, algorithm=\"brute\")\n",
    "\n",
    "db.fit(X_total)\n",
    "np.unique(db.labels_)\n",
    "df_j1[\"cluster\"] = db.labels_"
   ]
  },
  {
   "cell_type": "code",
   "execution_count": 39,
   "id": "50f17e27",
   "metadata": {},
   "outputs": [
    {
     "data": {
      "text/html": [
       "<iframe\n",
       "    scrolling=\"no\"\n",
       "    width=\"100%\"\n",
       "    height=\"545px\"\n",
       "    src=\"iframe_figures/figure_39.html\"\n",
       "    frameborder=\"0\"\n",
       "    allowfullscreen\n",
       "></iframe>\n"
      ]
     },
     "metadata": {},
     "output_type": "display_data"
    }
   ],
   "source": [
    "fig = px.scatter_mapbox(df_j1[(df_j1.cluster >=-1)], \n",
    "        lat=\"lat\", \n",
    "        lon=\"lon\",\n",
    "        hover_name = 'hour',                \n",
    "        color=\"cluster\",\n",
    "        mapbox_style=\"carto-positron\",\n",
    "        animation_frame=\"hour\"\n",
    ")\n",
    "fig.show()"
   ]
  },
  {
   "cell_type": "code",
   "execution_count": null,
   "id": "caa5f440",
   "metadata": {},
   "outputs": [],
   "source": []
  }
 ],
 "metadata": {
  "kernelspec": {
   "display_name": "Python 3 (ipykernel)",
   "language": "python",
   "name": "python3"
  },
  "language_info": {
   "codemirror_mode": {
    "name": "ipython",
    "version": 3
   },
   "file_extension": ".py",
   "mimetype": "text/x-python",
   "name": "python",
   "nbconvert_exporter": "python",
   "pygments_lexer": "ipython3",
   "version": "3.9.12"
  }
 },
 "nbformat": 4,
 "nbformat_minor": 5
}
