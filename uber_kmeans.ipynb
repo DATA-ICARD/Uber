{
 "cells": [
  {
   "cell_type": "code",
   "execution_count": 15,
   "id": "8fd74cac",
   "metadata": {},
   "outputs": [
    {
     "name": "stdout",
     "output_type": "stream",
     "text": [
      "Requirement already satisfied: pandas in /opt/conda/lib/python3.8/site-packages (1.1.0)\n",
      "Requirement already satisfied: pytz>=2017.2 in /opt/conda/lib/python3.8/site-packages (from pandas) (2020.1)\n",
      "Requirement already satisfied: numpy>=1.15.4 in /opt/conda/lib/python3.8/site-packages (from pandas) (1.19.1)\n",
      "Requirement already satisfied: python-dateutil>=2.7.3 in /opt/conda/lib/python3.8/site-packages (from pandas) (2.8.1)\n",
      "Requirement already satisfied: six>=1.5 in /opt/conda/lib/python3.8/site-packages (from python-dateutil>=2.7.3->pandas) (1.15.0)\n",
      "Note: you may need to restart the kernel to use updated packages.\n"
     ]
    }
   ],
   "source": [
    "pip install pandas"
   ]
  },
  {
   "cell_type": "code",
   "execution_count": 1,
   "id": "6fbfe454",
   "metadata": {},
   "outputs": [],
   "source": [
    "import pandas as pd\n",
    "import numpy as np\n",
    "import pickle as pk\n",
    "\n",
    "from sklearn.pipeline import Pipeline\n",
    "from sklearn.impute import SimpleImputer\n",
    "from sklearn.preprocessing import  OneHotEncoder, StandardScaler\n",
    "from sklearn.compose import ColumnTransformer\n",
    "from sklearn.cluster import KMeans, DBSCAN\n",
    "from sklearn.metrics import  silhouette_score\n",
    "\n",
    "import warnings\n",
    "warnings.filterwarnings(\"ignore\", category=DeprecationWarning) \n",
    "\n",
    "import plotly.express as px\n",
    "import plotly.io as pio\n",
    "pio.renderers.default = \"iframe_connected\""
   ]
  },
  {
   "cell_type": "code",
   "execution_count": 2,
   "id": "3ca25af3",
   "metadata": {},
   "outputs": [],
   "source": [
    "#import libraries\n",
    "%matplotlib notebook\n",
    "import matplotlib.pyplot as plt\n",
    "import plotly.express as px\n",
    "import plotly.graph_objects as go\n",
    "from plotly.subplots import make_subplots"
   ]
  },
  {
   "cell_type": "code",
   "execution_count": 3,
   "id": "e5f515f0",
   "metadata": {},
   "outputs": [],
   "source": [
    "df_apr = pd.read_csv('uber-raw-data-apr14.csv')\n",
    "df_may = pd.read_csv('uber-raw-data-may14.csv')\n",
    "df_jun = pd.read_csv('uber-raw-data-jun14.csv')\n",
    "df_jul = pd.read_csv('uber-raw-data-jul14.csv')\n",
    "df_aug = pd.read_csv('uber-raw-data-aug14.csv')\n",
    "df_sep = pd.read_csv('uber-raw-data-sep14.csv')"
   ]
  },
  {
   "cell_type": "code",
   "execution_count": 4,
   "id": "f426ccbc",
   "metadata": {},
   "outputs": [],
   "source": [
    "df_def = pd.concat([df_apr, df_aug, df_jul, df_jun, df_may, df_sep])"
   ]
  },
  {
   "cell_type": "code",
   "execution_count": 5,
   "id": "0bc4d4dc",
   "metadata": {},
   "outputs": [],
   "source": [
    "df_def.columns = [x.lower().replace('/', '_') for x in df_def.columns]"
   ]
  },
  {
   "cell_type": "code",
   "execution_count": 6,
   "id": "bfe33f03",
   "metadata": {},
   "outputs": [],
   "source": [
    "df_def.date_time = pd.to_datetime(df_def['date_time'])"
   ]
  },
  {
   "cell_type": "code",
   "execution_count": 7,
   "id": "2dce71ea",
   "metadata": {},
   "outputs": [],
   "source": [
    "new_dates, new_times = zip(*[(d.date(), d.time()) for d in df_def['date_time']])\n",
    "df_def = df_def.assign(new_date=new_dates, new_time=new_times)\n",
    "df_def['hour'] = df_def.date_time.dt.hour\n",
    "df_def['day'] = df_def.date_time.dt.dayofweek"
   ]
  },
  {
   "cell_type": "code",
   "execution_count": 8,
   "id": "339a9b65",
   "metadata": {},
   "outputs": [],
   "source": [
    "df_def = df_def.drop(columns=[\"date_time\"])"
   ]
  },
  {
   "cell_type": "markdown",
   "id": "374552e9",
   "metadata": {},
   "source": [
    "DROP OUTLIER"
   ]
  },
  {
   "cell_type": "code",
   "execution_count": 9,
   "id": "ed081dc5",
   "metadata": {},
   "outputs": [],
   "source": [
    "for i in ['lat', 'lon',]:\n",
    "    df_def = df_def[~(np.abs(df_def[i]-df_def[i].mean()) > (3*df_def[i].std()))]"
   ]
  },
  {
   "cell_type": "markdown",
   "id": "dd7fbc9e",
   "metadata": {},
   "source": [
    "DETERMINATION DES COLONNES ET STANDARDSCALER"
   ]
  },
  {
   "cell_type": "code",
   "execution_count": 10,
   "id": "694fcfe9",
   "metadata": {},
   "outputs": [],
   "source": [
    "#data test / samedi à 20h\n",
    "data_test = df_def.loc[(df_def['hour'] == 20) & (df_def['day'] == 5)]"
   ]
  },
  {
   "cell_type": "code",
   "execution_count": 11,
   "id": "20f7614a",
   "metadata": {},
   "outputs": [],
   "source": [
    "data_test = data_test.drop(columns=['base', 'new_date', 'new_time'])"
   ]
  },
  {
   "cell_type": "code",
   "execution_count": 12,
   "id": "229446b3",
   "metadata": {},
   "outputs": [
    {
     "data": {
      "text/html": [
       "<div>\n",
       "<style scoped>\n",
       "    .dataframe tbody tr th:only-of-type {\n",
       "        vertical-align: middle;\n",
       "    }\n",
       "\n",
       "    .dataframe tbody tr th {\n",
       "        vertical-align: top;\n",
       "    }\n",
       "\n",
       "    .dataframe thead th {\n",
       "        text-align: right;\n",
       "    }\n",
       "</style>\n",
       "<table border=\"1\" class=\"dataframe\">\n",
       "  <thead>\n",
       "    <tr style=\"text-align: right;\">\n",
       "      <th></th>\n",
       "      <th>lat</th>\n",
       "      <th>lon</th>\n",
       "      <th>hour</th>\n",
       "      <th>day</th>\n",
       "    </tr>\n",
       "  </thead>\n",
       "  <tbody>\n",
       "    <tr>\n",
       "      <th>6592</th>\n",
       "      <td>40.7735</td>\n",
       "      <td>-73.9599</td>\n",
       "      <td>20</td>\n",
       "      <td>5</td>\n",
       "    </tr>\n",
       "    <tr>\n",
       "      <th>6593</th>\n",
       "      <td>40.7110</td>\n",
       "      <td>-74.0056</td>\n",
       "      <td>20</td>\n",
       "      <td>5</td>\n",
       "    </tr>\n",
       "    <tr>\n",
       "      <th>6594</th>\n",
       "      <td>40.7707</td>\n",
       "      <td>-73.9620</td>\n",
       "      <td>20</td>\n",
       "      <td>5</td>\n",
       "    </tr>\n",
       "    <tr>\n",
       "      <th>6595</th>\n",
       "      <td>40.7154</td>\n",
       "      <td>-74.0076</td>\n",
       "      <td>20</td>\n",
       "      <td>5</td>\n",
       "    </tr>\n",
       "    <tr>\n",
       "      <th>6596</th>\n",
       "      <td>40.7644</td>\n",
       "      <td>-73.9719</td>\n",
       "      <td>20</td>\n",
       "      <td>5</td>\n",
       "    </tr>\n",
       "  </tbody>\n",
       "</table>\n",
       "</div>"
      ],
      "text/plain": [
       "          lat      lon  hour  day\n",
       "6592  40.7735 -73.9599    20    5\n",
       "6593  40.7110 -74.0056    20    5\n",
       "6594  40.7707 -73.9620    20    5\n",
       "6595  40.7154 -74.0076    20    5\n",
       "6596  40.7644 -73.9719    20    5"
      ]
     },
     "execution_count": 12,
     "metadata": {},
     "output_type": "execute_result"
    }
   ],
   "source": [
    "data_test.head()"
   ]
  },
  {
   "cell_type": "code",
   "execution_count": 13,
   "id": "4f012494",
   "metadata": {},
   "outputs": [],
   "source": [
    "from sklearn.preprocessing import StandardScaler"
   ]
  },
  {
   "cell_type": "code",
   "execution_count": 14,
   "id": "ff35656e",
   "metadata": {},
   "outputs": [],
   "source": [
    "# Création du pipeline pour les variables quantitatives\n",
    "numeric_features = [0,1,2,3] # Positions des colonnes quantitatives dans X\n",
    "numeric_transformer = Pipeline(steps=[\n",
    "    ('scaler', StandardScaler()) # pour normaliser les variables\n",
    "])"
   ]
  },
  {
   "cell_type": "code",
   "execution_count": 15,
   "id": "0621bcd6",
   "metadata": {},
   "outputs": [],
   "source": [
    "preprocessor = ColumnTransformer(\n",
    "    transformers=[\n",
    "        ('num', numeric_transformer, numeric_features)     \n",
    "    ])"
   ]
  },
  {
   "cell_type": "code",
   "execution_count": 16,
   "id": "42cbc1cf",
   "metadata": {},
   "outputs": [
    {
     "name": "stdout",
     "output_type": "stream",
     "text": [
      "Preprocessing sur le train set...\n",
      "          lat      lon  hour  day\n",
      "6592  40.7735 -73.9599    20    5\n",
      "6593  40.7110 -74.0056    20    5\n",
      "6594  40.7707 -73.9620    20    5\n",
      "6595  40.7154 -74.0076    20    5\n",
      "6596  40.7644 -73.9719    20    5\n",
      "...Terminé.\n",
      "[[ 1.11333206  0.569842    0.          0.        ]\n",
      " [-0.74013632 -0.89110202  0.          0.        ]\n",
      " [ 1.03029667  0.50270891  0.          0.        ]\n",
      " [-0.60965215 -0.9550383   0.          0.        ]\n",
      " [ 0.84346706  0.18622432  0.          0.        ]]\n",
      "\n"
     ]
    }
   ],
   "source": [
    "# Preprocessings sur le dataset\n",
    "print(\"Preprocessing sur le train set...\")\n",
    "print(data_test.head())\n",
    "X = preprocessor.fit_transform(data_test) # fit_transform !!\n",
    "print('...Terminé.')\n",
    "print(X[0:5, :])\n",
    "print()"
   ]
  },
  {
   "cell_type": "code",
   "execution_count": 17,
   "id": "dc8088ff",
   "metadata": {},
   "outputs": [
    {
     "name": "stdout",
     "output_type": "stream",
     "text": [
      "[47509.32541689665, 33093.03626006506, 22789.837146531103, 18749.160695900737, 15078.502811739567, 13468.91749912749, 12124.966754117253, 10929.773584663135, 10024.301279352318]\n"
     ]
    }
   ],
   "source": [
    "# Utilisation de la méthode Elbow pour trouver le nombre optimal de clusters\n",
    "\n",
    "wcss =  []\n",
    "for i in range (2,11): \n",
    "    kmeans = KMeans(n_clusters= i)\n",
    "    kmeans.fit(X)\n",
    "    wcss.append(kmeans.inertia_)\n",
    "    \n",
    "print(wcss)"
   ]
  },
  {
   "cell_type": "code",
   "execution_count": 18,
   "id": "ce4cff8d",
   "metadata": {},
   "outputs": [
    {
     "data": {
      "text/html": [
       "<iframe\n",
       "    scrolling=\"no\"\n",
       "    width=\"100%\"\n",
       "    height=\"545px\"\n",
       "    src=\"iframe_figures/figure_18.html\"\n",
       "    frameborder=\"0\"\n",
       "    allowfullscreen\n",
       "></iframe>\n"
      ]
     },
     "metadata": {},
     "output_type": "display_data"
    }
   ],
   "source": [
    "fig = px.line(x = range(2,11), y = wcss)\n",
    "fig.show()"
   ]
  },
  {
   "cell_type": "code",
   "execution_count": 19,
   "id": "000c570c",
   "metadata": {},
   "outputs": [
    {
     "name": "stdout",
     "output_type": "stream",
     "text": [
      "[0.38660555969469607, 0.4266390949768508, 0.43387934361013825, 0.3847555209675602, 0.40939018693210993, 0.34926920608748047, 0.35565199299028427, 0.361575790563363, 0.36294565865195044]\n"
     ]
    }
   ],
   "source": [
    "# Utilisation du silhouette_score pour déterminer le nombre optimal de clusters\n",
    "s_score = []\n",
    "for i in range (2,11): \n",
    "    kmeans = KMeans(n_clusters= i)\n",
    "    kmeans.fit(X)\n",
    "    s_score.append(silhouette_score(X, kmeans.predict(X)))\n",
    "\n",
    "print(s_score)"
   ]
  },
  {
   "cell_type": "code",
   "execution_count": 20,
   "id": "1222de6e",
   "metadata": {},
   "outputs": [
    {
     "data": {
      "text/html": [
       "<iframe\n",
       "    scrolling=\"no\"\n",
       "    width=\"100%\"\n",
       "    height=\"545px\"\n",
       "    src=\"iframe_figures/figure_20.html\"\n",
       "    frameborder=\"0\"\n",
       "    allowfullscreen\n",
       "></iframe>\n"
      ]
     },
     "metadata": {},
     "output_type": "display_data"
    }
   ],
   "source": [
    "# Affichage de scores en fonction du nombre de clusters\n",
    "fig = px.bar(x = range(2,11), y = s_score)\n",
    "fig.show(renderer=\"iframe\")"
   ]
  },
  {
   "cell_type": "code",
   "execution_count": 21,
   "id": "4d59793e",
   "metadata": {},
   "outputs": [
    {
     "data": {
      "text/plain": [
       "KMeans(n_clusters=4)"
      ]
     },
     "execution_count": 21,
     "metadata": {},
     "output_type": "execute_result"
    }
   ],
   "source": [
    "# On ré-entraîne un KMeans avec le nombre optimal de clusters\n",
    "kmeans = KMeans(n_clusters= 4)\n",
    "kmeans.fit(X)"
   ]
  },
  {
   "cell_type": "code",
   "execution_count": 22,
   "id": "ba9f0b17",
   "metadata": {},
   "outputs": [
    {
     "data": {
      "text/html": [
       "<div>\n",
       "<style scoped>\n",
       "    .dataframe tbody tr th:only-of-type {\n",
       "        vertical-align: middle;\n",
       "    }\n",
       "\n",
       "    .dataframe tbody tr th {\n",
       "        vertical-align: top;\n",
       "    }\n",
       "\n",
       "    .dataframe thead th {\n",
       "        text-align: right;\n",
       "    }\n",
       "</style>\n",
       "<table border=\"1\" class=\"dataframe\">\n",
       "  <thead>\n",
       "    <tr style=\"text-align: right;\">\n",
       "      <th></th>\n",
       "      <th>lat</th>\n",
       "      <th>lon</th>\n",
       "      <th>hour</th>\n",
       "      <th>day</th>\n",
       "      <th>Cluster_KMeans</th>\n",
       "    </tr>\n",
       "  </thead>\n",
       "  <tbody>\n",
       "    <tr>\n",
       "      <th>6592</th>\n",
       "      <td>40.7735</td>\n",
       "      <td>-73.9599</td>\n",
       "      <td>20</td>\n",
       "      <td>5</td>\n",
       "      <td>3</td>\n",
       "    </tr>\n",
       "    <tr>\n",
       "      <th>6593</th>\n",
       "      <td>40.7110</td>\n",
       "      <td>-74.0056</td>\n",
       "      <td>20</td>\n",
       "      <td>5</td>\n",
       "      <td>1</td>\n",
       "    </tr>\n",
       "    <tr>\n",
       "      <th>6594</th>\n",
       "      <td>40.7707</td>\n",
       "      <td>-73.9620</td>\n",
       "      <td>20</td>\n",
       "      <td>5</td>\n",
       "      <td>3</td>\n",
       "    </tr>\n",
       "    <tr>\n",
       "      <th>6595</th>\n",
       "      <td>40.7154</td>\n",
       "      <td>-74.0076</td>\n",
       "      <td>20</td>\n",
       "      <td>5</td>\n",
       "      <td>1</td>\n",
       "    </tr>\n",
       "    <tr>\n",
       "      <th>6596</th>\n",
       "      <td>40.7644</td>\n",
       "      <td>-73.9719</td>\n",
       "      <td>20</td>\n",
       "      <td>5</td>\n",
       "      <td>3</td>\n",
       "    </tr>\n",
       "  </tbody>\n",
       "</table>\n",
       "</div>"
      ],
      "text/plain": [
       "          lat      lon  hour  day  Cluster_KMeans\n",
       "6592  40.7735 -73.9599    20    5               3\n",
       "6593  40.7110 -74.0056    20    5               1\n",
       "6594  40.7707 -73.9620    20    5               3\n",
       "6595  40.7154 -74.0076    20    5               1\n",
       "6596  40.7644 -73.9719    20    5               3"
      ]
     },
     "execution_count": 22,
     "metadata": {},
     "output_type": "execute_result"
    }
   ],
   "source": [
    "data_test.loc[:,'Cluster_KMeans'] = kmeans.predict(X)\n",
    "data_test.head()"
   ]
  },
  {
   "cell_type": "code",
   "execution_count": 23,
   "id": "be672144",
   "metadata": {},
   "outputs": [
    {
     "data": {
      "text/html": [
       "<iframe\n",
       "    scrolling=\"no\"\n",
       "    width=\"100%\"\n",
       "    height=\"545px\"\n",
       "    src=\"iframe_figures/figure_23.html\"\n",
       "    frameborder=\"0\"\n",
       "    allowfullscreen\n",
       "></iframe>\n"
      ]
     },
     "metadata": {},
     "output_type": "display_data"
    }
   ],
   "source": [
    "fig = px.scatter_mapbox(\n",
    "        data_test, \n",
    "        lat=\"lat\", \n",
    "        lon=\"lon\",\n",
    "        color=\"Cluster_KMeans\",\n",
    "        mapbox_style = \"carto-positron\"\n",
    ")\n",
    "\n",
    "fig.show()"
   ]
  },
  {
   "cell_type": "markdown",
   "id": "a3633f54",
   "metadata": {},
   "source": [
    "LUNDI TOUTES LES HEURES"
   ]
  },
  {
   "cell_type": "code",
   "execution_count": 24,
   "id": "0ab1f396",
   "metadata": {},
   "outputs": [],
   "source": [
    "df_lundi = df_def.loc[(df_def['hour'] >=0 ) & (df_def['day'] == 0)]"
   ]
  },
  {
   "cell_type": "code",
   "execution_count": 25,
   "id": "65f1a441",
   "metadata": {},
   "outputs": [],
   "source": [
    "df_lundi = df_lundi.drop(columns=['base', 'new_date', 'new_time'])"
   ]
  },
  {
   "cell_type": "code",
   "execution_count": 26,
   "id": "1707236a",
   "metadata": {},
   "outputs": [],
   "source": [
    "# Création du pipeline pour les variables quantitatives\n",
    "numeric_features = [0,1,2,3] # Positions des colonnes quantitatives dans X\n",
    "numeric_transformer = Pipeline(steps=[\n",
    "    ('scaler', StandardScaler()) # pour normaliser les variables\n",
    "])"
   ]
  },
  {
   "cell_type": "code",
   "execution_count": 27,
   "id": "edc8cb7d",
   "metadata": {},
   "outputs": [],
   "source": [
    "preprocessor = ColumnTransformer(\n",
    "    transformers=[\n",
    "        ('num', numeric_transformer, numeric_features)     \n",
    "    ])"
   ]
  },
  {
   "cell_type": "code",
   "execution_count": 28,
   "id": "61997695",
   "metadata": {},
   "outputs": [
    {
     "name": "stdout",
     "output_type": "stream",
     "text": [
      "Preprocessing sur le train set...\n",
      "          lat      lon  hour  day\n",
      "7785  40.7205 -73.9939     0    0\n",
      "7786  40.7407 -74.0077     0    0\n",
      "7787  40.7591 -73.9892     0    0\n",
      "7788  40.7419 -74.0034     0    0\n",
      "7789  40.7419 -74.0034     1    0\n",
      "...Terminé.\n",
      "[[-0.73576865 -0.5364991  -2.43883748  0.        ]\n",
      " [-0.07787508 -0.96454444 -2.43883748  0.        ]\n",
      " [ 0.52139432 -0.39071554 -2.43883748  0.        ]\n",
      " [-0.03879229 -0.83116799 -2.43883748  0.        ]\n",
      " [-0.03879229 -0.83116799 -2.26114925  0.        ]]\n",
      "\n"
     ]
    }
   ],
   "source": [
    "# Preprocessings sur le dataset\n",
    "print(\"Preprocessing sur le train set...\")\n",
    "print(df_lundi.head())\n",
    "X_lundi = preprocessor.fit_transform(df_lundi) # fit_transform !!\n",
    "print('...Terminé.')\n",
    "print(X_lundi[0:5, :])\n",
    "print()"
   ]
  },
  {
   "cell_type": "code",
   "execution_count": 29,
   "id": "d45f9c9d",
   "metadata": {},
   "outputs": [
    {
     "name": "stdout",
     "output_type": "stream",
     "text": [
      "[1129858.408470433, 829254.0906884766, 653796.3729775192, 536670.931910065, 454001.24636003224, 410963.0778964644, 377629.10321677104, 349135.07134922245, 327949.19692283013]\n"
     ]
    }
   ],
   "source": [
    "# Utilisation de la méthode Elbow pour trouver le nombre optimal de clusters\n",
    "\n",
    "wcss =  []\n",
    "for i in range (2,11): \n",
    "    kmeans = KMeans(n_clusters= i)\n",
    "    kmeans.fit(X_lundi)\n",
    "    wcss.append(kmeans.inertia_)\n",
    "    \n",
    "print(wcss)"
   ]
  },
  {
   "cell_type": "code",
   "execution_count": 30,
   "id": "040c9729",
   "metadata": {},
   "outputs": [
    {
     "data": {
      "text/html": [
       "<iframe\n",
       "    scrolling=\"no\"\n",
       "    width=\"100%\"\n",
       "    height=\"545px\"\n",
       "    src=\"iframe_figures/figure_30.html\"\n",
       "    frameborder=\"0\"\n",
       "    allowfullscreen\n",
       "></iframe>\n"
      ]
     },
     "metadata": {},
     "output_type": "display_data"
    }
   ],
   "source": [
    "fig = px.line(x = range(2,11), y = wcss)\n",
    "fig.show()"
   ]
  },
  {
   "cell_type": "code",
   "execution_count": 31,
   "id": "461088e3",
   "metadata": {},
   "outputs": [
    {
     "name": "stdout",
     "output_type": "stream",
     "text": [
      "[0.3052534027367636, 0.34327960181750544, 0.31798711024640336, 0.3117639251540053, 0.318310413244829, 0.3231756161781162, 0.31424404969706793, 0.2965147395054782, 0.28563499384116064]\n"
     ]
    }
   ],
   "source": [
    "# Utilisation du silhouette_score pour déterminer le nombre optimal de clusters\n",
    "s_score = []\n",
    "for i in range (2,11): \n",
    "    kmeans = KMeans(n_clusters= i)\n",
    "    kmeans.fit(X_lundi)\n",
    "    s_score.append(silhouette_score(X_lundi, kmeans.predict(X_lundi)))\n",
    "\n",
    "print(s_score)"
   ]
  },
  {
   "cell_type": "code",
   "execution_count": 32,
   "id": "d382f6eb",
   "metadata": {},
   "outputs": [
    {
     "data": {
      "text/html": [
       "<iframe\n",
       "    scrolling=\"no\"\n",
       "    width=\"100%\"\n",
       "    height=\"545px\"\n",
       "    src=\"iframe_figures/figure_32.html\"\n",
       "    frameborder=\"0\"\n",
       "    allowfullscreen\n",
       "></iframe>\n"
      ]
     },
     "metadata": {},
     "output_type": "display_data"
    }
   ],
   "source": [
    "# Affichage de scores en fonction du nombre de clusters\n",
    "fig = px.bar(x = range(2,11), y = s_score)\n",
    "fig.show(renderer=\"iframe\")"
   ]
  },
  {
   "cell_type": "code",
   "execution_count": 33,
   "id": "1e9eea0f",
   "metadata": {},
   "outputs": [
    {
     "data": {
      "text/plain": [
       "KMeans(n_clusters=4)"
      ]
     },
     "execution_count": 33,
     "metadata": {},
     "output_type": "execute_result"
    }
   ],
   "source": [
    "# On ré-entraîne un KMeans avec le nombre optimal de clusters\n",
    "kmeans = KMeans(n_clusters= 3)\n",
    "kmeans.fit(X_lundi)"
   ]
  },
  {
   "cell_type": "code",
   "execution_count": 34,
   "id": "76d15585",
   "metadata": {},
   "outputs": [
    {
     "data": {
      "text/html": [
       "<div>\n",
       "<style scoped>\n",
       "    .dataframe tbody tr th:only-of-type {\n",
       "        vertical-align: middle;\n",
       "    }\n",
       "\n",
       "    .dataframe tbody tr th {\n",
       "        vertical-align: top;\n",
       "    }\n",
       "\n",
       "    .dataframe thead th {\n",
       "        text-align: right;\n",
       "    }\n",
       "</style>\n",
       "<table border=\"1\" class=\"dataframe\">\n",
       "  <thead>\n",
       "    <tr style=\"text-align: right;\">\n",
       "      <th></th>\n",
       "      <th>lat</th>\n",
       "      <th>lon</th>\n",
       "      <th>hour</th>\n",
       "      <th>day</th>\n",
       "      <th>Cluster_KMeans</th>\n",
       "    </tr>\n",
       "  </thead>\n",
       "  <tbody>\n",
       "    <tr>\n",
       "      <th>7785</th>\n",
       "      <td>40.7205</td>\n",
       "      <td>-73.9939</td>\n",
       "      <td>0</td>\n",
       "      <td>0</td>\n",
       "      <td>0</td>\n",
       "    </tr>\n",
       "    <tr>\n",
       "      <th>7786</th>\n",
       "      <td>40.7407</td>\n",
       "      <td>-74.0077</td>\n",
       "      <td>0</td>\n",
       "      <td>0</td>\n",
       "      <td>0</td>\n",
       "    </tr>\n",
       "    <tr>\n",
       "      <th>7787</th>\n",
       "      <td>40.7591</td>\n",
       "      <td>-73.9892</td>\n",
       "      <td>0</td>\n",
       "      <td>0</td>\n",
       "      <td>0</td>\n",
       "    </tr>\n",
       "    <tr>\n",
       "      <th>7788</th>\n",
       "      <td>40.7419</td>\n",
       "      <td>-74.0034</td>\n",
       "      <td>0</td>\n",
       "      <td>0</td>\n",
       "      <td>0</td>\n",
       "    </tr>\n",
       "    <tr>\n",
       "      <th>7789</th>\n",
       "      <td>40.7419</td>\n",
       "      <td>-74.0034</td>\n",
       "      <td>1</td>\n",
       "      <td>0</td>\n",
       "      <td>0</td>\n",
       "    </tr>\n",
       "  </tbody>\n",
       "</table>\n",
       "</div>"
      ],
      "text/plain": [
       "          lat      lon  hour  day  Cluster_KMeans\n",
       "7785  40.7205 -73.9939     0    0               0\n",
       "7786  40.7407 -74.0077     0    0               0\n",
       "7787  40.7591 -73.9892     0    0               0\n",
       "7788  40.7419 -74.0034     0    0               0\n",
       "7789  40.7419 -74.0034     1    0               0"
      ]
     },
     "execution_count": 34,
     "metadata": {},
     "output_type": "execute_result"
    }
   ],
   "source": [
    "df_lundi.loc[:,'Cluster_KMeans'] = kmeans.predict(X_lundi)\n",
    "df_lundi.head()"
   ]
  },
  {
   "cell_type": "code",
   "execution_count": 74,
   "id": "c59f7a75",
   "metadata": {},
   "outputs": [
    {
     "data": {
      "text/html": [
       "<iframe\n",
       "    scrolling=\"no\"\n",
       "    width=\"100%\"\n",
       "    height=\"545px\"\n",
       "    src=\"iframe_figures/figure_30.html\"\n",
       "    frameborder=\"0\"\n",
       "    allowfullscreen\n",
       "></iframe>\n"
      ]
     },
     "metadata": {},
     "output_type": "display_data"
    }
   ],
   "source": [
    "fig = px.scatter_mapbox(df_lundi[(df_lundi.Cluster_KMeans >=-1)], \n",
    "        lat=\"lat\", \n",
    "        lon=\"lon\",\n",
    "        hover_name = 'hour',                \n",
    "        color=\"Cluster_KMeans\",\n",
    "        mapbox_style=\"carto-positron\",\n",
    "        animation_frame=\"hour\"\n",
    ")\n",
    "fig.show()"
   ]
  },
  {
   "cell_type": "code",
   "execution_count": null,
   "id": "3a9a4c20",
   "metadata": {},
   "outputs": [],
   "source": [
    "##################################################################################################"
   ]
  },
  {
   "cell_type": "markdown",
   "id": "4b2f5809",
   "metadata": {},
   "source": [
    "MARDI TOUTES LES HEURES"
   ]
  },
  {
   "cell_type": "code",
   "execution_count": 36,
   "id": "e8080597",
   "metadata": {},
   "outputs": [],
   "source": [
    "df_mardi = df_def.loc[(df_def['hour'] >=0 ) & (df_def['day'] == 0)]"
   ]
  },
  {
   "cell_type": "code",
   "execution_count": 37,
   "id": "6cb0d420",
   "metadata": {},
   "outputs": [],
   "source": [
    "df_mardi = df_mardi.drop(columns=['base', 'new_date', 'new_time'])"
   ]
  },
  {
   "cell_type": "code",
   "execution_count": 38,
   "id": "2d6b8539",
   "metadata": {},
   "outputs": [],
   "source": [
    "# Création du pipeline pour les variables quantitatives\n",
    "numeric_features = [0,1,2,3] # Positions des colonnes quantitatives dans X\n",
    "numeric_transformer = Pipeline(steps=[\n",
    "    ('scaler', StandardScaler()) # pour normaliser les variables\n",
    "])"
   ]
  },
  {
   "cell_type": "code",
   "execution_count": 39,
   "id": "c4e00fd4",
   "metadata": {},
   "outputs": [],
   "source": [
    "preprocessor = ColumnTransformer(\n",
    "    transformers=[\n",
    "        ('num', numeric_transformer, numeric_features)     \n",
    "    ])"
   ]
  },
  {
   "cell_type": "code",
   "execution_count": 40,
   "id": "947faadb",
   "metadata": {},
   "outputs": [
    {
     "name": "stdout",
     "output_type": "stream",
     "text": [
      "Preprocessing sur le train set...\n",
      "          lat      lon  hour  day\n",
      "7785  40.7205 -73.9939     0    0\n",
      "7786  40.7407 -74.0077     0    0\n",
      "7787  40.7591 -73.9892     0    0\n",
      "7788  40.7419 -74.0034     0    0\n",
      "7789  40.7419 -74.0034     1    0\n",
      "...Terminé.\n",
      "[[-0.73576865 -0.5364991  -2.43883748  0.        ]\n",
      " [-0.07787508 -0.96454444 -2.43883748  0.        ]\n",
      " [ 0.52139432 -0.39071554 -2.43883748  0.        ]\n",
      " [-0.03879229 -0.83116799 -2.43883748  0.        ]\n",
      " [-0.03879229 -0.83116799 -2.26114925  0.        ]]\n",
      "\n"
     ]
    }
   ],
   "source": [
    "# Preprocessings sur le dataset\n",
    "print(\"Preprocessing sur le train set...\")\n",
    "print(df_mardi.head())\n",
    "X_mardi = preprocessor.fit_transform(df_mardi) # fit_transform !!\n",
    "print('...Terminé.')\n",
    "print(X_mardi[0:5, :])\n",
    "print()"
   ]
  },
  {
   "cell_type": "code",
   "execution_count": 41,
   "id": "a62320e3",
   "metadata": {},
   "outputs": [
    {
     "name": "stdout",
     "output_type": "stream",
     "text": [
      "[1129852.078973231, 829254.7151290725, 653811.1901430134, 536674.7012772318, 454003.36158953945, 410957.5333199567, 377628.20721740386, 349137.2702531534, 327831.7970915941]\n"
     ]
    }
   ],
   "source": [
    "# Utilisation de la méthode Elbow pour trouver le nombre optimal de clusters\n",
    "\n",
    "wcss =  []\n",
    "for i in range (2,11): \n",
    "    kmeans = KMeans(n_clusters= i)\n",
    "    kmeans.fit(X_mardi)\n",
    "    wcss.append(kmeans.inertia_)\n",
    "    \n",
    "print(wcss)"
   ]
  },
  {
   "cell_type": "code",
   "execution_count": 42,
   "id": "6a65f7c9",
   "metadata": {},
   "outputs": [
    {
     "data": {
      "text/html": [
       "<iframe\n",
       "    scrolling=\"no\"\n",
       "    width=\"100%\"\n",
       "    height=\"545px\"\n",
       "    src=\"iframe_figures/figure_42.html\"\n",
       "    frameborder=\"0\"\n",
       "    allowfullscreen\n",
       "></iframe>\n"
      ]
     },
     "metadata": {},
     "output_type": "display_data"
    }
   ],
   "source": [
    "fig = px.line(x = range(2,11), y = wcss)\n",
    "fig.show()"
   ]
  },
  {
   "cell_type": "code",
   "execution_count": 43,
   "id": "82f60c34",
   "metadata": {},
   "outputs": [
    {
     "name": "stdout",
     "output_type": "stream",
     "text": [
      "[0.30546176544978265, 0.34329197840753234, 0.31760980367310143, 0.3126649850137936, 0.3182360770667084, 0.323513996971665, 0.314234485329829, 0.2964552480220607, 0.2843478037732705]\n"
     ]
    }
   ],
   "source": [
    "# Utilisation du silhouette_score pour déterminer le nombre optimal de clusters\n",
    "s_score = []\n",
    "for i in range (2,11): \n",
    "    kmeans = KMeans(n_clusters= i)\n",
    "    kmeans.fit(X_mardi)\n",
    "    s_score.append(silhouette_score(X_mardi, kmeans.predict(X_mardi)))\n",
    "\n",
    "print(s_score)"
   ]
  },
  {
   "cell_type": "code",
   "execution_count": 44,
   "id": "16155ad0",
   "metadata": {},
   "outputs": [
    {
     "data": {
      "text/html": [
       "<iframe\n",
       "    scrolling=\"no\"\n",
       "    width=\"100%\"\n",
       "    height=\"545px\"\n",
       "    src=\"iframe_figures/figure_44.html\"\n",
       "    frameborder=\"0\"\n",
       "    allowfullscreen\n",
       "></iframe>\n"
      ]
     },
     "metadata": {},
     "output_type": "display_data"
    }
   ],
   "source": [
    "# Affichage de scores en fonction du nombre de clusters\n",
    "fig = px.bar(x = range(2,11), y = s_score)\n",
    "fig.show(renderer=\"iframe\")"
   ]
  },
  {
   "cell_type": "code",
   "execution_count": 45,
   "id": "01c78ede",
   "metadata": {},
   "outputs": [
    {
     "data": {
      "text/plain": [
       "KMeans(n_clusters=4)"
      ]
     },
     "execution_count": 45,
     "metadata": {},
     "output_type": "execute_result"
    }
   ],
   "source": [
    "# On ré-entraîne un KMeans avec le nombre optimal de clusters\n",
    "kmeans = KMeans(n_clusters= 3)\n",
    "kmeans.fit(X_mardi)"
   ]
  },
  {
   "cell_type": "code",
   "execution_count": 46,
   "id": "ce8c89cf",
   "metadata": {},
   "outputs": [
    {
     "data": {
      "text/html": [
       "<div>\n",
       "<style scoped>\n",
       "    .dataframe tbody tr th:only-of-type {\n",
       "        vertical-align: middle;\n",
       "    }\n",
       "\n",
       "    .dataframe tbody tr th {\n",
       "        vertical-align: top;\n",
       "    }\n",
       "\n",
       "    .dataframe thead th {\n",
       "        text-align: right;\n",
       "    }\n",
       "</style>\n",
       "<table border=\"1\" class=\"dataframe\">\n",
       "  <thead>\n",
       "    <tr style=\"text-align: right;\">\n",
       "      <th></th>\n",
       "      <th>lat</th>\n",
       "      <th>lon</th>\n",
       "      <th>hour</th>\n",
       "      <th>day</th>\n",
       "      <th>Cluster_KMeans</th>\n",
       "    </tr>\n",
       "  </thead>\n",
       "  <tbody>\n",
       "    <tr>\n",
       "      <th>7785</th>\n",
       "      <td>40.7205</td>\n",
       "      <td>-73.9939</td>\n",
       "      <td>0</td>\n",
       "      <td>0</td>\n",
       "      <td>2</td>\n",
       "    </tr>\n",
       "    <tr>\n",
       "      <th>7786</th>\n",
       "      <td>40.7407</td>\n",
       "      <td>-74.0077</td>\n",
       "      <td>0</td>\n",
       "      <td>0</td>\n",
       "      <td>2</td>\n",
       "    </tr>\n",
       "    <tr>\n",
       "      <th>7787</th>\n",
       "      <td>40.7591</td>\n",
       "      <td>-73.9892</td>\n",
       "      <td>0</td>\n",
       "      <td>0</td>\n",
       "      <td>2</td>\n",
       "    </tr>\n",
       "    <tr>\n",
       "      <th>7788</th>\n",
       "      <td>40.7419</td>\n",
       "      <td>-74.0034</td>\n",
       "      <td>0</td>\n",
       "      <td>0</td>\n",
       "      <td>2</td>\n",
       "    </tr>\n",
       "    <tr>\n",
       "      <th>7789</th>\n",
       "      <td>40.7419</td>\n",
       "      <td>-74.0034</td>\n",
       "      <td>1</td>\n",
       "      <td>0</td>\n",
       "      <td>2</td>\n",
       "    </tr>\n",
       "  </tbody>\n",
       "</table>\n",
       "</div>"
      ],
      "text/plain": [
       "          lat      lon  hour  day  Cluster_KMeans\n",
       "7785  40.7205 -73.9939     0    0               2\n",
       "7786  40.7407 -74.0077     0    0               2\n",
       "7787  40.7591 -73.9892     0    0               2\n",
       "7788  40.7419 -74.0034     0    0               2\n",
       "7789  40.7419 -74.0034     1    0               2"
      ]
     },
     "execution_count": 46,
     "metadata": {},
     "output_type": "execute_result"
    }
   ],
   "source": [
    "df_mardi.loc[:,'Cluster_KMeans'] = kmeans.predict(X_mardi)\n",
    "df_mardi.head()"
   ]
  },
  {
   "cell_type": "code",
   "execution_count": 75,
   "id": "4f6064d3",
   "metadata": {},
   "outputs": [
    {
     "data": {
      "text/html": [
       "<iframe\n",
       "    scrolling=\"no\"\n",
       "    width=\"100%\"\n",
       "    height=\"545px\"\n",
       "    src=\"iframe_figures/figure_30.html\"\n",
       "    frameborder=\"0\"\n",
       "    allowfullscreen\n",
       "></iframe>\n"
      ]
     },
     "metadata": {},
     "output_type": "display_data"
    }
   ],
   "source": [
    "fig = px.scatter_mapbox(df_mardi[(df_mardi.Cluster_KMeans >=-1)], \n",
    "        lat=\"lat\", \n",
    "        lon=\"lon\",\n",
    "        hover_name = 'hour',                \n",
    "        color=\"Cluster_KMeans\",\n",
    "        mapbox_style=\"carto-positron\",\n",
    "        animation_frame=\"hour\"\n",
    ")\n",
    "fig.show()"
   ]
  },
  {
   "cell_type": "code",
   "execution_count": null,
   "id": "2d0970e4",
   "metadata": {},
   "outputs": [],
   "source": [
    "##########################################################################"
   ]
  },
  {
   "cell_type": "markdown",
   "id": "1a6657c2",
   "metadata": {},
   "source": [
    "MERCREDI TOUTES LES HEURES"
   ]
  },
  {
   "cell_type": "code",
   "execution_count": 66,
   "id": "db7f8214",
   "metadata": {},
   "outputs": [],
   "source": [
    "df_mercredi = df_def.loc[(df_def['hour'] >=0 ) & (df_def['day'] == 2)]"
   ]
  },
  {
   "cell_type": "code",
   "execution_count": 67,
   "id": "828048c4",
   "metadata": {},
   "outputs": [],
   "source": [
    "df_mercredi = df_mercredi.drop(columns=['base', 'new_date', 'new_time'])"
   ]
  },
  {
   "cell_type": "code",
   "execution_count": 68,
   "id": "700305f9",
   "metadata": {},
   "outputs": [],
   "source": [
    "# Création du pipeline pour les variables quantitatives\n",
    "numeric_features = [0,1,2,3] # Positions des colonnes quantitatives dans X\n",
    "numeric_transformer = Pipeline(steps=[\n",
    "    ('scaler', StandardScaler()) # pour normaliser les variables\n",
    "])"
   ]
  },
  {
   "cell_type": "code",
   "execution_count": 69,
   "id": "29c7a806",
   "metadata": {},
   "outputs": [],
   "source": [
    "preprocessor = ColumnTransformer(\n",
    "    transformers=[\n",
    "        ('num', numeric_transformer, numeric_features)     \n",
    "    ])"
   ]
  },
  {
   "cell_type": "code",
   "execution_count": 70,
   "id": "98ba87e5",
   "metadata": {},
   "outputs": [
    {
     "name": "stdout",
     "output_type": "stream",
     "text": [
      "Preprocessing sur le train set...\n",
      "          lat      lon  hour  day\n",
      "1011  40.7458 -73.9843     0    2\n",
      "1012  40.7285 -74.0467     0    2\n",
      "1013  40.7732 -73.9546     0    2\n",
      "1014  40.6550 -73.9786     0    2\n",
      "1015  40.7405 -74.0040     0    2\n",
      "...Terminé.\n",
      "[[ 0.09234206 -0.16939352 -2.60553226  0.        ]\n",
      " [-0.50584175 -2.34341013 -2.60553226  0.        ]\n",
      " [ 1.03975456  0.86535476 -2.60553226  0.        ]\n",
      " [-3.0472585   0.02919453 -2.60553226  0.        ]\n",
      " [-0.09091657 -0.85574171 -2.60553226  0.        ]]\n",
      "\n"
     ]
    }
   ],
   "source": [
    "# Preprocessings sur le dataset\n",
    "print(\"Preprocessing sur le train set...\")\n",
    "print(df_mercredi.head())\n",
    "X_mercredi = preprocessor.fit_transform(df_mercredi) # fit_transform !!\n",
    "print('...Terminé.')\n",
    "print(X_mercredi[0:5, :])\n",
    "print()"
   ]
  },
  {
   "cell_type": "code",
   "execution_count": 71,
   "id": "ba78037d",
   "metadata": {},
   "outputs": [
    {
     "name": "stdout",
     "output_type": "stream",
     "text": [
      "[1488650.8613862246, 1121449.103733254, 883105.4345422259, 726807.8028821521, 611639.6355937524, 556697.4886511853, 508521.34459461254, 467813.11829976604, 435785.74665506394]\n"
     ]
    }
   ],
   "source": [
    "# Utilisation de la méthode Elbow pour trouver le nombre optimal de clusters\n",
    "\n",
    "wcss =  []\n",
    "for i in range (2,11): \n",
    "    kmeans = KMeans(n_clusters= i)\n",
    "    kmeans.fit(X_mercredi)\n",
    "    wcss.append(kmeans.inertia_)\n",
    "    \n",
    "print(wcss)"
   ]
  },
  {
   "cell_type": "code",
   "execution_count": 72,
   "id": "53d632d0",
   "metadata": {},
   "outputs": [
    {
     "data": {
      "text/html": [
       "<iframe\n",
       "    scrolling=\"no\"\n",
       "    width=\"100%\"\n",
       "    height=\"545px\"\n",
       "    src=\"iframe_figures/figure_30.html\"\n",
       "    frameborder=\"0\"\n",
       "    allowfullscreen\n",
       "></iframe>\n"
      ]
     },
     "metadata": {},
     "output_type": "display_data"
    }
   ],
   "source": [
    "fig = px.line(x = range(2,11), y = wcss)\n",
    "fig.show()"
   ]
  },
  {
   "cell_type": "code",
   "execution_count": null,
   "id": "4cfcfbdd",
   "metadata": {},
   "outputs": [],
   "source": [
    "# Utilisation du silhouette_score pour déterminer le nombre optimal de clusters\n",
    "s_score = []\n",
    "for i in range (2,11): \n",
    "    kmeans = KMeans(n_clusters= i)\n",
    "    kmeans.fit(X_mercredi)\n",
    "    s_score.append(silhouette_score(X_mercredi, kmeans.predict(X_mercredi)))\n",
    "\n",
    "print(s_score)"
   ]
  },
  {
   "cell_type": "code",
   "execution_count": null,
   "id": "6ad9f1a1",
   "metadata": {},
   "outputs": [],
   "source": [
    "# Affichage de scores en fonction du nombre de clusters\n",
    "fig = px.bar(x = range(2,11), y = s_score)\n",
    "fig.show(renderer=\"iframe\")"
   ]
  },
  {
   "cell_type": "code",
   "execution_count": null,
   "id": "547aa097",
   "metadata": {},
   "outputs": [],
   "source": [
    "# On ré-entraîne un KMeans avec le nombre optimal de clusters\n",
    "kmeans = KMeans(n_clusters= 3)\n",
    "kmeans.fit(X_mardi)"
   ]
  },
  {
   "cell_type": "code",
   "execution_count": null,
   "id": "ea33a119",
   "metadata": {},
   "outputs": [],
   "source": [
    "df_mercredi.loc[:,'Cluster_KMeans'] = kmeans.predict(X_mercredi)\n",
    "df_mercredi.head()"
   ]
  },
  {
   "cell_type": "code",
   "execution_count": null,
   "id": "d0fc4ab2",
   "metadata": {},
   "outputs": [],
   "source": [
    "fig = px.scatter_mapbox(df_mercredi[(df_mercredi.Cluster_KMeans >=-1)], \n",
    "        lat=\"lat\", \n",
    "        lon=\"lon\",\n",
    "        hover_name = 'hour',                \n",
    "        color=\"Cluster_KMeans\",\n",
    "        mapbox_style=\"carto-positron\",\n",
    "        animation_frame=\"hour\"\n",
    ")\n",
    "fig.show()"
   ]
  },
  {
   "cell_type": "code",
   "execution_count": 1,
   "id": "5c6aba49",
   "metadata": {},
   "outputs": [],
   "source": [
    "############### MODELE NON RETENU   #########################################"
   ]
  },
  {
   "cell_type": "code",
   "execution_count": null,
   "id": "ce126569",
   "metadata": {},
   "outputs": [],
   "source": []
  },
  {
   "cell_type": "code",
   "execution_count": null,
   "id": "551cebe2",
   "metadata": {},
   "outputs": [],
   "source": []
  },
  {
   "cell_type": "code",
   "execution_count": null,
   "id": "36a0526a",
   "metadata": {},
   "outputs": [],
   "source": []
  },
  {
   "cell_type": "code",
   "execution_count": null,
   "id": "c13fa30a",
   "metadata": {},
   "outputs": [],
   "source": []
  },
  {
   "cell_type": "markdown",
   "id": "08239b52",
   "metadata": {},
   "source": [
    "JEUDI TOUTES LES HEURES"
   ]
  },
  {
   "cell_type": "code",
   "execution_count": null,
   "id": "a18b215c",
   "metadata": {},
   "outputs": [],
   "source": [
    "df_jeudi = df_def.loc[(df_def['hour'] >=0 ) & (df_def['day'] == 3)]"
   ]
  },
  {
   "cell_type": "code",
   "execution_count": 59,
   "id": "5adf1b86",
   "metadata": {},
   "outputs": [],
   "source": [
    "df_jeudi = df_jeudi.drop(columns=['base', 'new_date', 'new_time'])"
   ]
  },
  {
   "cell_type": "code",
   "execution_count": 60,
   "id": "2365b042",
   "metadata": {},
   "outputs": [],
   "source": [
    "# Création du pipeline pour les variables quantitatives\n",
    "numeric_features = [0,1,2,3] # Positions des colonnes quantitatives dans X\n",
    "numeric_transformer = Pipeline(steps=[\n",
    "    ('scaler', StandardScaler()) # pour normaliser les variables\n",
    "])"
   ]
  },
  {
   "cell_type": "code",
   "execution_count": 61,
   "id": "efb7aa09",
   "metadata": {},
   "outputs": [],
   "source": [
    "preprocessor = ColumnTransformer(\n",
    "    transformers=[\n",
    "        ('num', numeric_transformer, numeric_features)     \n",
    "    ])"
   ]
  },
  {
   "cell_type": "code",
   "execution_count": 62,
   "id": "c7a32265",
   "metadata": {},
   "outputs": [
    {
     "name": "stdout",
     "output_type": "stream",
     "text": [
      "Preprocessing sur le train set...\n",
      "          lat      lon  hour  day\n",
      "7785  40.7205 -73.9939     0    0\n",
      "7786  40.7407 -74.0077     0    0\n",
      "7787  40.7591 -73.9892     0    0\n",
      "7788  40.7419 -74.0034     0    0\n",
      "7789  40.7419 -74.0034     1    0\n",
      "...Terminé.\n",
      "[[-0.73576865 -0.5364991  -2.43883748  0.        ]\n",
      " [-0.07787508 -0.96454444 -2.43883748  0.        ]\n",
      " [ 0.52139432 -0.39071554 -2.43883748  0.        ]\n",
      " [-0.03879229 -0.83116799 -2.43883748  0.        ]\n",
      " [-0.03879229 -0.83116799 -2.26114925  0.        ]]\n",
      "\n"
     ]
    }
   ],
   "source": [
    "# Preprocessings sur le dataset\n",
    "print(\"Preprocessing sur le train set...\")\n",
    "print(df_jeudi.head())\n",
    "X_jeudi = preprocessor.fit_transform(df_jeudi) # fit_transform !!\n",
    "print('...Terminé.')\n",
    "print(X_jeudi[0:5, :])\n",
    "print()"
   ]
  },
  {
   "cell_type": "code",
   "execution_count": 63,
   "id": "56e4a436",
   "metadata": {},
   "outputs": [
    {
     "name": "stdout",
     "output_type": "stream",
     "text": [
      "[1129848.856102096, 829254.2332773556, 653803.9203682938, 536674.7563842073, 454001.5868243445, 410962.33896333835, 377631.4715556439, 349135.03554901923, 327975.5984857192]\n"
     ]
    }
   ],
   "source": [
    "# Utilisation de la méthode Elbow pour trouver le nombre optimal de clusters\n",
    "\n",
    "wcss =  []\n",
    "for i in range (2,11): \n",
    "    kmeans = KMeans(n_clusters= i)\n",
    "    kmeans.fit(X_jeudi)\n",
    "    wcss.append(kmeans.inertia_)\n",
    "    \n",
    "print(wcss)"
   ]
  },
  {
   "cell_type": "code",
   "execution_count": 64,
   "id": "8ca7eeac",
   "metadata": {},
   "outputs": [
    {
     "data": {
      "text/html": [
       "<iframe\n",
       "    scrolling=\"no\"\n",
       "    width=\"100%\"\n",
       "    height=\"545px\"\n",
       "    src=\"iframe_figures/figure_64.html\"\n",
       "    frameborder=\"0\"\n",
       "    allowfullscreen\n",
       "></iframe>\n"
      ]
     },
     "metadata": {},
     "output_type": "display_data"
    }
   ],
   "source": [
    "fig = px.line(x = range(2,11), y = wcss)\n",
    "fig.show()"
   ]
  },
  {
   "cell_type": "code",
   "execution_count": 65,
   "id": "c8356404",
   "metadata": {},
   "outputs": [
    {
     "ename": "KeyboardInterrupt",
     "evalue": "",
     "output_type": "error",
     "traceback": [
      "\u001b[1;31m---------------------------------------------------------------------------\u001b[0m",
      "\u001b[1;31mKeyboardInterrupt\u001b[0m                         Traceback (most recent call last)",
      "Input \u001b[1;32mIn [65]\u001b[0m, in \u001b[0;36m<cell line: 3>\u001b[1;34m()\u001b[0m\n\u001b[0;32m      4\u001b[0m     kmeans \u001b[38;5;241m=\u001b[39m KMeans(n_clusters\u001b[38;5;241m=\u001b[39m i)\n\u001b[0;32m      5\u001b[0m     kmeans\u001b[38;5;241m.\u001b[39mfit(X_jeudi)\n\u001b[1;32m----> 6\u001b[0m     s_score\u001b[38;5;241m.\u001b[39mappend(\u001b[43msilhouette_score\u001b[49m\u001b[43m(\u001b[49m\u001b[43mX_jeudi\u001b[49m\u001b[43m,\u001b[49m\u001b[43m \u001b[49m\u001b[43mkmeans\u001b[49m\u001b[38;5;241;43m.\u001b[39;49m\u001b[43mpredict\u001b[49m\u001b[43m(\u001b[49m\u001b[43mX_jeudi\u001b[49m\u001b[43m)\u001b[49m\u001b[43m)\u001b[49m)\n\u001b[0;32m      8\u001b[0m \u001b[38;5;28mprint\u001b[39m(s_score)\n",
      "File \u001b[1;32m~\\anaconda3\\lib\\site-packages\\sklearn\\metrics\\cluster\\_unsupervised.py:117\u001b[0m, in \u001b[0;36msilhouette_score\u001b[1;34m(X, labels, metric, sample_size, random_state, **kwds)\u001b[0m\n\u001b[0;32m    115\u001b[0m     \u001b[38;5;28;01melse\u001b[39;00m:\n\u001b[0;32m    116\u001b[0m         X, labels \u001b[38;5;241m=\u001b[39m X[indices], labels[indices]\n\u001b[1;32m--> 117\u001b[0m \u001b[38;5;28;01mreturn\u001b[39;00m np\u001b[38;5;241m.\u001b[39mmean(silhouette_samples(X, labels, metric\u001b[38;5;241m=\u001b[39mmetric, \u001b[38;5;241m*\u001b[39m\u001b[38;5;241m*\u001b[39mkwds))\n",
      "File \u001b[1;32m~\\anaconda3\\lib\\site-packages\\sklearn\\metrics\\cluster\\_unsupervised.py:233\u001b[0m, in \u001b[0;36msilhouette_samples\u001b[1;34m(X, labels, metric, **kwds)\u001b[0m\n\u001b[0;32m    229\u001b[0m kwds[\u001b[38;5;124m\"\u001b[39m\u001b[38;5;124mmetric\u001b[39m\u001b[38;5;124m\"\u001b[39m] \u001b[38;5;241m=\u001b[39m metric\n\u001b[0;32m    230\u001b[0m reduce_func \u001b[38;5;241m=\u001b[39m functools\u001b[38;5;241m.\u001b[39mpartial(\n\u001b[0;32m    231\u001b[0m     _silhouette_reduce, labels\u001b[38;5;241m=\u001b[39mlabels, label_freqs\u001b[38;5;241m=\u001b[39mlabel_freqs\n\u001b[0;32m    232\u001b[0m )\n\u001b[1;32m--> 233\u001b[0m results \u001b[38;5;241m=\u001b[39m \u001b[38;5;28;43mzip\u001b[39;49m\u001b[43m(\u001b[49m\u001b[38;5;241;43m*\u001b[39;49m\u001b[43mpairwise_distances_chunked\u001b[49m\u001b[43m(\u001b[49m\u001b[43mX\u001b[49m\u001b[43m,\u001b[49m\u001b[43m \u001b[49m\u001b[43mreduce_func\u001b[49m\u001b[38;5;241;43m=\u001b[39;49m\u001b[43mreduce_func\u001b[49m\u001b[43m,\u001b[49m\u001b[43m \u001b[49m\u001b[38;5;241;43m*\u001b[39;49m\u001b[38;5;241;43m*\u001b[39;49m\u001b[43mkwds\u001b[49m\u001b[43m)\u001b[49m\u001b[43m)\u001b[49m\n\u001b[0;32m    234\u001b[0m intra_clust_dists, inter_clust_dists \u001b[38;5;241m=\u001b[39m results\n\u001b[0;32m    235\u001b[0m intra_clust_dists \u001b[38;5;241m=\u001b[39m np\u001b[38;5;241m.\u001b[39mconcatenate(intra_clust_dists)\n",
      "File \u001b[1;32m~\\anaconda3\\lib\\site-packages\\sklearn\\metrics\\pairwise.py:1717\u001b[0m, in \u001b[0;36mpairwise_distances_chunked\u001b[1;34m(X, Y, reduce_func, metric, n_jobs, working_memory, **kwds)\u001b[0m\n\u001b[0;32m   1715\u001b[0m \u001b[38;5;28;01melse\u001b[39;00m:\n\u001b[0;32m   1716\u001b[0m     X_chunk \u001b[38;5;241m=\u001b[39m X[sl]\n\u001b[1;32m-> 1717\u001b[0m D_chunk \u001b[38;5;241m=\u001b[39m pairwise_distances(X_chunk, Y, metric\u001b[38;5;241m=\u001b[39mmetric, n_jobs\u001b[38;5;241m=\u001b[39mn_jobs, \u001b[38;5;241m*\u001b[39m\u001b[38;5;241m*\u001b[39mkwds)\n\u001b[0;32m   1718\u001b[0m \u001b[38;5;28;01mif\u001b[39;00m (X \u001b[38;5;129;01mis\u001b[39;00m Y \u001b[38;5;129;01mor\u001b[39;00m Y \u001b[38;5;129;01mis\u001b[39;00m \u001b[38;5;28;01mNone\u001b[39;00m) \u001b[38;5;129;01mand\u001b[39;00m PAIRWISE_DISTANCE_FUNCTIONS\u001b[38;5;241m.\u001b[39mget(\n\u001b[0;32m   1719\u001b[0m     metric, \u001b[38;5;28;01mNone\u001b[39;00m\n\u001b[0;32m   1720\u001b[0m ) \u001b[38;5;129;01mis\u001b[39;00m euclidean_distances:\n\u001b[0;32m   1721\u001b[0m     \u001b[38;5;66;03m# zeroing diagonal, taking care of aliases of \"euclidean\",\u001b[39;00m\n\u001b[0;32m   1722\u001b[0m     \u001b[38;5;66;03m# i.e. \"l2\"\u001b[39;00m\n\u001b[0;32m   1723\u001b[0m     D_chunk\u001b[38;5;241m.\u001b[39mflat[sl\u001b[38;5;241m.\u001b[39mstart :: _num_samples(X) \u001b[38;5;241m+\u001b[39m \u001b[38;5;241m1\u001b[39m] \u001b[38;5;241m=\u001b[39m \u001b[38;5;241m0\u001b[39m\n",
      "File \u001b[1;32m~\\anaconda3\\lib\\site-packages\\sklearn\\metrics\\pairwise.py:1889\u001b[0m, in \u001b[0;36mpairwise_distances\u001b[1;34m(X, Y, metric, n_jobs, force_all_finite, **kwds)\u001b[0m\n\u001b[0;32m   1886\u001b[0m         \u001b[38;5;28;01mreturn\u001b[39;00m distance\u001b[38;5;241m.\u001b[39msquareform(distance\u001b[38;5;241m.\u001b[39mpdist(X, metric\u001b[38;5;241m=\u001b[39mmetric, \u001b[38;5;241m*\u001b[39m\u001b[38;5;241m*\u001b[39mkwds))\n\u001b[0;32m   1887\u001b[0m     func \u001b[38;5;241m=\u001b[39m partial(distance\u001b[38;5;241m.\u001b[39mcdist, metric\u001b[38;5;241m=\u001b[39mmetric, \u001b[38;5;241m*\u001b[39m\u001b[38;5;241m*\u001b[39mkwds)\n\u001b[1;32m-> 1889\u001b[0m \u001b[38;5;28;01mreturn\u001b[39;00m _parallel_pairwise(X, Y, func, n_jobs, \u001b[38;5;241m*\u001b[39m\u001b[38;5;241m*\u001b[39mkwds)\n",
      "File \u001b[1;32m~\\anaconda3\\lib\\site-packages\\sklearn\\metrics\\pairwise.py:1430\u001b[0m, in \u001b[0;36m_parallel_pairwise\u001b[1;34m(X, Y, func, n_jobs, **kwds)\u001b[0m\n\u001b[0;32m   1427\u001b[0m X, Y, dtype \u001b[38;5;241m=\u001b[39m _return_float_dtype(X, Y)\n\u001b[0;32m   1429\u001b[0m \u001b[38;5;28;01mif\u001b[39;00m effective_n_jobs(n_jobs) \u001b[38;5;241m==\u001b[39m \u001b[38;5;241m1\u001b[39m:\n\u001b[1;32m-> 1430\u001b[0m     \u001b[38;5;28;01mreturn\u001b[39;00m func(X, Y, \u001b[38;5;241m*\u001b[39m\u001b[38;5;241m*\u001b[39mkwds)\n\u001b[0;32m   1432\u001b[0m \u001b[38;5;66;03m# enforce a threading backend to prevent data communication overhead\u001b[39;00m\n\u001b[0;32m   1433\u001b[0m fd \u001b[38;5;241m=\u001b[39m delayed(_dist_wrapper)\n",
      "File \u001b[1;32m~\\anaconda3\\lib\\site-packages\\sklearn\\metrics\\pairwise.py:330\u001b[0m, in \u001b[0;36meuclidean_distances\u001b[1;34m(X, Y, Y_norm_squared, squared, X_norm_squared)\u001b[0m\n\u001b[0;32m    324\u001b[0m     \u001b[38;5;28;01mif\u001b[39;00m Y_norm_squared\u001b[38;5;241m.\u001b[39mshape \u001b[38;5;241m!=\u001b[39m (\u001b[38;5;241m1\u001b[39m, Y\u001b[38;5;241m.\u001b[39mshape[\u001b[38;5;241m0\u001b[39m]):\n\u001b[0;32m    325\u001b[0m         \u001b[38;5;28;01mraise\u001b[39;00m \u001b[38;5;167;01mValueError\u001b[39;00m(\n\u001b[0;32m    326\u001b[0m             \u001b[38;5;124mf\u001b[39m\u001b[38;5;124m\"\u001b[39m\u001b[38;5;124mIncompatible dimensions for Y of shape \u001b[39m\u001b[38;5;132;01m{\u001b[39;00mY\u001b[38;5;241m.\u001b[39mshape\u001b[38;5;132;01m}\u001b[39;00m\u001b[38;5;124m and \u001b[39m\u001b[38;5;124m\"\u001b[39m\n\u001b[0;32m    327\u001b[0m             \u001b[38;5;124mf\u001b[39m\u001b[38;5;124m\"\u001b[39m\u001b[38;5;124mY_norm_squared of shape \u001b[39m\u001b[38;5;132;01m{\u001b[39;00moriginal_shape\u001b[38;5;132;01m}\u001b[39;00m\u001b[38;5;124m.\u001b[39m\u001b[38;5;124m\"\u001b[39m\n\u001b[0;32m    328\u001b[0m         )\n\u001b[1;32m--> 330\u001b[0m \u001b[38;5;28;01mreturn\u001b[39;00m \u001b[43m_euclidean_distances\u001b[49m\u001b[43m(\u001b[49m\u001b[43mX\u001b[49m\u001b[43m,\u001b[49m\u001b[43m \u001b[49m\u001b[43mY\u001b[49m\u001b[43m,\u001b[49m\u001b[43m \u001b[49m\u001b[43mX_norm_squared\u001b[49m\u001b[43m,\u001b[49m\u001b[43m \u001b[49m\u001b[43mY_norm_squared\u001b[49m\u001b[43m,\u001b[49m\u001b[43m \u001b[49m\u001b[43msquared\u001b[49m\u001b[43m)\u001b[49m\n",
      "File \u001b[1;32m~\\anaconda3\\lib\\site-packages\\sklearn\\metrics\\pairwise.py:371\u001b[0m, in \u001b[0;36m_euclidean_distances\u001b[1;34m(X, Y, X_norm_squared, Y_norm_squared, squared)\u001b[0m\n\u001b[0;32m    368\u001b[0m     distances \u001b[38;5;241m=\u001b[39m _euclidean_distances_upcast(X, XX, Y, YY)\n\u001b[0;32m    369\u001b[0m \u001b[38;5;28;01melse\u001b[39;00m:\n\u001b[0;32m    370\u001b[0m     \u001b[38;5;66;03m# if dtype is already float64, no need to chunk and upcast\u001b[39;00m\n\u001b[1;32m--> 371\u001b[0m     distances \u001b[38;5;241m=\u001b[39m \u001b[38;5;241;43m-\u001b[39;49m\u001b[38;5;241;43m2\u001b[39;49m\u001b[43m \u001b[49m\u001b[38;5;241;43m*\u001b[39;49m\u001b[43m \u001b[49m\u001b[43msafe_sparse_dot\u001b[49m\u001b[43m(\u001b[49m\u001b[43mX\u001b[49m\u001b[43m,\u001b[49m\u001b[43m \u001b[49m\u001b[43mY\u001b[49m\u001b[38;5;241;43m.\u001b[39;49m\u001b[43mT\u001b[49m\u001b[43m,\u001b[49m\u001b[43m \u001b[49m\u001b[43mdense_output\u001b[49m\u001b[38;5;241;43m=\u001b[39;49m\u001b[38;5;28;43;01mTrue\u001b[39;49;00m\u001b[43m)\u001b[49m\n\u001b[0;32m    372\u001b[0m     distances \u001b[38;5;241m+\u001b[39m\u001b[38;5;241m=\u001b[39m XX\n\u001b[0;32m    373\u001b[0m     distances \u001b[38;5;241m+\u001b[39m\u001b[38;5;241m=\u001b[39m YY\n",
      "\u001b[1;31mKeyboardInterrupt\u001b[0m: "
     ]
    }
   ],
   "source": [
    "# Utilisation du silhouette_score pour déterminer le nombre optimal de clusters\n",
    "s_score = []\n",
    "for i in range (2,11): \n",
    "    kmeans = KMeans(n_clusters= i)\n",
    "    kmeans.fit(X_jeudi)\n",
    "    s_score.append(silhouette_score(X_jeudi, kmeans.predict(X_jeudi)))\n",
    "\n",
    "print(s_score)"
   ]
  },
  {
   "cell_type": "code",
   "execution_count": null,
   "id": "421249b1",
   "metadata": {},
   "outputs": [],
   "source": [
    "fig = px.bar(x = range(2,11), y = s_score)\n",
    "fig.show(renderer=\"iframe\")"
   ]
  },
  {
   "cell_type": "code",
   "execution_count": null,
   "id": "61c008b6",
   "metadata": {},
   "outputs": [],
   "source": [
    "# On ré-entraîne un KMeans avec le nombre optimal de clusters\n",
    "kmeans = KMeans(n_clusters= 4)\n",
    "kmeans.fit(X_jeudi)"
   ]
  },
  {
   "cell_type": "code",
   "execution_count": null,
   "id": "3f30f84e",
   "metadata": {},
   "outputs": [],
   "source": [
    "df_jeudi.loc[:,'Cluster_KMeans'] = kmeans.predict(X_jeudi)\n",
    "df_jeudi.head()"
   ]
  },
  {
   "cell_type": "code",
   "execution_count": null,
   "id": "636afadf",
   "metadata": {},
   "outputs": [],
   "source": [
    "fig = px.scatter_mapbox(df_jeudi[(df_jeudi.Cluster_KMeans >=-1)], \n",
    "        lat=\"lat\", \n",
    "        lon=\"lon\",\n",
    "        hover_name = 'hour',                \n",
    "        color=\"Cluster_KMeans\",\n",
    "        mapbox_style=\"carto-positron\",\n",
    "        animation_frame=\"hour\"\n",
    ")\n",
    "fig.show()"
   ]
  },
  {
   "cell_type": "code",
   "execution_count": null,
   "id": "e19460ce",
   "metadata": {},
   "outputs": [],
   "source": [
    "################################################################################"
   ]
  },
  {
   "cell_type": "markdown",
   "id": "6a81d2bb",
   "metadata": {},
   "source": [
    "VENDREDI TOUTES LES HEURES"
   ]
  },
  {
   "cell_type": "code",
   "execution_count": null,
   "id": "677a6903",
   "metadata": {},
   "outputs": [],
   "source": [
    "df_vendredi = df_def.loc[(df_def['hour'] >=0 ) & (df_def['day'] == 4)]"
   ]
  },
  {
   "cell_type": "code",
   "execution_count": null,
   "id": "041293ba",
   "metadata": {},
   "outputs": [],
   "source": [
    "df_vendredi = df_vendredi.drop(columns=['base', 'new_date', 'new_time'])"
   ]
  },
  {
   "cell_type": "code",
   "execution_count": null,
   "id": "b580c157",
   "metadata": {},
   "outputs": [],
   "source": [
    "# Création du pipeline pour les variables quantitatives\n",
    "numeric_features = [0,1,2,3] # Positions des colonnes quantitatives dans X\n",
    "numeric_transformer = Pipeline(steps=[\n",
    "    ('scaler', StandardScaler()) # pour normaliser les variables\n",
    "])"
   ]
  },
  {
   "cell_type": "code",
   "execution_count": null,
   "id": "3add524b",
   "metadata": {},
   "outputs": [],
   "source": [
    "preprocessor = ColumnTransformer(\n",
    "    transformers=[\n",
    "        ('num', numeric_transformer, numeric_features)     \n",
    "    ])"
   ]
  },
  {
   "cell_type": "code",
   "execution_count": null,
   "id": "8be0da31",
   "metadata": {},
   "outputs": [],
   "source": [
    "# Preprocessings sur le dataset\n",
    "print(\"Preprocessing sur le train set...\")\n",
    "print(df_vendredi.head())\n",
    "X_vendredi = preprocessor.fit_transform(df_vendredi) # fit_transform !!\n",
    "print('...Terminé.')\n",
    "print(X_vendredi[0:5, :])\n",
    "print()"
   ]
  },
  {
   "cell_type": "code",
   "execution_count": null,
   "id": "49b06218",
   "metadata": {},
   "outputs": [],
   "source": [
    "# Utilisation de la méthode Elbow pour trouver le nombre optimal de clusters\n",
    "\n",
    "wcss =  []\n",
    "for i in range (2,11): \n",
    "    kmeans = KMeans(n_clusters= i)\n",
    "    kmeans.fit(X_vendredi)\n",
    "    wcss.append(kmeans.inertia_)\n",
    "    \n",
    "print(wcss)"
   ]
  },
  {
   "cell_type": "code",
   "execution_count": null,
   "id": "732090de",
   "metadata": {},
   "outputs": [],
   "source": [
    "fig = px.line(x = range(2,11), y = wcss)\n",
    "fig.show()"
   ]
  },
  {
   "cell_type": "code",
   "execution_count": null,
   "id": "82352cf3",
   "metadata": {},
   "outputs": [],
   "source": [
    "# Utilisation du silhouette_score pour déterminer le nombre optimal de clusters\n",
    "s_score = []\n",
    "for i in range (2,11): \n",
    "    kmeans = KMeans(n_clusters= i)\n",
    "    kmeans.fit(X_vendredi)\n",
    "    s_score.append(silhouette_score(X_vendredi, kmeans.predict(X_vendredi)))\n",
    "\n",
    "print(s_score)"
   ]
  },
  {
   "cell_type": "code",
   "execution_count": null,
   "id": "b93e812a",
   "metadata": {},
   "outputs": [],
   "source": [
    "# Affichage de scores en fonction du nombre de clusters\n",
    "fig = px.bar(x = range(2,11), y = s_score)\n",
    "fig.show(renderer=\"iframe\")"
   ]
  },
  {
   "cell_type": "code",
   "execution_count": null,
   "id": "b41620a9",
   "metadata": {},
   "outputs": [],
   "source": [
    "# On ré-entraîne un KMeans avec le nombre optimal de clusters\n",
    "kmeans = KMeans(n_clusters= 4)\n",
    "kmeans.fit(X_jeudi)"
   ]
  },
  {
   "cell_type": "code",
   "execution_count": null,
   "id": "d5061d91",
   "metadata": {},
   "outputs": [],
   "source": [
    "df_vendredi.loc[:,'Cluster_KMeans'] = kmeans.predict(X_vendredi)\n",
    "df_vendredi.head()"
   ]
  },
  {
   "cell_type": "code",
   "execution_count": null,
   "id": "52eacf79",
   "metadata": {},
   "outputs": [],
   "source": [
    "fig = px.scatter_mapbox(df_vendredi[(df_vendredi.Cluster_KMeans >=-1)], \n",
    "        lat=\"lat\", \n",
    "        lon=\"lon\",\n",
    "        hover_name = 'hour',                \n",
    "        color=\"Cluster_KMeans\",\n",
    "        mapbox_style=\"carto-positron\",\n",
    "        animation_frame=\"hour\"\n",
    ")\n",
    "fig.show()"
   ]
  },
  {
   "cell_type": "code",
   "execution_count": null,
   "id": "0f7fbb1d",
   "metadata": {},
   "outputs": [],
   "source": [
    "###############################################################################"
   ]
  },
  {
   "cell_type": "markdown",
   "id": "8751b048",
   "metadata": {},
   "source": [
    "SAMEDI TOUTES LES HEURES"
   ]
  },
  {
   "cell_type": "code",
   "execution_count": null,
   "id": "4d3594b8",
   "metadata": {},
   "outputs": [],
   "source": [
    "df_samedi = df_def.loc[(df_def['hour'] >=0 ) & (df_def['day'] == 0)]"
   ]
  },
  {
   "cell_type": "code",
   "execution_count": null,
   "id": "c5c679a8",
   "metadata": {},
   "outputs": [],
   "source": [
    "df_samedi = df_samedi.drop(columns=['base', 'new_date', 'new_time'])"
   ]
  },
  {
   "cell_type": "code",
   "execution_count": null,
   "id": "4fb941c0",
   "metadata": {},
   "outputs": [],
   "source": [
    "# Création du pipeline pour les variables quantitatives\n",
    "numeric_features = [0,1,2,3] # Positions des colonnes quantitatives dans X\n",
    "numeric_transformer = Pipeline(steps=[\n",
    "    ('scaler', StandardScaler()) # pour normaliser les variables\n",
    "])"
   ]
  },
  {
   "cell_type": "code",
   "execution_count": null,
   "id": "5e8098c8",
   "metadata": {},
   "outputs": [],
   "source": [
    "preprocessor = ColumnTransformer(\n",
    "    transformers=[\n",
    "        ('num', numeric_transformer, numeric_features)     \n",
    "    ])"
   ]
  },
  {
   "cell_type": "code",
   "execution_count": null,
   "id": "dd48e53f",
   "metadata": {},
   "outputs": [],
   "source": [
    "# Preprocessings sur le dataset\n",
    "print(\"Preprocessing sur le train set...\")\n",
    "print(df_samedi.head())\n",
    "X_samedi = preprocessor.fit_transform(df_samedi) # fit_transform !!\n",
    "print('...Terminé.')\n",
    "print(X_samedi[0:5, :])\n",
    "print()"
   ]
  },
  {
   "cell_type": "code",
   "execution_count": null,
   "id": "5959fb17",
   "metadata": {},
   "outputs": [],
   "source": [
    "# Utilisation de la méthode Elbow pour trouver le nombre optimal de clusters\n",
    "\n",
    "wcss =  []\n",
    "for i in range (2,11): \n",
    "    kmeans = KMeans(n_clusters= i)\n",
    "    kmeans.fit(X_samedi)\n",
    "    wcss.append(kmeans.inertia_)\n",
    "    \n",
    "print(wcss)"
   ]
  },
  {
   "cell_type": "code",
   "execution_count": null,
   "id": "7aa212b9",
   "metadata": {},
   "outputs": [],
   "source": [
    "fig = px.line(x = range(2,11), y = wcss)\n",
    "fig.show()"
   ]
  },
  {
   "cell_type": "code",
   "execution_count": null,
   "id": "2f2465bf",
   "metadata": {
    "tags": []
   },
   "outputs": [],
   "source": [
    "# Utilisation du silhouette_score pour déterminer le nombre optimal de clusters\n",
    "s_score = []\n",
    "for i in range (2,11): \n",
    "    kmeans = KMeans(n_clusters= i)\n",
    "    kmeans.fit(X_samedi)\n",
    "    s_score.append(silhouette_score(X_samedi, kmeans.predict(X_samedi)))\n",
    "\n",
    "print(s_score)"
   ]
  },
  {
   "cell_type": "code",
   "execution_count": null,
   "id": "0391bc17",
   "metadata": {},
   "outputs": [],
   "source": [
    "# Affichage de scores en fonction du nombre de clusters\n",
    "fig = px.bar(x = range(2,11), y = s_score)\n",
    "fig.show(renderer=\"iframe\")"
   ]
  },
  {
   "cell_type": "code",
   "execution_count": null,
   "id": "0608e165",
   "metadata": {},
   "outputs": [],
   "source": [
    "# On ré-entraîne un KMeans avec le nombre optimal de clusters\n",
    "kmeans = KMeans(n_clusters= 4)\n",
    "kmeans.fit(X_samedi)"
   ]
  },
  {
   "cell_type": "code",
   "execution_count": null,
   "id": "c83f1a59",
   "metadata": {},
   "outputs": [],
   "source": [
    "df_samedi.loc[:,'Cluster_KMeans'] = kmeans.predict(X_samedi)\n",
    "df_samedi.head()"
   ]
  },
  {
   "cell_type": "code",
   "execution_count": null,
   "id": "05c762f7",
   "metadata": {},
   "outputs": [],
   "source": [
    "fig = px.scatter_mapbox(df_vendredi[(df_samedi.Cluster_KMeans >=-1)], \n",
    "        lat=\"lat\", \n",
    "        lon=\"lon\",\n",
    "        hover_name = 'hour',                \n",
    "        color=\"Cluster_KMeans\",\n",
    "        mapbox_style=\"carto-positron\",\n",
    "        animation_frame=\"hour\"\n",
    ")\n",
    "fig.show()"
   ]
  },
  {
   "cell_type": "markdown",
   "id": "53b20904",
   "metadata": {},
   "source": [
    "DIMANCHE TOUTES LES HEURES"
   ]
  },
  {
   "cell_type": "code",
   "execution_count": null,
   "id": "75cf66a4",
   "metadata": {},
   "outputs": [],
   "source": [
    "df_dimanche = df_def.loc[(df_def['hour'] >=0 ) & (df_def['day'] == 0)]"
   ]
  },
  {
   "cell_type": "code",
   "execution_count": null,
   "id": "8af9e8df",
   "metadata": {},
   "outputs": [],
   "source": [
    "df_dimanche = df_dimanche.drop(columns=['base', 'new_date', 'new_time'])"
   ]
  },
  {
   "cell_type": "code",
   "execution_count": null,
   "id": "23cab08e",
   "metadata": {},
   "outputs": [],
   "source": [
    "# Création du pipeline pour les variables quantitatives\n",
    "numeric_features = [0,1,2,3] # Positions des colonnes quantitatives dans X\n",
    "numeric_transformer = Pipeline(steps=[\n",
    "    ('scaler', StandardScaler()) # pour normaliser les variables\n",
    "])"
   ]
  },
  {
   "cell_type": "code",
   "execution_count": null,
   "id": "7573ab80",
   "metadata": {},
   "outputs": [],
   "source": [
    "preprocessor = ColumnTransformer(\n",
    "    transformers=[\n",
    "        ('num', numeric_transformer, numeric_features)     \n",
    "    ])"
   ]
  },
  {
   "cell_type": "code",
   "execution_count": null,
   "id": "e5b05d24",
   "metadata": {},
   "outputs": [],
   "source": [
    "# Preprocessings sur le dataset\n",
    "print(\"Preprocessing sur le train set...\")\n",
    "print(df_dimanche.head())\n",
    "X_dimanche = preprocessor.fit_transform(df_dimanche) # fit_transform !!\n",
    "print('...Terminé.')\n",
    "print(X_dimanche[0:5, :])\n",
    "print()"
   ]
  },
  {
   "cell_type": "code",
   "execution_count": null,
   "id": "e762a8bc",
   "metadata": {},
   "outputs": [],
   "source": [
    "# Utilisation de la méthode Elbow pour trouver le nombre optimal de clusters\n",
    "\n",
    "wcss =  []\n",
    "for i in range (2,11): \n",
    "    kmeans = KMeans(n_clusters= i)\n",
    "    kmeans.fit(X_dimanche)\n",
    "    wcss.append(kmeans.inertia_)\n",
    "    \n",
    "print(wcss)"
   ]
  },
  {
   "cell_type": "code",
   "execution_count": null,
   "id": "6774c968",
   "metadata": {},
   "outputs": [],
   "source": [
    "fig = px.line(x = range(2,11), y = wcss)\n",
    "fig.show()"
   ]
  },
  {
   "cell_type": "code",
   "execution_count": null,
   "id": "4963de72",
   "metadata": {},
   "outputs": [],
   "source": [
    "# Utilisation du silhouette_score pour déterminer le nombre optimal de clusters\n",
    "s_score = []\n",
    "for i in range (2,11): \n",
    "    kmeans = KMeans(n_clusters= i)\n",
    "    kmeans.fit(X_samedi)\n",
    "    s_score.append(silhouette_score(X_samedi, kmeans.predict(X_samedi)))\n",
    "\n",
    "print(s_score)"
   ]
  },
  {
   "cell_type": "code",
   "execution_count": null,
   "id": "af945584",
   "metadata": {},
   "outputs": [],
   "source": [
    "# Affichage de scores en fonction du nombre de clusters\n",
    "fig = px.bar(x = range(2,11), y = s_score)\n",
    "fig.show(renderer=\"iframe\")"
   ]
  },
  {
   "cell_type": "code",
   "execution_count": null,
   "id": "85d8ea56",
   "metadata": {},
   "outputs": [],
   "source": [
    "# On ré-entraîne un KMeans avec le nombre optimal de clusters\n",
    "kmeans = KMeans(n_clusters= 4)\n",
    "kmeans.fit(X_dimanche)"
   ]
  },
  {
   "cell_type": "code",
   "execution_count": null,
   "id": "ace7f229",
   "metadata": {},
   "outputs": [],
   "source": [
    "df_dimanche.loc[:,'Cluster_KMeans'] = kmeans.predict(X_dimanche)\n",
    "df_dimanche.head()"
   ]
  },
  {
   "cell_type": "code",
   "execution_count": null,
   "id": "430943a1",
   "metadata": {},
   "outputs": [],
   "source": [
    "fig = px.scatter_mapbox(df_dimanche[(df_dimanche.Cluster_KMeans >=-1)], \n",
    "        lat=\"lat\", \n",
    "        lon=\"lon\",\n",
    "        hover_name = 'hour',                \n",
    "        color=\"Cluster_KMeans\",\n",
    "        mapbox_style=\"carto-positron\",\n",
    "        animation_frame=\"hour\"\n",
    ")\n",
    "fig.show()"
   ]
  },
  {
   "cell_type": "code",
   "execution_count": null,
   "id": "b2112616",
   "metadata": {},
   "outputs": [],
   "source": []
  }
 ],
 "metadata": {
  "kernelspec": {
   "display_name": "Python 3 (ipykernel)",
   "language": "python",
   "name": "python3"
  },
  "language_info": {
   "codemirror_mode": {
    "name": "ipython",
    "version": 3
   },
   "file_extension": ".py",
   "mimetype": "text/x-python",
   "name": "python",
   "nbconvert_exporter": "python",
   "pygments_lexer": "ipython3",
   "version": "3.9.12"
  }
 },
 "nbformat": 4,
 "nbformat_minor": 5
}
