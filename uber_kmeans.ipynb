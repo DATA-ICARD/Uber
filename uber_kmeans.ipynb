{
 "cells": [
  {
   "cell_type": "code",
   "execution_count": 15,
   "id": "8fd74cac",
   "metadata": {},
   "outputs": [
    {
     "name": "stdout",
     "output_type": "stream",
     "text": [
      "Requirement already satisfied: pandas in /opt/conda/lib/python3.8/site-packages (1.1.0)\n",
      "Requirement already satisfied: pytz>=2017.2 in /opt/conda/lib/python3.8/site-packages (from pandas) (2020.1)\n",
      "Requirement already satisfied: numpy>=1.15.4 in /opt/conda/lib/python3.8/site-packages (from pandas) (1.19.1)\n",
      "Requirement already satisfied: python-dateutil>=2.7.3 in /opt/conda/lib/python3.8/site-packages (from pandas) (2.8.1)\n",
      "Requirement already satisfied: six>=1.5 in /opt/conda/lib/python3.8/site-packages (from python-dateutil>=2.7.3->pandas) (1.15.0)\n",
      "Note: you may need to restart the kernel to use updated packages.\n"
     ]
    }
   ],
   "source": [
    "pip install pandas"
   ]
  },
  {
   "cell_type": "code",
   "execution_count": 1,
   "id": "6fbfe454",
   "metadata": {},
   "outputs": [],
   "source": [
    "import pandas as pd\n",
    "import numpy as np\n",
    "import pickle as pk\n",
    "\n",
    "from sklearn.pipeline import Pipeline\n",
    "from sklearn.impute import SimpleImputer\n",
    "from sklearn.preprocessing import  OneHotEncoder, StandardScaler\n",
    "from sklearn.compose import ColumnTransformer\n",
    "from sklearn.cluster import KMeans, DBSCAN\n",
    "from sklearn.metrics import  silhouette_score\n",
    "\n",
    "import warnings\n",
    "warnings.filterwarnings(\"ignore\", category=DeprecationWarning) \n",
    "\n",
    "import plotly.express as px\n",
    "import plotly.io as pio\n",
    "pio.renderers.default = \"iframe_connected\""
   ]
  },
  {
   "cell_type": "code",
   "execution_count": 2,
   "id": "3ca25af3",
   "metadata": {},
   "outputs": [],
   "source": [
    "#import libraries\n",
    "%matplotlib notebook\n",
    "import matplotlib.pyplot as plt\n",
    "import plotly.express as px\n",
    "import plotly.graph_objects as go\n",
    "from plotly.subplots import make_subplots"
   ]
  },
  {
   "cell_type": "code",
   "execution_count": 9,
   "id": "e5f515f0",
   "metadata": {},
   "outputs": [],
   "source": [
    "df_apr = pd.read_csv('uber-raw-data-apr14.csv')\n",
    "df_may = pd.read_csv('uber-raw-data-may14.csv')\n",
    "df_jun = pd.read_csv('uber-raw-data-jun14.csv')\n",
    "df_jul = pd.read_csv('uber-raw-data-jul14.csv')\n",
    "df_aug = pd.read_csv('uber-raw-data-aug14.csv')\n",
    "df_sep = pd.read_csv('uber-raw-data-sep14.csv')"
   ]
  },
  {
   "cell_type": "code",
   "execution_count": 10,
   "id": "f426ccbc",
   "metadata": {},
   "outputs": [],
   "source": [
    "df_def = pd.concat([df_apr, df_aug, df_jul, df_jun, df_may, df_sep])"
   ]
  },
  {
   "cell_type": "code",
   "execution_count": 11,
   "id": "0bc4d4dc",
   "metadata": {},
   "outputs": [],
   "source": [
    "df_def.columns = [x.lower().replace('/', '_') for x in df_def.columns]"
   ]
  },
  {
   "cell_type": "code",
   "execution_count": 12,
   "id": "bfe33f03",
   "metadata": {},
   "outputs": [],
   "source": [
    "df_def.date_time = pd.to_datetime(df_def['date_time'])"
   ]
  },
  {
   "cell_type": "code",
   "execution_count": 13,
   "id": "2dce71ea",
   "metadata": {},
   "outputs": [],
   "source": [
    "new_dates, new_times = zip(*[(d.date(), d.time()) for d in df_def['date_time']])\n",
    "df_def = df_def.assign(new_date=new_dates, new_time=new_times)\n",
    "df_def['hour'] = df_def.date_time.dt.hour\n",
    "df_def['day'] = df_def.date_time.dt.dayofweek"
   ]
  },
  {
   "cell_type": "code",
   "execution_count": 14,
   "id": "339a9b65",
   "metadata": {},
   "outputs": [],
   "source": [
    "df_def = df_def.drop(columns=[\"date_time\"])"
   ]
  },
  {
   "cell_type": "markdown",
   "id": "374552e9",
   "metadata": {},
   "source": [
    "DROP OUTLIER"
   ]
  },
  {
   "cell_type": "code",
   "execution_count": 15,
   "id": "ed081dc5",
   "metadata": {},
   "outputs": [],
   "source": [
    "for i in ['lat', 'lon',]:\n",
    "    df_def = df_def[~(np.abs(df_def[i]-df_def[i].mean()) > (3*df_def[i].std()))]"
   ]
  },
  {
   "cell_type": "markdown",
   "id": "dd7fbc9e",
   "metadata": {},
   "source": [
    "DETERMINATION DES COLONNES ET STANDARDSCALER"
   ]
  },
  {
   "cell_type": "markdown",
   "id": "8d0f89c9",
   "metadata": {},
   "source": [
    "# data test / samedi à 20h"
   ]
  },
  {
   "cell_type": "code",
   "execution_count": 54,
   "id": "694fcfe9",
   "metadata": {},
   "outputs": [],
   "source": [
    "data_test = df_def.loc[(df_def['hour'] == 20) & (df_def['day'] == 5)]"
   ]
  },
  {
   "cell_type": "code",
   "execution_count": 55,
   "id": "20f7614a",
   "metadata": {},
   "outputs": [],
   "source": [
    "data_test = data_test.drop(columns=['base', 'new_date', 'new_time'])"
   ]
  },
  {
   "cell_type": "code",
   "execution_count": 56,
   "id": "229446b3",
   "metadata": {},
   "outputs": [
    {
     "data": {
      "text/html": [
       "<div>\n",
       "<style scoped>\n",
       "    .dataframe tbody tr th:only-of-type {\n",
       "        vertical-align: middle;\n",
       "    }\n",
       "\n",
       "    .dataframe tbody tr th {\n",
       "        vertical-align: top;\n",
       "    }\n",
       "\n",
       "    .dataframe thead th {\n",
       "        text-align: right;\n",
       "    }\n",
       "</style>\n",
       "<table border=\"1\" class=\"dataframe\">\n",
       "  <thead>\n",
       "    <tr style=\"text-align: right;\">\n",
       "      <th></th>\n",
       "      <th>lat</th>\n",
       "      <th>lon</th>\n",
       "      <th>hour</th>\n",
       "      <th>day</th>\n",
       "    </tr>\n",
       "  </thead>\n",
       "  <tbody>\n",
       "    <tr>\n",
       "      <th>6592</th>\n",
       "      <td>40.7735</td>\n",
       "      <td>-73.9599</td>\n",
       "      <td>20</td>\n",
       "      <td>5</td>\n",
       "    </tr>\n",
       "    <tr>\n",
       "      <th>6593</th>\n",
       "      <td>40.7110</td>\n",
       "      <td>-74.0056</td>\n",
       "      <td>20</td>\n",
       "      <td>5</td>\n",
       "    </tr>\n",
       "    <tr>\n",
       "      <th>6594</th>\n",
       "      <td>40.7707</td>\n",
       "      <td>-73.9620</td>\n",
       "      <td>20</td>\n",
       "      <td>5</td>\n",
       "    </tr>\n",
       "    <tr>\n",
       "      <th>6595</th>\n",
       "      <td>40.7154</td>\n",
       "      <td>-74.0076</td>\n",
       "      <td>20</td>\n",
       "      <td>5</td>\n",
       "    </tr>\n",
       "    <tr>\n",
       "      <th>6596</th>\n",
       "      <td>40.7644</td>\n",
       "      <td>-73.9719</td>\n",
       "      <td>20</td>\n",
       "      <td>5</td>\n",
       "    </tr>\n",
       "  </tbody>\n",
       "</table>\n",
       "</div>"
      ],
      "text/plain": [
       "          lat      lon  hour  day\n",
       "6592  40.7735 -73.9599    20    5\n",
       "6593  40.7110 -74.0056    20    5\n",
       "6594  40.7707 -73.9620    20    5\n",
       "6595  40.7154 -74.0076    20    5\n",
       "6596  40.7644 -73.9719    20    5"
      ]
     },
     "execution_count": 56,
     "metadata": {},
     "output_type": "execute_result"
    }
   ],
   "source": [
    "data_test.head()"
   ]
  },
  {
   "cell_type": "code",
   "execution_count": 57,
   "id": "4f012494",
   "metadata": {},
   "outputs": [],
   "source": [
    "from sklearn.preprocessing import StandardScaler"
   ]
  },
  {
   "cell_type": "code",
   "execution_count": 58,
   "id": "ff35656e",
   "metadata": {},
   "outputs": [],
   "source": [
    "# Création du pipeline pour les variables quantitatives\n",
    "numeric_features = [0,1,2,3] # Positions des colonnes quantitatives dans X\n",
    "numeric_transformer = Pipeline(steps=[\n",
    "    ('scaler', StandardScaler()) # pour normaliser les variables\n",
    "])"
   ]
  },
  {
   "cell_type": "code",
   "execution_count": 59,
   "id": "0621bcd6",
   "metadata": {},
   "outputs": [],
   "source": [
    "preprocessor = ColumnTransformer(\n",
    "    transformers=[\n",
    "        ('num', numeric_transformer, numeric_features)     \n",
    "    ])"
   ]
  },
  {
   "cell_type": "code",
   "execution_count": 60,
   "id": "42cbc1cf",
   "metadata": {},
   "outputs": [
    {
     "name": "stdout",
     "output_type": "stream",
     "text": [
      "Preprocessing sur le train set...\n",
      "          lat      lon  hour  day\n",
      "6592  40.7735 -73.9599    20    5\n",
      "6593  40.7110 -74.0056    20    5\n",
      "6594  40.7707 -73.9620    20    5\n",
      "6595  40.7154 -74.0076    20    5\n",
      "6596  40.7644 -73.9719    20    5\n",
      "...Terminé.\n",
      "[[ 1.11333206  0.569842    0.          0.        ]\n",
      " [-0.74013632 -0.89110202  0.          0.        ]\n",
      " [ 1.03029667  0.50270891  0.          0.        ]\n",
      " [-0.60965215 -0.9550383   0.          0.        ]\n",
      " [ 0.84346706  0.18622432  0.          0.        ]]\n",
      "\n"
     ]
    }
   ],
   "source": [
    "# Preprocessings sur le dataset\n",
    "print(\"Preprocessing sur le train set...\")\n",
    "print(data_test.head())\n",
    "X = preprocessor.fit_transform(data_test) # fit_transform !!\n",
    "print('...Terminé.')\n",
    "print(X[0:5, :])\n",
    "print()"
   ]
  },
  {
   "cell_type": "code",
   "execution_count": 64,
   "id": "dc8088ff",
   "metadata": {},
   "outputs": [
    {
     "name": "stdout",
     "output_type": "stream",
     "text": [
      "[47509.21326006424, 33092.94175988448, 22789.838570348627, 18749.188781460165, 15078.289619162306, 13465.147617578445, 12124.940949001513, 10929.709777738177, 10041.98419050188, 9179.873387445996, 8419.889689865091, 7889.524446157036, 7287.7877207698475, 6730.590328745163, 6252.643197065263, 5791.5090578946065, 5509.390707836174, 5118.730490887652, 4795.322214106702, 4591.953727780691, 4336.792803114304, 4189.611313999566, 3975.0636953452117, 3819.912564065936, 3618.6113740129845, 3462.79882172498, 3309.6911769720095, 3198.1894690813]\n"
     ]
    }
   ],
   "source": [
    "# Utilisation de la méthode Elbow pour trouver le nombre optimal de clusters\n",
    "\n",
    "wcss =  []\n",
    "for i in range (2,30): \n",
    "    kmeans = KMeans(n_clusters= i)\n",
    "    kmeans.fit(X)\n",
    "    wcss.append(kmeans.inertia_)\n",
    "    \n",
    "print(wcss)"
   ]
  },
  {
   "cell_type": "code",
   "execution_count": 65,
   "id": "ce4cff8d",
   "metadata": {},
   "outputs": [
    {
     "data": {
      "text/html": [
       "<iframe\n",
       "    scrolling=\"no\"\n",
       "    width=\"100%\"\n",
       "    height=\"545px\"\n",
       "    src=\"iframe_figures/figure_65.html\"\n",
       "    frameborder=\"0\"\n",
       "    allowfullscreen\n",
       "></iframe>\n"
      ]
     },
     "metadata": {},
     "output_type": "display_data"
    }
   ],
   "source": [
    "fig = px.line(x = range(2,30), y = wcss)\n",
    "fig.show()"
   ]
  },
  {
   "cell_type": "code",
   "execution_count": 66,
   "id": "000c570c",
   "metadata": {},
   "outputs": [
    {
     "name": "stdout",
     "output_type": "stream",
     "text": [
      "[0.38671882174481775, 0.4271014316019649, 0.43387934361013825, 0.3858580182155104, 0.4095142392206252, 0.3493473039071469, 0.3545664958553138, 0.3602038408510312, 0.36253455114100375, 0.3654192376521782, 0.37279071410612297, 0.37783447943860937, 0.3769384583441521, 0.3788915778412327, 0.3849048729713969, 0.3882984895006331, 0.3931876242246231, 0.4033821637947759, 0.37694043105481956, 0.4101733694310996, 0.3874607751627536, 0.4117022332354219, 0.41134927646740227, 0.3865576398004663, 0.3978638153236354, 0.3887585068041197, 0.394552156461141, 0.391796667942741]\n"
     ]
    }
   ],
   "source": [
    "# Utilisation du silhouette_score pour déterminer le nombre optimal de clusters\n",
    "s_score = []\n",
    "for i in range (2,30): \n",
    "    kmeans = KMeans(n_clusters= i)\n",
    "    kmeans.fit(X)\n",
    "    s_score.append(silhouette_score(X, kmeans.predict(X)))\n",
    "\n",
    "print(s_score)"
   ]
  },
  {
   "cell_type": "code",
   "execution_count": 67,
   "id": "1222de6e",
   "metadata": {},
   "outputs": [
    {
     "data": {
      "text/html": [
       "<iframe\n",
       "    scrolling=\"no\"\n",
       "    width=\"100%\"\n",
       "    height=\"545px\"\n",
       "    src=\"iframe_figures/figure_67.html\"\n",
       "    frameborder=\"0\"\n",
       "    allowfullscreen\n",
       "></iframe>\n"
      ]
     },
     "metadata": {},
     "output_type": "display_data"
    }
   ],
   "source": [
    "# Affichage de scores en fonction du nombre de clusters\n",
    "fig = px.bar(x = range(2,30), y = s_score)\n",
    "fig.show(renderer=\"iframe\")"
   ]
  },
  {
   "cell_type": "code",
   "execution_count": 70,
   "id": "4d59793e",
   "metadata": {},
   "outputs": [
    {
     "data": {
      "text/plain": [
       "KMeans(n_clusters=4)"
      ]
     },
     "execution_count": 70,
     "metadata": {},
     "output_type": "execute_result"
    }
   ],
   "source": [
    "# On ré-entraîne un KMeans avec le nombre optimal de clusters\n",
    "kmeans = KMeans(n_clusters= 4)\n",
    "kmeans.fit(X)"
   ]
  },
  {
   "cell_type": "code",
   "execution_count": 71,
   "id": "ba9f0b17",
   "metadata": {},
   "outputs": [
    {
     "data": {
      "text/html": [
       "<div>\n",
       "<style scoped>\n",
       "    .dataframe tbody tr th:only-of-type {\n",
       "        vertical-align: middle;\n",
       "    }\n",
       "\n",
       "    .dataframe tbody tr th {\n",
       "        vertical-align: top;\n",
       "    }\n",
       "\n",
       "    .dataframe thead th {\n",
       "        text-align: right;\n",
       "    }\n",
       "</style>\n",
       "<table border=\"1\" class=\"dataframe\">\n",
       "  <thead>\n",
       "    <tr style=\"text-align: right;\">\n",
       "      <th></th>\n",
       "      <th>lat</th>\n",
       "      <th>lon</th>\n",
       "      <th>hour</th>\n",
       "      <th>day</th>\n",
       "      <th>Cluster_KMeans</th>\n",
       "    </tr>\n",
       "  </thead>\n",
       "  <tbody>\n",
       "    <tr>\n",
       "      <th>6592</th>\n",
       "      <td>40.7735</td>\n",
       "      <td>-73.9599</td>\n",
       "      <td>20</td>\n",
       "      <td>5</td>\n",
       "      <td>2</td>\n",
       "    </tr>\n",
       "    <tr>\n",
       "      <th>6593</th>\n",
       "      <td>40.7110</td>\n",
       "      <td>-74.0056</td>\n",
       "      <td>20</td>\n",
       "      <td>5</td>\n",
       "      <td>3</td>\n",
       "    </tr>\n",
       "    <tr>\n",
       "      <th>6594</th>\n",
       "      <td>40.7707</td>\n",
       "      <td>-73.9620</td>\n",
       "      <td>20</td>\n",
       "      <td>5</td>\n",
       "      <td>2</td>\n",
       "    </tr>\n",
       "    <tr>\n",
       "      <th>6595</th>\n",
       "      <td>40.7154</td>\n",
       "      <td>-74.0076</td>\n",
       "      <td>20</td>\n",
       "      <td>5</td>\n",
       "      <td>3</td>\n",
       "    </tr>\n",
       "    <tr>\n",
       "      <th>6596</th>\n",
       "      <td>40.7644</td>\n",
       "      <td>-73.9719</td>\n",
       "      <td>20</td>\n",
       "      <td>5</td>\n",
       "      <td>2</td>\n",
       "    </tr>\n",
       "  </tbody>\n",
       "</table>\n",
       "</div>"
      ],
      "text/plain": [
       "          lat      lon  hour  day  Cluster_KMeans\n",
       "6592  40.7735 -73.9599    20    5               2\n",
       "6593  40.7110 -74.0056    20    5               3\n",
       "6594  40.7707 -73.9620    20    5               2\n",
       "6595  40.7154 -74.0076    20    5               3\n",
       "6596  40.7644 -73.9719    20    5               2"
      ]
     },
     "execution_count": 71,
     "metadata": {},
     "output_type": "execute_result"
    }
   ],
   "source": [
    "data_test.loc[:,'Cluster_KMeans'] = kmeans.predict(X)\n",
    "data_test.head()"
   ]
  },
  {
   "cell_type": "code",
   "execution_count": 72,
   "id": "be672144",
   "metadata": {},
   "outputs": [
    {
     "data": {
      "text/html": [
       "<iframe\n",
       "    scrolling=\"no\"\n",
       "    width=\"100%\"\n",
       "    height=\"545px\"\n",
       "    src=\"iframe_figures/figure_72.html\"\n",
       "    frameborder=\"0\"\n",
       "    allowfullscreen\n",
       "></iframe>\n"
      ]
     },
     "metadata": {},
     "output_type": "display_data"
    }
   ],
   "source": [
    "fig = px.scatter_mapbox(data_test[(data_test.Cluster_KMeans >=0)],\n",
    "        lat=\"lat\", \n",
    "        lon=\"lon\",\n",
    "        color=\"Cluster_KMeans\",\n",
    "        mapbox_style = \"carto-positron\"\n",
    ")\n",
    "\n",
    "fig.show()"
   ]
  },
  {
   "cell_type": "markdown",
   "id": "a3633f54",
   "metadata": {},
   "source": [
    "LUNDI TOUTES LES HEURES"
   ]
  },
  {
   "cell_type": "code",
   "execution_count": 73,
   "id": "0ab1f396",
   "metadata": {},
   "outputs": [],
   "source": [
    "df_lundi = df_def.loc[(df_def['hour'] >=0 ) & (df_def['day'] == 0)]"
   ]
  },
  {
   "cell_type": "code",
   "execution_count": 74,
   "id": "65f1a441",
   "metadata": {},
   "outputs": [],
   "source": [
    "df_lundi = df_lundi.drop(columns=['base', 'new_date', 'new_time'])"
   ]
  },
  {
   "cell_type": "code",
   "execution_count": 75,
   "id": "1707236a",
   "metadata": {},
   "outputs": [],
   "source": [
    "# Création du pipeline pour les variables quantitatives\n",
    "numeric_features = [0,1,2,3] # Positions des colonnes quantitatives dans X\n",
    "numeric_transformer = Pipeline(steps=[\n",
    "    ('scaler', StandardScaler()) # pour normaliser les variables\n",
    "])"
   ]
  },
  {
   "cell_type": "code",
   "execution_count": 76,
   "id": "edc8cb7d",
   "metadata": {},
   "outputs": [],
   "source": [
    "preprocessor = ColumnTransformer(\n",
    "    transformers=[\n",
    "        ('num', numeric_transformer, numeric_features)     \n",
    "    ])"
   ]
  },
  {
   "cell_type": "code",
   "execution_count": 77,
   "id": "61997695",
   "metadata": {},
   "outputs": [
    {
     "name": "stdout",
     "output_type": "stream",
     "text": [
      "Preprocessing sur le train set...\n",
      "          lat      lon  hour  day\n",
      "7785  40.7205 -73.9939     0    0\n",
      "7786  40.7407 -74.0077     0    0\n",
      "7787  40.7591 -73.9892     0    0\n",
      "7788  40.7419 -74.0034     0    0\n",
      "7789  40.7419 -74.0034     1    0\n",
      "...Terminé.\n",
      "[[-0.73576865 -0.5364991  -2.43883748  0.        ]\n",
      " [-0.07787508 -0.96454444 -2.43883748  0.        ]\n",
      " [ 0.52139432 -0.39071554 -2.43883748  0.        ]\n",
      " [-0.03879229 -0.83116799 -2.43883748  0.        ]\n",
      " [-0.03879229 -0.83116799 -2.26114925  0.        ]]\n",
      "\n"
     ]
    }
   ],
   "source": [
    "# Preprocessings sur le dataset\n",
    "print(\"Preprocessing sur le train set...\")\n",
    "print(df_lundi.head())\n",
    "X_lundi = preprocessor.fit_transform(df_lundi) # fit_transform !!\n",
    "print('...Terminé.')\n",
    "print(X_lundi[0:5, :])\n",
    "print()"
   ]
  },
  {
   "cell_type": "code",
   "execution_count": 78,
   "id": "d45f9c9d",
   "metadata": {},
   "outputs": [
    {
     "name": "stdout",
     "output_type": "stream",
     "text": [
      "[1129794.722531321, 829254.9941951112, 653805.5557519038, 536708.5860245911, 454004.5166821128, 410959.32885111513, 377628.7598536638, 349368.0707424444, 328461.8903473841, 310448.9363816328, 291845.17809982796, 277257.0325873496, 262646.13290646777, 249152.0935165029, 239890.5963873708, 231079.97110542285, 221172.78478469982, 214805.39542712696, 208550.56980617333, 202128.83254001045, 197227.88718442444, 189912.32496648072, 186579.6905785141, 180956.9490369369, 176424.93992059893, 172915.75946319706, 168928.66869061335, 164787.97734061943]\n"
     ]
    }
   ],
   "source": [
    "# Utilisation de la méthode Elbow pour trouver le nombre optimal de clusters\n",
    "\n",
    "wcss =  []\n",
    "for i in range (2,30): \n",
    "    kmeans = KMeans(n_clusters= i)\n",
    "    kmeans.fit(X_lundi)\n",
    "    wcss.append(kmeans.inertia_)\n",
    "    \n",
    "print(wcss)"
   ]
  },
  {
   "cell_type": "code",
   "execution_count": 79,
   "id": "040c9729",
   "metadata": {},
   "outputs": [
    {
     "data": {
      "text/html": [
       "<iframe\n",
       "    scrolling=\"no\"\n",
       "    width=\"100%\"\n",
       "    height=\"545px\"\n",
       "    src=\"iframe_figures/figure_79.html\"\n",
       "    frameborder=\"0\"\n",
       "    allowfullscreen\n",
       "></iframe>\n"
      ]
     },
     "metadata": {},
     "output_type": "display_data"
    }
   ],
   "source": [
    "fig = px.line(x = range(2,30), y = wcss)\n",
    "fig.show()"
   ]
  },
  {
   "cell_type": "code",
   "execution_count": null,
   "id": "461088e3",
   "metadata": {
    "scrolled": true
   },
   "outputs": [],
   "source": [
    "# Utilisation du silhouette_score pour déterminer le nombre optimal de clusters\n",
    "s_score = []\n",
    "for i in range (2,30): \n",
    "    kmeans = KMeans(n_clusters= i)\n",
    "    kmeans.fit(X_lundi)\n",
    "    s_score.append(silhouette_score(X_lundi, kmeans.predict(X_lundi)))\n",
    "\n",
    "print(s_score)"
   ]
  },
  {
   "cell_type": "code",
   "execution_count": null,
   "id": "d382f6eb",
   "metadata": {},
   "outputs": [],
   "source": [
    "# Affichage de scores en fonction du nombre de clusters\n",
    "fig = px.bar(x = range(2,30), y = s_score)\n",
    "fig.show(renderer=\"iframe\")"
   ]
  },
  {
   "cell_type": "code",
   "execution_count": 81,
   "id": "1e9eea0f",
   "metadata": {},
   "outputs": [
    {
     "data": {
      "text/plain": [
       "KMeans(n_clusters=6)"
      ]
     },
     "execution_count": 81,
     "metadata": {},
     "output_type": "execute_result"
    }
   ],
   "source": [
    "# On ré-entraîne un KMeans avec le nombre optimal de clusters\n",
    "kmeans = KMeans(n_clusters= 6)\n",
    "kmeans.fit(X_lundi)"
   ]
  },
  {
   "cell_type": "code",
   "execution_count": 82,
   "id": "76d15585",
   "metadata": {},
   "outputs": [
    {
     "data": {
      "text/html": [
       "<div>\n",
       "<style scoped>\n",
       "    .dataframe tbody tr th:only-of-type {\n",
       "        vertical-align: middle;\n",
       "    }\n",
       "\n",
       "    .dataframe tbody tr th {\n",
       "        vertical-align: top;\n",
       "    }\n",
       "\n",
       "    .dataframe thead th {\n",
       "        text-align: right;\n",
       "    }\n",
       "</style>\n",
       "<table border=\"1\" class=\"dataframe\">\n",
       "  <thead>\n",
       "    <tr style=\"text-align: right;\">\n",
       "      <th></th>\n",
       "      <th>lat</th>\n",
       "      <th>lon</th>\n",
       "      <th>hour</th>\n",
       "      <th>day</th>\n",
       "      <th>Cluster_KMeans</th>\n",
       "    </tr>\n",
       "  </thead>\n",
       "  <tbody>\n",
       "    <tr>\n",
       "      <th>7785</th>\n",
       "      <td>40.7205</td>\n",
       "      <td>-73.9939</td>\n",
       "      <td>0</td>\n",
       "      <td>0</td>\n",
       "      <td>2</td>\n",
       "    </tr>\n",
       "    <tr>\n",
       "      <th>7786</th>\n",
       "      <td>40.7407</td>\n",
       "      <td>-74.0077</td>\n",
       "      <td>0</td>\n",
       "      <td>0</td>\n",
       "      <td>2</td>\n",
       "    </tr>\n",
       "    <tr>\n",
       "      <th>7787</th>\n",
       "      <td>40.7591</td>\n",
       "      <td>-73.9892</td>\n",
       "      <td>0</td>\n",
       "      <td>0</td>\n",
       "      <td>2</td>\n",
       "    </tr>\n",
       "    <tr>\n",
       "      <th>7788</th>\n",
       "      <td>40.7419</td>\n",
       "      <td>-74.0034</td>\n",
       "      <td>0</td>\n",
       "      <td>0</td>\n",
       "      <td>2</td>\n",
       "    </tr>\n",
       "    <tr>\n",
       "      <th>7789</th>\n",
       "      <td>40.7419</td>\n",
       "      <td>-74.0034</td>\n",
       "      <td>1</td>\n",
       "      <td>0</td>\n",
       "      <td>2</td>\n",
       "    </tr>\n",
       "  </tbody>\n",
       "</table>\n",
       "</div>"
      ],
      "text/plain": [
       "          lat      lon  hour  day  Cluster_KMeans\n",
       "7785  40.7205 -73.9939     0    0               2\n",
       "7786  40.7407 -74.0077     0    0               2\n",
       "7787  40.7591 -73.9892     0    0               2\n",
       "7788  40.7419 -74.0034     0    0               2\n",
       "7789  40.7419 -74.0034     1    0               2"
      ]
     },
     "execution_count": 82,
     "metadata": {},
     "output_type": "execute_result"
    }
   ],
   "source": [
    "df_lundi.loc[:,'Cluster_KMeans'] = kmeans.predict(X_lundi)\n",
    "df_lundi.head()"
   ]
  },
  {
   "cell_type": "code",
   "execution_count": 83,
   "id": "c59f7a75",
   "metadata": {},
   "outputs": [
    {
     "data": {
      "text/html": [
       "<iframe\n",
       "    scrolling=\"no\"\n",
       "    width=\"100%\"\n",
       "    height=\"545px\"\n",
       "    src=\"iframe_figures/figure_83.html\"\n",
       "    frameborder=\"0\"\n",
       "    allowfullscreen\n",
       "></iframe>\n"
      ]
     },
     "metadata": {},
     "output_type": "display_data"
    }
   ],
   "source": [
    "fig = px.scatter_mapbox(df_lundi[(df_lundi.Cluster_KMeans >=0)], \n",
    "        lat=\"lat\", \n",
    "        lon=\"lon\",\n",
    "        hover_name = 'hour',                \n",
    "        color=\"Cluster_KMeans\",\n",
    "        mapbox_style=\"carto-positron\",\n",
    "        animation_frame=\"hour\"\n",
    ")\n",
    "fig.show()"
   ]
  },
  {
   "cell_type": "code",
   "execution_count": null,
   "id": "3a9a4c20",
   "metadata": {},
   "outputs": [],
   "source": [
    "##################################################################################################"
   ]
  },
  {
   "cell_type": "markdown",
   "id": "4b2f5809",
   "metadata": {},
   "source": [
    "MARDI TOUTES LES HEURES"
   ]
  },
  {
   "cell_type": "code",
   "execution_count": 42,
   "id": "e8080597",
   "metadata": {},
   "outputs": [],
   "source": [
    "df_mardi = df_def.loc[(df_def['hour'] >=0 ) & (df_def['day'] == 0)]"
   ]
  },
  {
   "cell_type": "code",
   "execution_count": 43,
   "id": "6cb0d420",
   "metadata": {},
   "outputs": [],
   "source": [
    "df_mardi = df_mardi.drop(columns=['base', 'new_date', 'new_time'])"
   ]
  },
  {
   "cell_type": "code",
   "execution_count": 44,
   "id": "2d6b8539",
   "metadata": {},
   "outputs": [],
   "source": [
    "# Création du pipeline pour les variables quantitatives\n",
    "numeric_features = [0,1,2,3] # Positions des colonnes quantitatives dans X\n",
    "numeric_transformer = Pipeline(steps=[\n",
    "    ('scaler', StandardScaler()) # pour normaliser les variables\n",
    "])"
   ]
  },
  {
   "cell_type": "code",
   "execution_count": 45,
   "id": "c4e00fd4",
   "metadata": {},
   "outputs": [],
   "source": [
    "preprocessor = ColumnTransformer(\n",
    "    transformers=[\n",
    "        ('num', numeric_transformer, numeric_features)     \n",
    "    ])"
   ]
  },
  {
   "cell_type": "code",
   "execution_count": 46,
   "id": "947faadb",
   "metadata": {},
   "outputs": [
    {
     "name": "stdout",
     "output_type": "stream",
     "text": [
      "Preprocessing sur le train set...\n",
      "          lat      lon  hour  day\n",
      "7785  40.7205 -73.9939     0    0\n",
      "7786  40.7407 -74.0077     0    0\n",
      "7787  40.7591 -73.9892     0    0\n",
      "7788  40.7419 -74.0034     0    0\n",
      "7789  40.7419 -74.0034     1    0\n",
      "...Terminé.\n",
      "[[-0.73576865 -0.5364991  -2.43883748  0.        ]\n",
      " [-0.07787508 -0.96454444 -2.43883748  0.        ]\n",
      " [ 0.52139432 -0.39071554 -2.43883748  0.        ]\n",
      " [-0.03879229 -0.83116799 -2.43883748  0.        ]\n",
      " [-0.03879229 -0.83116799 -2.26114925  0.        ]]\n",
      "\n"
     ]
    }
   ],
   "source": [
    "# Preprocessings sur le dataset\n",
    "print(\"Preprocessing sur le train set...\")\n",
    "print(df_mardi.head())\n",
    "X_mardi = preprocessor.fit_transform(df_mardi) # fit_transform !!\n",
    "print('...Terminé.')\n",
    "print(X_mardi[0:5, :])\n",
    "print()"
   ]
  },
  {
   "cell_type": "code",
   "execution_count": 47,
   "id": "a62320e3",
   "metadata": {},
   "outputs": [
    {
     "name": "stdout",
     "output_type": "stream",
     "text": [
      "[1129802.447903874, 829255.1344387186, 653791.8343781393, 536676.3498880836, 454002.9935050368, 410962.94961122214, 377627.13438831596, 349135.85133179097, 331891.24593300757]\n"
     ]
    }
   ],
   "source": [
    "# Utilisation de la méthode Elbow pour trouver le nombre optimal de clusters\n",
    "\n",
    "wcss =  []\n",
    "for i in range (2,11): \n",
    "    kmeans = KMeans(n_clusters= i)\n",
    "    kmeans.fit(X_mardi)\n",
    "    wcss.append(kmeans.inertia_)\n",
    "    \n",
    "print(wcss)"
   ]
  },
  {
   "cell_type": "code",
   "execution_count": 48,
   "id": "6a65f7c9",
   "metadata": {},
   "outputs": [
    {
     "data": {
      "text/html": [
       "<iframe\n",
       "    scrolling=\"no\"\n",
       "    width=\"100%\"\n",
       "    height=\"545px\"\n",
       "    src=\"iframe_figures/figure_48.html\"\n",
       "    frameborder=\"0\"\n",
       "    allowfullscreen\n",
       "></iframe>\n"
      ]
     },
     "metadata": {},
     "output_type": "display_data"
    }
   ],
   "source": [
    "fig = px.line(x = range(2,11), y = wcss)\n",
    "fig.show()"
   ]
  },
  {
   "cell_type": "code",
   "execution_count": null,
   "id": "82f60c34",
   "metadata": {},
   "outputs": [],
   "source": [
    "# Utilisation du silhouette_score pour déterminer le nombre optimal de clusters\n",
    "s_score = []\n",
    "for i in range (2,11): \n",
    "    kmeans = KMeans(n_clusters= i)\n",
    "    kmeans.fit(X_mardi)\n",
    "    s_score.append(silhouette_score(X_mardi, kmeans.predict(X_mardi)))\n",
    "\n",
    "print(s_score)"
   ]
  },
  {
   "cell_type": "code",
   "execution_count": null,
   "id": "16155ad0",
   "metadata": {},
   "outputs": [],
   "source": [
    "# Affichage de scores en fonction du nombre de clusters\n",
    "fig = px.bar(x = range(2,11), y = s_score)\n",
    "fig.show(renderer=\"iframe\")"
   ]
  },
  {
   "cell_type": "code",
   "execution_count": 49,
   "id": "01c78ede",
   "metadata": {},
   "outputs": [
    {
     "data": {
      "text/plain": [
       "KMeans(n_clusters=3)"
      ]
     },
     "execution_count": 49,
     "metadata": {},
     "output_type": "execute_result"
    }
   ],
   "source": [
    "# On ré-entraîne un KMeans avec le nombre optimal de clusters\n",
    "kmeans = KMeans(n_clusters= 3)\n",
    "kmeans.fit(X_mardi)"
   ]
  },
  {
   "cell_type": "code",
   "execution_count": 50,
   "id": "ce8c89cf",
   "metadata": {},
   "outputs": [
    {
     "data": {
      "text/html": [
       "<div>\n",
       "<style scoped>\n",
       "    .dataframe tbody tr th:only-of-type {\n",
       "        vertical-align: middle;\n",
       "    }\n",
       "\n",
       "    .dataframe tbody tr th {\n",
       "        vertical-align: top;\n",
       "    }\n",
       "\n",
       "    .dataframe thead th {\n",
       "        text-align: right;\n",
       "    }\n",
       "</style>\n",
       "<table border=\"1\" class=\"dataframe\">\n",
       "  <thead>\n",
       "    <tr style=\"text-align: right;\">\n",
       "      <th></th>\n",
       "      <th>lat</th>\n",
       "      <th>lon</th>\n",
       "      <th>hour</th>\n",
       "      <th>day</th>\n",
       "      <th>Cluster_KMeans</th>\n",
       "    </tr>\n",
       "  </thead>\n",
       "  <tbody>\n",
       "    <tr>\n",
       "      <th>7785</th>\n",
       "      <td>40.7205</td>\n",
       "      <td>-73.9939</td>\n",
       "      <td>0</td>\n",
       "      <td>0</td>\n",
       "      <td>1</td>\n",
       "    </tr>\n",
       "    <tr>\n",
       "      <th>7786</th>\n",
       "      <td>40.7407</td>\n",
       "      <td>-74.0077</td>\n",
       "      <td>0</td>\n",
       "      <td>0</td>\n",
       "      <td>1</td>\n",
       "    </tr>\n",
       "    <tr>\n",
       "      <th>7787</th>\n",
       "      <td>40.7591</td>\n",
       "      <td>-73.9892</td>\n",
       "      <td>0</td>\n",
       "      <td>0</td>\n",
       "      <td>1</td>\n",
       "    </tr>\n",
       "    <tr>\n",
       "      <th>7788</th>\n",
       "      <td>40.7419</td>\n",
       "      <td>-74.0034</td>\n",
       "      <td>0</td>\n",
       "      <td>0</td>\n",
       "      <td>1</td>\n",
       "    </tr>\n",
       "    <tr>\n",
       "      <th>7789</th>\n",
       "      <td>40.7419</td>\n",
       "      <td>-74.0034</td>\n",
       "      <td>1</td>\n",
       "      <td>0</td>\n",
       "      <td>1</td>\n",
       "    </tr>\n",
       "  </tbody>\n",
       "</table>\n",
       "</div>"
      ],
      "text/plain": [
       "          lat      lon  hour  day  Cluster_KMeans\n",
       "7785  40.7205 -73.9939     0    0               1\n",
       "7786  40.7407 -74.0077     0    0               1\n",
       "7787  40.7591 -73.9892     0    0               1\n",
       "7788  40.7419 -74.0034     0    0               1\n",
       "7789  40.7419 -74.0034     1    0               1"
      ]
     },
     "execution_count": 50,
     "metadata": {},
     "output_type": "execute_result"
    }
   ],
   "source": [
    "df_mardi.loc[:,'Cluster_KMeans'] = kmeans.predict(X_mardi)\n",
    "df_mardi.head()"
   ]
  },
  {
   "cell_type": "code",
   "execution_count": 51,
   "id": "4f6064d3",
   "metadata": {},
   "outputs": [
    {
     "data": {
      "text/html": [
       "<iframe\n",
       "    scrolling=\"no\"\n",
       "    width=\"100%\"\n",
       "    height=\"545px\"\n",
       "    src=\"iframe_figures/figure_51.html\"\n",
       "    frameborder=\"0\"\n",
       "    allowfullscreen\n",
       "></iframe>\n"
      ]
     },
     "metadata": {},
     "output_type": "display_data"
    }
   ],
   "source": [
    "fig = px.scatter_mapbox(df_mardi[(df_mardi.Cluster_KMeans >=-1)], \n",
    "        lat=\"lat\", \n",
    "        lon=\"lon\",\n",
    "        hover_name = 'hour',                \n",
    "        color=\"Cluster_KMeans\",\n",
    "        mapbox_style=\"carto-positron\",\n",
    "        animation_frame=\"hour\"\n",
    ")\n",
    "fig.show()"
   ]
  },
  {
   "cell_type": "code",
   "execution_count": null,
   "id": "2d0970e4",
   "metadata": {},
   "outputs": [],
   "source": [
    "##########################################################################"
   ]
  },
  {
   "cell_type": "markdown",
   "id": "1a6657c2",
   "metadata": {},
   "source": [
    "MERCREDI TOUTES LES HEURES"
   ]
  },
  {
   "cell_type": "code",
   "execution_count": 66,
   "id": "db7f8214",
   "metadata": {},
   "outputs": [],
   "source": [
    "df_mercredi = df_def.loc[(df_def['hour'] >=0 ) & (df_def['day'] == 2)]"
   ]
  },
  {
   "cell_type": "code",
   "execution_count": 67,
   "id": "828048c4",
   "metadata": {},
   "outputs": [],
   "source": [
    "df_mercredi = df_mercredi.drop(columns=['base', 'new_date', 'new_time'])"
   ]
  },
  {
   "cell_type": "code",
   "execution_count": 68,
   "id": "700305f9",
   "metadata": {},
   "outputs": [],
   "source": [
    "# Création du pipeline pour les variables quantitatives\n",
    "numeric_features = [0,1,2,3] # Positions des colonnes quantitatives dans X\n",
    "numeric_transformer = Pipeline(steps=[\n",
    "    ('scaler', StandardScaler()) # pour normaliser les variables\n",
    "])"
   ]
  },
  {
   "cell_type": "code",
   "execution_count": 69,
   "id": "29c7a806",
   "metadata": {},
   "outputs": [],
   "source": [
    "preprocessor = ColumnTransformer(\n",
    "    transformers=[\n",
    "        ('num', numeric_transformer, numeric_features)     \n",
    "    ])"
   ]
  },
  {
   "cell_type": "code",
   "execution_count": 70,
   "id": "98ba87e5",
   "metadata": {},
   "outputs": [
    {
     "name": "stdout",
     "output_type": "stream",
     "text": [
      "Preprocessing sur le train set...\n",
      "          lat      lon  hour  day\n",
      "1011  40.7458 -73.9843     0    2\n",
      "1012  40.7285 -74.0467     0    2\n",
      "1013  40.7732 -73.9546     0    2\n",
      "1014  40.6550 -73.9786     0    2\n",
      "1015  40.7405 -74.0040     0    2\n",
      "...Terminé.\n",
      "[[ 0.09234206 -0.16939352 -2.60553226  0.        ]\n",
      " [-0.50584175 -2.34341013 -2.60553226  0.        ]\n",
      " [ 1.03975456  0.86535476 -2.60553226  0.        ]\n",
      " [-3.0472585   0.02919453 -2.60553226  0.        ]\n",
      " [-0.09091657 -0.85574171 -2.60553226  0.        ]]\n",
      "\n"
     ]
    }
   ],
   "source": [
    "# Preprocessings sur le dataset\n",
    "print(\"Preprocessing sur le train set...\")\n",
    "print(df_mercredi.head())\n",
    "X_mercredi = preprocessor.fit_transform(df_mercredi) # fit_transform !!\n",
    "print('...Terminé.')\n",
    "print(X_mercredi[0:5, :])\n",
    "print()"
   ]
  },
  {
   "cell_type": "code",
   "execution_count": 71,
   "id": "ba78037d",
   "metadata": {},
   "outputs": [
    {
     "name": "stdout",
     "output_type": "stream",
     "text": [
      "[1488650.8613862246, 1121449.103733254, 883105.4345422259, 726807.8028821521, 611639.6355937524, 556697.4886511853, 508521.34459461254, 467813.11829976604, 435785.74665506394]\n"
     ]
    }
   ],
   "source": [
    "# Utilisation de la méthode Elbow pour trouver le nombre optimal de clusters\n",
    "\n",
    "wcss =  []\n",
    "for i in range (2,11): \n",
    "    kmeans = KMeans(n_clusters= i)\n",
    "    kmeans.fit(X_mercredi)\n",
    "    wcss.append(kmeans.inertia_)\n",
    "    \n",
    "print(wcss)"
   ]
  },
  {
   "cell_type": "code",
   "execution_count": 72,
   "id": "53d632d0",
   "metadata": {},
   "outputs": [
    {
     "data": {
      "text/html": [
       "<iframe\n",
       "    scrolling=\"no\"\n",
       "    width=\"100%\"\n",
       "    height=\"545px\"\n",
       "    src=\"iframe_figures/figure_30.html\"\n",
       "    frameborder=\"0\"\n",
       "    allowfullscreen\n",
       "></iframe>\n"
      ]
     },
     "metadata": {},
     "output_type": "display_data"
    }
   ],
   "source": [
    "fig = px.line(x = range(2,11), y = wcss)\n",
    "fig.show()"
   ]
  },
  {
   "cell_type": "code",
   "execution_count": null,
   "id": "4cfcfbdd",
   "metadata": {},
   "outputs": [],
   "source": [
    "# Utilisation du silhouette_score pour déterminer le nombre optimal de clusters\n",
    "s_score = []\n",
    "for i in range (2,11): \n",
    "    kmeans = KMeans(n_clusters= i)\n",
    "    kmeans.fit(X_mercredi)\n",
    "    s_score.append(silhouette_score(X_mercredi, kmeans.predict(X_mercredi)))\n",
    "\n",
    "print(s_score)"
   ]
  },
  {
   "cell_type": "code",
   "execution_count": null,
   "id": "6ad9f1a1",
   "metadata": {},
   "outputs": [],
   "source": [
    "# Affichage de scores en fonction du nombre de clusters\n",
    "fig = px.bar(x = range(2,11), y = s_score)\n",
    "fig.show(renderer=\"iframe\")"
   ]
  },
  {
   "cell_type": "code",
   "execution_count": null,
   "id": "547aa097",
   "metadata": {},
   "outputs": [],
   "source": [
    "# On ré-entraîne un KMeans avec le nombre optimal de clusters\n",
    "kmeans = KMeans(n_clusters= 3)\n",
    "kmeans.fit(X_mardi)"
   ]
  },
  {
   "cell_type": "code",
   "execution_count": null,
   "id": "ea33a119",
   "metadata": {},
   "outputs": [],
   "source": [
    "df_mercredi.loc[:,'Cluster_KMeans'] = kmeans.predict(X_mercredi)\n",
    "df_mercredi.head()"
   ]
  },
  {
   "cell_type": "code",
   "execution_count": null,
   "id": "d0fc4ab2",
   "metadata": {},
   "outputs": [],
   "source": [
    "fig = px.scatter_mapbox(df_mercredi[(df_mercredi.Cluster_KMeans >=-1)], \n",
    "        lat=\"lat\", \n",
    "        lon=\"lon\",\n",
    "        hover_name = 'hour',                \n",
    "        color=\"Cluster_KMeans\",\n",
    "        mapbox_style=\"carto-positron\",\n",
    "        animation_frame=\"hour\"\n",
    ")\n",
    "fig.show()"
   ]
  },
  {
   "cell_type": "code",
   "execution_count": 1,
   "id": "5c6aba49",
   "metadata": {},
   "outputs": [],
   "source": [
    "############### MODELE NON RETENU   #########################################"
   ]
  }
 ],
 "metadata": {
  "kernelspec": {
   "display_name": "Python 3 (ipykernel)",
   "language": "python",
   "name": "python3"
  },
  "language_info": {
   "codemirror_mode": {
    "name": "ipython",
    "version": 3
   },
   "file_extension": ".py",
   "mimetype": "text/x-python",
   "name": "python",
   "nbconvert_exporter": "python",
   "pygments_lexer": "ipython3",
   "version": "3.9.12"
  }
 },
 "nbformat": 4,
 "nbformat_minor": 5
}
