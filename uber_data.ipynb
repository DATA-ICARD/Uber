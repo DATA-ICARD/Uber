{
 "cells": [
  {
   "cell_type": "code",
   "execution_count": 1,
   "id": "cc28a103-eb65-460b-8ac0-20b6a8d1c10b",
   "metadata": {},
   "outputs": [],
   "source": [
    "import pandas as pd\n",
    "import numpy as np\n",
    "import plotly.express as px\n",
    "import pickle as pk"
   ]
  },
  {
   "cell_type": "markdown",
   "id": "8b11a97f-93cd-490b-a105-1a167470b0e0",
   "metadata": {},
   "source": [
    "DECOUVERTE DU DATASET \\\\\n",
    "AVRIL"
   ]
  },
  {
   "cell_type": "code",
   "execution_count": 2,
   "id": "33ab8788-ab42-4636-8ecd-82ec5eec32cb",
   "metadata": {},
   "outputs": [],
   "source": [
    "df_apr = pd.read_csv('uber-raw-data-apr14.csv')"
   ]
  },
  {
   "cell_type": "code",
   "execution_count": 3,
   "id": "71fa3449-9bc5-4833-ac41-f9c79c1f152d",
   "metadata": {},
   "outputs": [
    {
     "data": {
      "text/html": [
       "<div>\n",
       "<style scoped>\n",
       "    .dataframe tbody tr th:only-of-type {\n",
       "        vertical-align: middle;\n",
       "    }\n",
       "\n",
       "    .dataframe tbody tr th {\n",
       "        vertical-align: top;\n",
       "    }\n",
       "\n",
       "    .dataframe thead th {\n",
       "        text-align: right;\n",
       "    }\n",
       "</style>\n",
       "<table border=\"1\" class=\"dataframe\">\n",
       "  <thead>\n",
       "    <tr style=\"text-align: right;\">\n",
       "      <th></th>\n",
       "      <th>Date/Time</th>\n",
       "      <th>Lat</th>\n",
       "      <th>Lon</th>\n",
       "      <th>Base</th>\n",
       "    </tr>\n",
       "  </thead>\n",
       "  <tbody>\n",
       "    <tr>\n",
       "      <th>0</th>\n",
       "      <td>4/1/2014 0:11:00</td>\n",
       "      <td>40.7690</td>\n",
       "      <td>-73.9549</td>\n",
       "      <td>B02512</td>\n",
       "    </tr>\n",
       "    <tr>\n",
       "      <th>1</th>\n",
       "      <td>4/1/2014 0:17:00</td>\n",
       "      <td>40.7267</td>\n",
       "      <td>-74.0345</td>\n",
       "      <td>B02512</td>\n",
       "    </tr>\n",
       "    <tr>\n",
       "      <th>2</th>\n",
       "      <td>4/1/2014 0:21:00</td>\n",
       "      <td>40.7316</td>\n",
       "      <td>-73.9873</td>\n",
       "      <td>B02512</td>\n",
       "    </tr>\n",
       "    <tr>\n",
       "      <th>3</th>\n",
       "      <td>4/1/2014 0:28:00</td>\n",
       "      <td>40.7588</td>\n",
       "      <td>-73.9776</td>\n",
       "      <td>B02512</td>\n",
       "    </tr>\n",
       "    <tr>\n",
       "      <th>4</th>\n",
       "      <td>4/1/2014 0:33:00</td>\n",
       "      <td>40.7594</td>\n",
       "      <td>-73.9722</td>\n",
       "      <td>B02512</td>\n",
       "    </tr>\n",
       "  </tbody>\n",
       "</table>\n",
       "</div>"
      ],
      "text/plain": [
       "          Date/Time      Lat      Lon    Base\n",
       "0  4/1/2014 0:11:00  40.7690 -73.9549  B02512\n",
       "1  4/1/2014 0:17:00  40.7267 -74.0345  B02512\n",
       "2  4/1/2014 0:21:00  40.7316 -73.9873  B02512\n",
       "3  4/1/2014 0:28:00  40.7588 -73.9776  B02512\n",
       "4  4/1/2014 0:33:00  40.7594 -73.9722  B02512"
      ]
     },
     "execution_count": 3,
     "metadata": {},
     "output_type": "execute_result"
    }
   ],
   "source": [
    "df_apr.head()"
   ]
  },
  {
   "cell_type": "code",
   "execution_count": 4,
   "id": "20184809-11d4-4135-8e12-ac27fd9b4754",
   "metadata": {
    "tags": []
   },
   "outputs": [
    {
     "data": {
      "text/html": [
       "<div>\n",
       "<style scoped>\n",
       "    .dataframe tbody tr th:only-of-type {\n",
       "        vertical-align: middle;\n",
       "    }\n",
       "\n",
       "    .dataframe tbody tr th {\n",
       "        vertical-align: top;\n",
       "    }\n",
       "\n",
       "    .dataframe thead th {\n",
       "        text-align: right;\n",
       "    }\n",
       "</style>\n",
       "<table border=\"1\" class=\"dataframe\">\n",
       "  <thead>\n",
       "    <tr style=\"text-align: right;\">\n",
       "      <th></th>\n",
       "      <th>Lat</th>\n",
       "      <th>Lon</th>\n",
       "    </tr>\n",
       "  </thead>\n",
       "  <tbody>\n",
       "    <tr>\n",
       "      <th>count</th>\n",
       "      <td>564516.000000</td>\n",
       "      <td>564516.000000</td>\n",
       "    </tr>\n",
       "    <tr>\n",
       "      <th>mean</th>\n",
       "      <td>40.740005</td>\n",
       "      <td>-73.976817</td>\n",
       "    </tr>\n",
       "    <tr>\n",
       "      <th>std</th>\n",
       "      <td>0.036083</td>\n",
       "      <td>0.050426</td>\n",
       "    </tr>\n",
       "    <tr>\n",
       "      <th>min</th>\n",
       "      <td>40.072900</td>\n",
       "      <td>-74.773300</td>\n",
       "    </tr>\n",
       "    <tr>\n",
       "      <th>25%</th>\n",
       "      <td>40.722500</td>\n",
       "      <td>-73.997700</td>\n",
       "    </tr>\n",
       "    <tr>\n",
       "      <th>50%</th>\n",
       "      <td>40.742500</td>\n",
       "      <td>-73.984800</td>\n",
       "    </tr>\n",
       "    <tr>\n",
       "      <th>75%</th>\n",
       "      <td>40.760700</td>\n",
       "      <td>-73.970000</td>\n",
       "    </tr>\n",
       "    <tr>\n",
       "      <th>max</th>\n",
       "      <td>42.116600</td>\n",
       "      <td>-72.066600</td>\n",
       "    </tr>\n",
       "  </tbody>\n",
       "</table>\n",
       "</div>"
      ],
      "text/plain": [
       "                 Lat            Lon\n",
       "count  564516.000000  564516.000000\n",
       "mean       40.740005     -73.976817\n",
       "std         0.036083       0.050426\n",
       "min        40.072900     -74.773300\n",
       "25%        40.722500     -73.997700\n",
       "50%        40.742500     -73.984800\n",
       "75%        40.760700     -73.970000\n",
       "max        42.116600     -72.066600"
      ]
     },
     "execution_count": 4,
     "metadata": {},
     "output_type": "execute_result"
    }
   ],
   "source": [
    "df_apr.describe()"
   ]
  },
  {
   "cell_type": "markdown",
   "id": "c9fa26fb-272c-4a98-9c5e-a1e650667427",
   "metadata": {},
   "source": [
    "modification du titre de la colonne"
   ]
  },
  {
   "cell_type": "code",
   "execution_count": 5,
   "id": "542a6860-ff98-4376-8864-c1bf83f92d16",
   "metadata": {},
   "outputs": [],
   "source": [
    "df_apr.columns = [x.lower().replace('/', '_') for x in df_apr.columns]"
   ]
  },
  {
   "cell_type": "code",
   "execution_count": 6,
   "id": "1b491e8f-8d53-48ca-818f-d67ff94c064c",
   "metadata": {},
   "outputs": [
    {
     "data": {
      "text/html": [
       "<div>\n",
       "<style scoped>\n",
       "    .dataframe tbody tr th:only-of-type {\n",
       "        vertical-align: middle;\n",
       "    }\n",
       "\n",
       "    .dataframe tbody tr th {\n",
       "        vertical-align: top;\n",
       "    }\n",
       "\n",
       "    .dataframe thead th {\n",
       "        text-align: right;\n",
       "    }\n",
       "</style>\n",
       "<table border=\"1\" class=\"dataframe\">\n",
       "  <thead>\n",
       "    <tr style=\"text-align: right;\">\n",
       "      <th></th>\n",
       "      <th>date_time</th>\n",
       "      <th>lat</th>\n",
       "      <th>lon</th>\n",
       "      <th>base</th>\n",
       "    </tr>\n",
       "  </thead>\n",
       "  <tbody>\n",
       "    <tr>\n",
       "      <th>0</th>\n",
       "      <td>4/1/2014 0:11:00</td>\n",
       "      <td>40.7690</td>\n",
       "      <td>-73.9549</td>\n",
       "      <td>B02512</td>\n",
       "    </tr>\n",
       "    <tr>\n",
       "      <th>1</th>\n",
       "      <td>4/1/2014 0:17:00</td>\n",
       "      <td>40.7267</td>\n",
       "      <td>-74.0345</td>\n",
       "      <td>B02512</td>\n",
       "    </tr>\n",
       "    <tr>\n",
       "      <th>2</th>\n",
       "      <td>4/1/2014 0:21:00</td>\n",
       "      <td>40.7316</td>\n",
       "      <td>-73.9873</td>\n",
       "      <td>B02512</td>\n",
       "    </tr>\n",
       "    <tr>\n",
       "      <th>3</th>\n",
       "      <td>4/1/2014 0:28:00</td>\n",
       "      <td>40.7588</td>\n",
       "      <td>-73.9776</td>\n",
       "      <td>B02512</td>\n",
       "    </tr>\n",
       "    <tr>\n",
       "      <th>4</th>\n",
       "      <td>4/1/2014 0:33:00</td>\n",
       "      <td>40.7594</td>\n",
       "      <td>-73.9722</td>\n",
       "      <td>B02512</td>\n",
       "    </tr>\n",
       "  </tbody>\n",
       "</table>\n",
       "</div>"
      ],
      "text/plain": [
       "          date_time      lat      lon    base\n",
       "0  4/1/2014 0:11:00  40.7690 -73.9549  B02512\n",
       "1  4/1/2014 0:17:00  40.7267 -74.0345  B02512\n",
       "2  4/1/2014 0:21:00  40.7316 -73.9873  B02512\n",
       "3  4/1/2014 0:28:00  40.7588 -73.9776  B02512\n",
       "4  4/1/2014 0:33:00  40.7594 -73.9722  B02512"
      ]
     },
     "execution_count": 6,
     "metadata": {},
     "output_type": "execute_result"
    }
   ],
   "source": [
    "df_apr.head()"
   ]
  },
  {
   "cell_type": "markdown",
   "id": "6425064e-5db6-4a28-8d98-7ce1b575617b",
   "metadata": {
    "tags": []
   },
   "source": [
    "Modif dataframe en object pandas datetime"
   ]
  },
  {
   "cell_type": "code",
   "execution_count": 7,
   "id": "c85ab8b7-9e5e-4339-b4d2-b61ed87b7086",
   "metadata": {},
   "outputs": [],
   "source": [
    "df_apr.date_time = pd.to_datetime(df_apr['date_time'])"
   ]
  },
  {
   "cell_type": "markdown",
   "id": "36be2575-d303-4dd0-82e6-f27c18df01f3",
   "metadata": {},
   "source": [
    "Séparation date et heure"
   ]
  },
  {
   "cell_type": "code",
   "execution_count": 8,
   "id": "e7d9cc1e-7075-4aa5-b045-795373a32c92",
   "metadata": {},
   "outputs": [],
   "source": [
    "new_dates, new_times = zip(*[(d.date(), d.time()) for d in df_apr['date_time']])\n",
    "df_apr = df_apr.assign(new_date=new_dates, new_time=new_times)"
   ]
  },
  {
   "cell_type": "markdown",
   "id": "3ec87173-7cfe-4c70-b24e-1046de7e538b",
   "metadata": {},
   "source": [
    "Ajout d'une ligne heure pour améliorer la visualisation"
   ]
  },
  {
   "cell_type": "code",
   "execution_count": 9,
   "id": "ef34455e-403f-4a6a-bd20-3b75a58e5bcd",
   "metadata": {},
   "outputs": [],
   "source": [
    "df_apr['hour'] = df_apr.date_time.dt.hour"
   ]
  },
  {
   "cell_type": "markdown",
   "id": "e6c3d70c-5c0a-4f0e-b1d8-5feb1cee9f1a",
   "metadata": {},
   "source": [
    "Ajout d'une ligne jour de la semaine pour améliorer la visualisation"
   ]
  },
  {
   "cell_type": "code",
   "execution_count": 10,
   "id": "1db39c15-4a99-4847-a332-5f3f4e63e1b5",
   "metadata": {},
   "outputs": [],
   "source": [
    "df_apr['day'] = df_apr.date_time.dt.dayofweek"
   ]
  },
  {
   "cell_type": "code",
   "execution_count": 11,
   "id": "9f4d198e-6b1b-435f-b5a8-18976a70aa29",
   "metadata": {},
   "outputs": [
    {
     "data": {
      "text/html": [
       "<div>\n",
       "<style scoped>\n",
       "    .dataframe tbody tr th:only-of-type {\n",
       "        vertical-align: middle;\n",
       "    }\n",
       "\n",
       "    .dataframe tbody tr th {\n",
       "        vertical-align: top;\n",
       "    }\n",
       "\n",
       "    .dataframe thead th {\n",
       "        text-align: right;\n",
       "    }\n",
       "</style>\n",
       "<table border=\"1\" class=\"dataframe\">\n",
       "  <thead>\n",
       "    <tr style=\"text-align: right;\">\n",
       "      <th></th>\n",
       "      <th>date_time</th>\n",
       "      <th>lat</th>\n",
       "      <th>lon</th>\n",
       "      <th>base</th>\n",
       "      <th>new_date</th>\n",
       "      <th>new_time</th>\n",
       "      <th>hour</th>\n",
       "      <th>day</th>\n",
       "    </tr>\n",
       "  </thead>\n",
       "  <tbody>\n",
       "    <tr>\n",
       "      <th>0</th>\n",
       "      <td>2014-04-01 00:11:00</td>\n",
       "      <td>40.7690</td>\n",
       "      <td>-73.9549</td>\n",
       "      <td>B02512</td>\n",
       "      <td>2014-04-01</td>\n",
       "      <td>00:11:00</td>\n",
       "      <td>0</td>\n",
       "      <td>1</td>\n",
       "    </tr>\n",
       "    <tr>\n",
       "      <th>1</th>\n",
       "      <td>2014-04-01 00:17:00</td>\n",
       "      <td>40.7267</td>\n",
       "      <td>-74.0345</td>\n",
       "      <td>B02512</td>\n",
       "      <td>2014-04-01</td>\n",
       "      <td>00:17:00</td>\n",
       "      <td>0</td>\n",
       "      <td>1</td>\n",
       "    </tr>\n",
       "    <tr>\n",
       "      <th>2</th>\n",
       "      <td>2014-04-01 00:21:00</td>\n",
       "      <td>40.7316</td>\n",
       "      <td>-73.9873</td>\n",
       "      <td>B02512</td>\n",
       "      <td>2014-04-01</td>\n",
       "      <td>00:21:00</td>\n",
       "      <td>0</td>\n",
       "      <td>1</td>\n",
       "    </tr>\n",
       "    <tr>\n",
       "      <th>3</th>\n",
       "      <td>2014-04-01 00:28:00</td>\n",
       "      <td>40.7588</td>\n",
       "      <td>-73.9776</td>\n",
       "      <td>B02512</td>\n",
       "      <td>2014-04-01</td>\n",
       "      <td>00:28:00</td>\n",
       "      <td>0</td>\n",
       "      <td>1</td>\n",
       "    </tr>\n",
       "    <tr>\n",
       "      <th>4</th>\n",
       "      <td>2014-04-01 00:33:00</td>\n",
       "      <td>40.7594</td>\n",
       "      <td>-73.9722</td>\n",
       "      <td>B02512</td>\n",
       "      <td>2014-04-01</td>\n",
       "      <td>00:33:00</td>\n",
       "      <td>0</td>\n",
       "      <td>1</td>\n",
       "    </tr>\n",
       "  </tbody>\n",
       "</table>\n",
       "</div>"
      ],
      "text/plain": [
       "            date_time      lat      lon    base    new_date  new_time  hour  \\\n",
       "0 2014-04-01 00:11:00  40.7690 -73.9549  B02512  2014-04-01  00:11:00     0   \n",
       "1 2014-04-01 00:17:00  40.7267 -74.0345  B02512  2014-04-01  00:17:00     0   \n",
       "2 2014-04-01 00:21:00  40.7316 -73.9873  B02512  2014-04-01  00:21:00     0   \n",
       "3 2014-04-01 00:28:00  40.7588 -73.9776  B02512  2014-04-01  00:28:00     0   \n",
       "4 2014-04-01 00:33:00  40.7594 -73.9722  B02512  2014-04-01  00:33:00     0   \n",
       "\n",
       "   day  \n",
       "0    1  \n",
       "1    1  \n",
       "2    1  \n",
       "3    1  \n",
       "4    1  "
      ]
     },
     "execution_count": 11,
     "metadata": {},
     "output_type": "execute_result"
    }
   ],
   "source": [
    "df_apr.head()"
   ]
  },
  {
   "cell_type": "code",
   "execution_count": 12,
   "id": "e13f38bd-2327-4327-881e-8c41fdfb81f8",
   "metadata": {},
   "outputs": [
    {
     "data": {
      "text/plain": [
       "<AxesSubplot:title={'center':'Trafic par jour en avril'}, xlabel='new_date'>"
      ]
     },
     "execution_count": 12,
     "metadata": {},
     "output_type": "execute_result"
    },
    {
     "data": {
      "image/png": "[encoded data removed]",
      "text/plain": [
       "<Figure size 432x288 with 1 Axes>"
      ]
     },
     "metadata": {
      "needs_background": "light"
     },
     "output_type": "display_data"
    }
   ],
   "source": [
    "df_apr.groupby(['new_date']).size().plot( kind='bar', title='Trafic par jour en avril')"
   ]
  },
  {
   "cell_type": "code",
   "execution_count": 13,
   "id": "58b0c95b-0bdd-4a0e-b66c-dcfaef4cc16d",
   "metadata": {},
   "outputs": [
    {
     "data": {
      "text/plain": [
       "<AxesSubplot:title={'center':'Trafic par heure en avril'}, xlabel='hour'>"
      ]
     },
     "execution_count": 13,
     "metadata": {},
     "output_type": "execute_result"
    },
    {
     "data": {
      "image/png": "[encoded data removed]",
      "text/plain": [
       "<Figure size 432x288 with 1 Axes>"
      ]
     },
     "metadata": {
      "needs_background": "light"
     },
     "output_type": "display_data"
    }
   ],
   "source": [
    "df_apr.groupby(['hour']).size().plot( kind='bar',title='Trafic par heure en avril')"
   ]
  },
  {
   "cell_type": "code",
   "execution_count": 14,
   "id": "ec835447-468b-4f06-bda8-29b8671a1023",
   "metadata": {},
   "outputs": [
    {
     "data": {
      "text/plain": [
       "<AxesSubplot:title={'center':'Trafic par jour de la semaine avril'}, xlabel='day'>"
      ]
     },
     "execution_count": 14,
     "metadata": {},
     "output_type": "execute_result"
    },
    {
     "data": {
      "image/png": "[encoded data removed]",
      "text/plain": [
       "<Figure size 432x288 with 1 Axes>"
      ]
     },
     "metadata": {
      "needs_background": "light"
     },
     "output_type": "display_data"
    }
   ],
   "source": [
    "df_apr.groupby(['day']).size().plot( kind='bar', title='Trafic par jour de la semaine avril')"
   ]
  },
  {
   "cell_type": "markdown",
   "id": "b51fdf9e-b749-4807-8eaa-1c7a5e78cffb",
   "metadata": {},
   "source": [
    "AOUT"
   ]
  },
  {
   "cell_type": "code",
   "execution_count": 15,
   "id": "ca4cf3df-9c63-498f-a989-33e3e96becd5",
   "metadata": {},
   "outputs": [],
   "source": [
    "df_aug = pd.read_csv('uber-raw-data-aug14.csv')"
   ]
  },
  {
   "cell_type": "code",
   "execution_count": 16,
   "id": "7141ffed-0f3c-4aa7-a3d5-be3ae2da50e8",
   "metadata": {},
   "outputs": [
    {
     "data": {
      "text/html": [
       "<div>\n",
       "<style scoped>\n",
       "    .dataframe tbody tr th:only-of-type {\n",
       "        vertical-align: middle;\n",
       "    }\n",
       "\n",
       "    .dataframe tbody tr th {\n",
       "        vertical-align: top;\n",
       "    }\n",
       "\n",
       "    .dataframe thead th {\n",
       "        text-align: right;\n",
       "    }\n",
       "</style>\n",
       "<table border=\"1\" class=\"dataframe\">\n",
       "  <thead>\n",
       "    <tr style=\"text-align: right;\">\n",
       "      <th></th>\n",
       "      <th>Date/Time</th>\n",
       "      <th>Lat</th>\n",
       "      <th>Lon</th>\n",
       "      <th>Base</th>\n",
       "    </tr>\n",
       "  </thead>\n",
       "  <tbody>\n",
       "    <tr>\n",
       "      <th>0</th>\n",
       "      <td>8/1/2014 0:03:00</td>\n",
       "      <td>40.7366</td>\n",
       "      <td>-73.9906</td>\n",
       "      <td>B02512</td>\n",
       "    </tr>\n",
       "    <tr>\n",
       "      <th>1</th>\n",
       "      <td>8/1/2014 0:09:00</td>\n",
       "      <td>40.7260</td>\n",
       "      <td>-73.9918</td>\n",
       "      <td>B02512</td>\n",
       "    </tr>\n",
       "    <tr>\n",
       "      <th>2</th>\n",
       "      <td>8/1/2014 0:12:00</td>\n",
       "      <td>40.7209</td>\n",
       "      <td>-74.0507</td>\n",
       "      <td>B02512</td>\n",
       "    </tr>\n",
       "    <tr>\n",
       "      <th>3</th>\n",
       "      <td>8/1/2014 0:12:00</td>\n",
       "      <td>40.7387</td>\n",
       "      <td>-73.9856</td>\n",
       "      <td>B02512</td>\n",
       "    </tr>\n",
       "    <tr>\n",
       "      <th>4</th>\n",
       "      <td>8/1/2014 0:12:00</td>\n",
       "      <td>40.7323</td>\n",
       "      <td>-74.0077</td>\n",
       "      <td>B02512</td>\n",
       "    </tr>\n",
       "  </tbody>\n",
       "</table>\n",
       "</div>"
      ],
      "text/plain": [
       "          Date/Time      Lat      Lon    Base\n",
       "0  8/1/2014 0:03:00  40.7366 -73.9906  B02512\n",
       "1  8/1/2014 0:09:00  40.7260 -73.9918  B02512\n",
       "2  8/1/2014 0:12:00  40.7209 -74.0507  B02512\n",
       "3  8/1/2014 0:12:00  40.7387 -73.9856  B02512\n",
       "4  8/1/2014 0:12:00  40.7323 -74.0077  B02512"
      ]
     },
     "execution_count": 16,
     "metadata": {},
     "output_type": "execute_result"
    }
   ],
   "source": [
    "df_aug.head()"
   ]
  },
  {
   "cell_type": "code",
   "execution_count": 17,
   "id": "ec382417-350a-472e-8ed3-f3b340771a36",
   "metadata": {
    "tags": []
   },
   "outputs": [
    {
     "data": {
      "text/html": [
       "<div>\n",
       "<style scoped>\n",
       "    .dataframe tbody tr th:only-of-type {\n",
       "        vertical-align: middle;\n",
       "    }\n",
       "\n",
       "    .dataframe tbody tr th {\n",
       "        vertical-align: top;\n",
       "    }\n",
       "\n",
       "    .dataframe thead th {\n",
       "        text-align: right;\n",
       "    }\n",
       "</style>\n",
       "<table border=\"1\" class=\"dataframe\">\n",
       "  <thead>\n",
       "    <tr style=\"text-align: right;\">\n",
       "      <th></th>\n",
       "      <th>Lat</th>\n",
       "      <th>Lon</th>\n",
       "    </tr>\n",
       "  </thead>\n",
       "  <tbody>\n",
       "    <tr>\n",
       "      <th>count</th>\n",
       "      <td>829275.000000</td>\n",
       "      <td>829275.000000</td>\n",
       "    </tr>\n",
       "    <tr>\n",
       "      <th>mean</th>\n",
       "      <td>40.737781</td>\n",
       "      <td>-73.970160</td>\n",
       "    </tr>\n",
       "    <tr>\n",
       "      <th>std</th>\n",
       "      <td>0.043628</td>\n",
       "      <td>0.061483</td>\n",
       "    </tr>\n",
       "    <tr>\n",
       "      <th>min</th>\n",
       "      <td>39.656900</td>\n",
       "      <td>-74.773700</td>\n",
       "    </tr>\n",
       "    <tr>\n",
       "      <th>25%</th>\n",
       "      <td>40.719000</td>\n",
       "      <td>-73.995800</td>\n",
       "    </tr>\n",
       "    <tr>\n",
       "      <th>50%</th>\n",
       "      <td>40.740700</td>\n",
       "      <td>-73.982600</td>\n",
       "    </tr>\n",
       "    <tr>\n",
       "      <th>75%</th>\n",
       "      <td>40.760500</td>\n",
       "      <td>-73.961200</td>\n",
       "    </tr>\n",
       "    <tr>\n",
       "      <th>max</th>\n",
       "      <td>41.318200</td>\n",
       "      <td>-72.335900</td>\n",
       "    </tr>\n",
       "  </tbody>\n",
       "</table>\n",
       "</div>"
      ],
      "text/plain": [
       "                 Lat            Lon\n",
       "count  829275.000000  829275.000000\n",
       "mean       40.737781     -73.970160\n",
       "std         0.043628       0.061483\n",
       "min        39.656900     -74.773700\n",
       "25%        40.719000     -73.995800\n",
       "50%        40.740700     -73.982600\n",
       "75%        40.760500     -73.961200\n",
       "max        41.318200     -72.335900"
      ]
     },
     "execution_count": 17,
     "metadata": {},
     "output_type": "execute_result"
    }
   ],
   "source": [
    "df_aug.describe()"
   ]
  },
  {
   "cell_type": "code",
   "execution_count": 18,
   "id": "b621fd10-58ee-49ed-8fa6-f651c8db7adc",
   "metadata": {},
   "outputs": [],
   "source": [
    "df_aug.columns = [x.lower().replace('/', '_') for x in df_aug.columns]"
   ]
  },
  {
   "cell_type": "code",
   "execution_count": 19,
   "id": "d47cb4f5-3895-4a79-bedf-a1a689e43208",
   "metadata": {},
   "outputs": [],
   "source": [
    "df_aug.date_time = pd.to_datetime(df_aug['date_time'])"
   ]
  },
  {
   "cell_type": "code",
   "execution_count": 20,
   "id": "c7389bc2-1bf7-41cc-bd00-84c60de80768",
   "metadata": {},
   "outputs": [],
   "source": [
    "new_dates, new_times = zip(*[(d.date(), d.time()) for d in df_aug['date_time']])\n",
    "df_aug = df_aug.assign(new_date=new_dates, new_time=new_times)"
   ]
  },
  {
   "cell_type": "code",
   "execution_count": 21,
   "id": "ea89cd73-4515-4cd9-9e89-874cc51324f2",
   "metadata": {},
   "outputs": [],
   "source": [
    "df_aug['hour'] = df_aug.date_time.dt.hour\n",
    "df_aug['day'] = df_aug.date_time.dt.dayofweek"
   ]
  },
  {
   "cell_type": "code",
   "execution_count": 22,
   "id": "fa65f439-fbe7-46e3-b693-1e593fe88a1b",
   "metadata": {
    "tags": []
   },
   "outputs": [
    {
     "data": {
      "text/html": [
       "<div>\n",
       "<style scoped>\n",
       "    .dataframe tbody tr th:only-of-type {\n",
       "        vertical-align: middle;\n",
       "    }\n",
       "\n",
       "    .dataframe tbody tr th {\n",
       "        vertical-align: top;\n",
       "    }\n",
       "\n",
       "    .dataframe thead th {\n",
       "        text-align: right;\n",
       "    }\n",
       "</style>\n",
       "<table border=\"1\" class=\"dataframe\">\n",
       "  <thead>\n",
       "    <tr style=\"text-align: right;\">\n",
       "      <th></th>\n",
       "      <th>date_time</th>\n",
       "      <th>lat</th>\n",
       "      <th>lon</th>\n",
       "      <th>base</th>\n",
       "      <th>new_date</th>\n",
       "      <th>new_time</th>\n",
       "      <th>hour</th>\n",
       "      <th>day</th>\n",
       "    </tr>\n",
       "  </thead>\n",
       "  <tbody>\n",
       "    <tr>\n",
       "      <th>0</th>\n",
       "      <td>2014-08-01 00:03:00</td>\n",
       "      <td>40.7366</td>\n",
       "      <td>-73.9906</td>\n",
       "      <td>B02512</td>\n",
       "      <td>2014-08-01</td>\n",
       "      <td>00:03:00</td>\n",
       "      <td>0</td>\n",
       "      <td>4</td>\n",
       "    </tr>\n",
       "    <tr>\n",
       "      <th>1</th>\n",
       "      <td>2014-08-01 00:09:00</td>\n",
       "      <td>40.7260</td>\n",
       "      <td>-73.9918</td>\n",
       "      <td>B02512</td>\n",
       "      <td>2014-08-01</td>\n",
       "      <td>00:09:00</td>\n",
       "      <td>0</td>\n",
       "      <td>4</td>\n",
       "    </tr>\n",
       "    <tr>\n",
       "      <th>2</th>\n",
       "      <td>2014-08-01 00:12:00</td>\n",
       "      <td>40.7209</td>\n",
       "      <td>-74.0507</td>\n",
       "      <td>B02512</td>\n",
       "      <td>2014-08-01</td>\n",
       "      <td>00:12:00</td>\n",
       "      <td>0</td>\n",
       "      <td>4</td>\n",
       "    </tr>\n",
       "    <tr>\n",
       "      <th>3</th>\n",
       "      <td>2014-08-01 00:12:00</td>\n",
       "      <td>40.7387</td>\n",
       "      <td>-73.9856</td>\n",
       "      <td>B02512</td>\n",
       "      <td>2014-08-01</td>\n",
       "      <td>00:12:00</td>\n",
       "      <td>0</td>\n",
       "      <td>4</td>\n",
       "    </tr>\n",
       "    <tr>\n",
       "      <th>4</th>\n",
       "      <td>2014-08-01 00:12:00</td>\n",
       "      <td>40.7323</td>\n",
       "      <td>-74.0077</td>\n",
       "      <td>B02512</td>\n",
       "      <td>2014-08-01</td>\n",
       "      <td>00:12:00</td>\n",
       "      <td>0</td>\n",
       "      <td>4</td>\n",
       "    </tr>\n",
       "  </tbody>\n",
       "</table>\n",
       "</div>"
      ],
      "text/plain": [
       "            date_time      lat      lon    base    new_date  new_time  hour  \\\n",
       "0 2014-08-01 00:03:00  40.7366 -73.9906  B02512  2014-08-01  00:03:00     0   \n",
       "1 2014-08-01 00:09:00  40.7260 -73.9918  B02512  2014-08-01  00:09:00     0   \n",
       "2 2014-08-01 00:12:00  40.7209 -74.0507  B02512  2014-08-01  00:12:00     0   \n",
       "3 2014-08-01 00:12:00  40.7387 -73.9856  B02512  2014-08-01  00:12:00     0   \n",
       "4 2014-08-01 00:12:00  40.7323 -74.0077  B02512  2014-08-01  00:12:00     0   \n",
       "\n",
       "   day  \n",
       "0    4  \n",
       "1    4  \n",
       "2    4  \n",
       "3    4  \n",
       "4    4  "
      ]
     },
     "execution_count": 22,
     "metadata": {},
     "output_type": "execute_result"
    }
   ],
   "source": [
    "df_aug.head()"
   ]
  },
  {
   "cell_type": "code",
   "execution_count": 23,
   "id": "d6321d25-c460-401a-8c46-934b818546cd",
   "metadata": {},
   "outputs": [
    {
     "data": {
      "text/plain": [
       "<AxesSubplot:title={'center':'Trafic par jour en aout'}, xlabel='new_date'>"
      ]
     },
     "execution_count": 23,
     "metadata": {},
     "output_type": "execute_result"
    },
    {
     "data": {
      "image/png": "[encoded data removed]",
      "text/plain": [
       "<Figure size 432x288 with 1 Axes>"
      ]
     },
     "metadata": {
      "needs_background": "light"
     },
     "output_type": "display_data"
    }
   ],
   "source": [
    "df_aug.groupby(['new_date']).size().plot( kind='bar', title='Trafic par jour en aout')"
   ]
  },
  {
   "cell_type": "code",
   "execution_count": 24,
   "id": "d2ef02f6-10b3-4a55-ba68-1059e7eed9a2",
   "metadata": {},
   "outputs": [
    {
     "data": {
      "text/plain": [
       "<AxesSubplot:xlabel='hour'>"
      ]
     },
     "execution_count": 24,
     "metadata": {},
     "output_type": "execute_result"
    },
    {
     "data": {
      "image/png": "[encoded data removed]",
      "text/plain": [
       "<Figure size 432x288 with 1 Axes>"
      ]
     },
     "metadata": {
      "needs_background": "light"
     },
     "output_type": "display_data"
    }
   ],
   "source": [
    "df_aug.groupby(['hour']).size().plot( kind='bar')"
   ]
  },
  {
   "cell_type": "code",
   "execution_count": 25,
   "id": "a03584cd-8035-4dbe-8d4b-1172bafe65c7",
   "metadata": {},
   "outputs": [
    {
     "data": {
      "text/plain": [
       "<AxesSubplot:title={'center':'Trafic par jour de la semaine aout'}, xlabel='day'>"
      ]
     },
     "execution_count": 25,
     "metadata": {},
     "output_type": "execute_result"
    },
    {
     "data": {
      "image/png": "[encoded data removed]",
      "text/plain": [
       "<Figure size 432x288 with 1 Axes>"
      ]
     },
     "metadata": {
      "needs_background": "light"
     },
     "output_type": "display_data"
    }
   ],
   "source": [
    "df_aug.groupby(['day']).size().plot( kind='bar', title='Trafic par jour de la semaine aout')"
   ]
  },
  {
   "cell_type": "markdown",
   "id": "467de2a7-ae02-4606-882a-455c69e8f645",
   "metadata": {
    "tags": []
   },
   "source": [
    "JUILLET"
   ]
  },
  {
   "cell_type": "code",
   "execution_count": 26,
   "id": "20cd2b00-e0ee-4bcb-970b-48922d948f38",
   "metadata": {},
   "outputs": [],
   "source": [
    "df_jul = pd.read_csv('uber-raw-data-jul14.csv')"
   ]
  },
  {
   "cell_type": "code",
   "execution_count": 27,
   "id": "aa7e212b-4c9b-4015-b1ff-2a1a1b9ba48f",
   "metadata": {},
   "outputs": [],
   "source": [
    "df_jul.columns = [x.lower().replace('/', '_') for x in df_jul.columns]"
   ]
  },
  {
   "cell_type": "code",
   "execution_count": 28,
   "id": "304ecf5d-aa1b-47b0-9164-523e1f44a4e6",
   "metadata": {},
   "outputs": [],
   "source": [
    "df_jul.date_time = pd.to_datetime(df_jul['date_time'])"
   ]
  },
  {
   "cell_type": "code",
   "execution_count": 29,
   "id": "0a4c2417-0f84-4551-b770-8349089bc3cc",
   "metadata": {},
   "outputs": [],
   "source": [
    "new_dates, new_times = zip(*[(d.date(), d.time()) for d in df_jul['date_time']])\n",
    "df_jul = df_jul.assign(new_date=new_dates, new_time=new_times)\n",
    "df_jul['hour'] = df_jul.date_time.dt.hour\n",
    "df_jul['day'] = df_jul.date_time.dt.dayofweek"
   ]
  },
  {
   "cell_type": "code",
   "execution_count": 30,
   "id": "289ce14a-937a-4141-90e6-b26b30ae3cac",
   "metadata": {
    "tags": []
   },
   "outputs": [
    {
     "data": {
      "text/plain": [
       "<AxesSubplot:title={'center':'Trafic par jour en juillet'}, xlabel='new_date'>"
      ]
     },
     "execution_count": 30,
     "metadata": {},
     "output_type": "execute_result"
    },
    {
     "data": {
      "image/png": "[encoded data removed]",
      "text/plain": [
       "<Figure size 432x288 with 1 Axes>"
      ]
     },
     "metadata": {
      "needs_background": "light"
     },
     "output_type": "display_data"
    }
   ],
   "source": [
    "df_jul.groupby(['new_date']).size().plot( kind='bar', title='Trafic par jour en juillet')"
   ]
  },
  {
   "cell_type": "code",
   "execution_count": 31,
   "id": "0c66153b-1244-4c74-abeb-8135655b9a78",
   "metadata": {
    "tags": []
   },
   "outputs": [
    {
     "data": {
      "text/plain": [
       "<AxesSubplot:xlabel='hour'>"
      ]
     },
     "execution_count": 31,
     "metadata": {},
     "output_type": "execute_result"
    },
    {
     "data": {
      "image/png": "[encoded data removed]",
      "text/plain": [
       "<Figure size 432x288 with 1 Axes>"
      ]
     },
     "metadata": {
      "needs_background": "light"
     },
     "output_type": "display_data"
    }
   ],
   "source": [
    "df_jul.groupby(['hour']).size().plot( kind='bar')"
   ]
  },
  {
   "cell_type": "code",
   "execution_count": 32,
   "id": "46e12b92-f3bc-494b-a8ed-04134e39610a",
   "metadata": {},
   "outputs": [
    {
     "data": {
      "text/plain": [
       "<AxesSubplot:title={'center':'Trafic par jour de la semaine juillet'}, xlabel='day'>"
      ]
     },
     "execution_count": 32,
     "metadata": {},
     "output_type": "execute_result"
    },
    {
     "data": {
      "image/png": "[encoded data removed]",
      "text/plain": [
       "<Figure size 432x288 with 1 Axes>"
      ]
     },
     "metadata": {
      "needs_background": "light"
     },
     "output_type": "display_data"
    }
   ],
   "source": [
    "df_jul.groupby(['day']).size().plot( kind='bar', title='Trafic par jour de la semaine juillet')"
   ]
  },
  {
   "cell_type": "markdown",
   "id": "591e1026-165e-42e6-9e4a-c52def1ac190",
   "metadata": {},
   "source": [
    "JUIN"
   ]
  },
  {
   "cell_type": "code",
   "execution_count": 33,
   "id": "7f94ea2e-389d-42ae-b3e5-ddad1b1195f8",
   "metadata": {},
   "outputs": [],
   "source": [
    "df_jun = pd.read_csv('uber-raw-data-jun14.csv')"
   ]
  },
  {
   "cell_type": "code",
   "execution_count": 34,
   "id": "73d1b103-4f49-4f16-a56a-386141554151",
   "metadata": {},
   "outputs": [],
   "source": [
    "df_jun.columns = [x.lower().replace('/', '_') for x in df_jun.columns]"
   ]
  },
  {
   "cell_type": "code",
   "execution_count": 35,
   "id": "9a30ba6a-3aad-4ca4-802c-d6c116615a16",
   "metadata": {},
   "outputs": [],
   "source": [
    "df_jun.date_time = pd.to_datetime(df_jun['date_time'])"
   ]
  },
  {
   "cell_type": "code",
   "execution_count": 36,
   "id": "85aba33c-4f44-4be7-aebc-ee63fea68ec0",
   "metadata": {},
   "outputs": [],
   "source": [
    "new_dates, new_times = zip(*[(d.date(), d.time()) for d in df_jun['date_time']])\n",
    "df_jun = df_jun.assign(new_date=new_dates, new_time=new_times)\n",
    "df_jun['hour'] = df_jun.date_time.dt.hour\n",
    "df_jun['day'] = df_jun.date_time.dt.dayofweek"
   ]
  },
  {
   "cell_type": "code",
   "execution_count": 37,
   "id": "e634b606-7df1-4975-9818-3096fe524d8e",
   "metadata": {},
   "outputs": [
    {
     "data": {
      "text/plain": [
       "<AxesSubplot:title={'center':'Trafic par jour en juin'}, xlabel='new_date'>"
      ]
     },
     "execution_count": 37,
     "metadata": {},
     "output_type": "execute_result"
    },
    {
     "data": {
      "image/png": "[encoded data removed]",
      "text/plain": [
       "<Figure size 432x288 with 1 Axes>"
      ]
     },
     "metadata": {
      "needs_background": "light"
     },
     "output_type": "display_data"
    }
   ],
   "source": [
    "df_jun.groupby(['new_date']).size().plot( kind='bar', title='Trafic par jour en juin')"
   ]
  },
  {
   "cell_type": "code",
   "execution_count": 38,
   "id": "9b557955-e6e2-414d-b0a9-5b0ec3fd59a3",
   "metadata": {},
   "outputs": [
    {
     "data": {
      "text/plain": [
       "<AxesSubplot:xlabel='hour'>"
      ]
     },
     "execution_count": 38,
     "metadata": {},
     "output_type": "execute_result"
    },
    {
     "data": {
      "image/png": "[encoded data removed]",
      "text/plain": [
       "<Figure size 432x288 with 1 Axes>"
      ]
     },
     "metadata": {
      "needs_background": "light"
     },
     "output_type": "display_data"
    }
   ],
   "source": [
    "df_jun.groupby(['hour']).size().plot( kind='bar')"
   ]
  },
  {
   "cell_type": "code",
   "execution_count": 39,
   "id": "44be8b6e-e7a5-47ae-a335-a097d16ccf52",
   "metadata": {},
   "outputs": [
    {
     "data": {
      "text/plain": [
       "<AxesSubplot:title={'center':'Trafic par jour de la semaine juin'}, xlabel='day'>"
      ]
     },
     "execution_count": 39,
     "metadata": {},
     "output_type": "execute_result"
    },
    {
     "data": {
      "image/png": "[encoded data removed]",
      "text/plain": [
       "<Figure size 432x288 with 1 Axes>"
      ]
     },
     "metadata": {
      "needs_background": "light"
     },
     "output_type": "display_data"
    }
   ],
   "source": [
    "df_jun.groupby(['day']).size().plot( kind='bar', title='Trafic par jour de la semaine juin')"
   ]
  },
  {
   "cell_type": "markdown",
   "id": "9e463b6b-a7cf-45e5-bc9b-75cc8f9598ee",
   "metadata": {},
   "source": [
    "MAI"
   ]
  },
  {
   "cell_type": "code",
   "execution_count": 40,
   "id": "3b440777-0d51-4447-a26f-934584924999",
   "metadata": {},
   "outputs": [],
   "source": [
    "df_may = pd.read_csv('uber-raw-data-may14.csv')"
   ]
  },
  {
   "cell_type": "code",
   "execution_count": 41,
   "id": "343a6a15-6ceb-46a5-bed3-08280d94d518",
   "metadata": {},
   "outputs": [],
   "source": [
    "df_may.columns = [x.lower().replace('/', '_') for x in df_may.columns]"
   ]
  },
  {
   "cell_type": "code",
   "execution_count": 42,
   "id": "72f88085-53dd-4011-8fdf-f10b1a6a9c58",
   "metadata": {},
   "outputs": [],
   "source": [
    "df_may.date_time = pd.to_datetime(df_may['date_time'])"
   ]
  },
  {
   "cell_type": "code",
   "execution_count": 43,
   "id": "cf7b5834-144a-43af-a45f-43776024fc88",
   "metadata": {},
   "outputs": [],
   "source": [
    "new_dates, new_times = zip(*[(d.date(), d.time()) for d in df_may['date_time']])\n",
    "df_may = df_may.assign(new_date=new_dates, new_time=new_times)\n",
    "df_may['hour'] = df_may.date_time.dt.hour\n",
    "df_may['day'] = df_may.date_time.dt.dayofweek"
   ]
  },
  {
   "cell_type": "code",
   "execution_count": 44,
   "id": "6cc14b5a-3109-4ff6-9030-f5917e1fc175",
   "metadata": {},
   "outputs": [
    {
     "data": {
      "text/plain": [
       "<AxesSubplot:title={'center':'Trafic par jour en mai'}, xlabel='new_date'>"
      ]
     },
     "execution_count": 44,
     "metadata": {},
     "output_type": "execute_result"
    },
    {
     "data": {
      "image/png": "[encoded data removed]",
      "text/plain": [
       "<Figure size 432x288 with 1 Axes>"
      ]
     },
     "metadata": {
      "needs_background": "light"
     },
     "output_type": "display_data"
    }
   ],
   "source": [
    "df_may.groupby(['new_date']).size().plot( kind='bar', title='Trafic par jour en mai')"
   ]
  },
  {
   "cell_type": "code",
   "execution_count": 45,
   "id": "b2a239c4-bb52-46c6-8d5c-ed28d17676d4",
   "metadata": {},
   "outputs": [
    {
     "data": {
      "text/plain": [
       "<AxesSubplot:xlabel='hour'>"
      ]
     },
     "execution_count": 45,
     "metadata": {},
     "output_type": "execute_result"
    },
    {
     "data": {
      "image/png": "[encoded data removed]",
      "text/plain": [
       "<Figure size 432x288 with 1 Axes>"
      ]
     },
     "metadata": {
      "needs_background": "light"
     },
     "output_type": "display_data"
    }
   ],
   "source": [
    "df_may.groupby(['hour']).size().plot( kind='bar')"
   ]
  },
  {
   "cell_type": "code",
   "execution_count": 46,
   "id": "a5558aa0-e63f-4971-96c6-bcef39b34a0b",
   "metadata": {},
   "outputs": [
    {
     "data": {
      "text/plain": [
       "<AxesSubplot:title={'center':'Trafic par jour de la semaine mai'}, xlabel='day'>"
      ]
     },
     "execution_count": 46,
     "metadata": {},
     "output_type": "execute_result"
    },
    {
     "data": {
      "image/png": "[encoded data removed]",
      "text/plain": [
       "<Figure size 432x288 with 1 Axes>"
      ]
     },
     "metadata": {
      "needs_background": "light"
     },
     "output_type": "display_data"
    }
   ],
   "source": [
    "df_may.groupby(['day']).size().plot( kind='bar', title='Trafic par jour de la semaine mai')"
   ]
  },
  {
   "cell_type": "markdown",
   "id": "3bd822cf-d9f5-44d6-992a-568ed890d735",
   "metadata": {},
   "source": [
    "SEPTEMBRE"
   ]
  },
  {
   "cell_type": "code",
   "execution_count": 47,
   "id": "4fef98c8-52bd-4a60-b612-8bc00bc26306",
   "metadata": {},
   "outputs": [],
   "source": [
    "df_sep = pd.read_csv('uber-raw-data-sep14.csv')"
   ]
  },
  {
   "cell_type": "code",
   "execution_count": 48,
   "id": "d53f4941-412f-4f8d-ad5c-35ed6a03584b",
   "metadata": {},
   "outputs": [],
   "source": [
    "df_sep.columns = [x.lower().replace('/', '_') for x in df_sep.columns]"
   ]
  },
  {
   "cell_type": "code",
   "execution_count": 49,
   "id": "7bc45de8-730e-4445-a18f-cf34135ed49e",
   "metadata": {},
   "outputs": [],
   "source": [
    "df_sep.date_time = pd.to_datetime(df_sep['date_time'])"
   ]
  },
  {
   "cell_type": "code",
   "execution_count": 50,
   "id": "6b384388-4617-4d53-87ee-66e3dca82133",
   "metadata": {},
   "outputs": [],
   "source": [
    "new_dates, new_times = zip(*[(d.date(), d.time()) for d in df_sep['date_time']])\n",
    "df_sep = df_sep.assign(new_date=new_dates, new_time=new_times)\n",
    "df_sep['hour'] = df_sep.date_time.dt.hour\n",
    "df_sep['day'] = df_sep.date_time.dt.dayofweek"
   ]
  },
  {
   "cell_type": "code",
   "execution_count": 51,
   "id": "ad9ef0b5-78d8-41c3-8242-132b53d4a0f7",
   "metadata": {},
   "outputs": [
    {
     "data": {
      "text/plain": [
       "<AxesSubplot:title={'center':'Trafic par jour en septembre'}, xlabel='new_date'>"
      ]
     },
     "execution_count": 51,
     "metadata": {},
     "output_type": "execute_result"
    },
    {
     "data": {
      "image/png": "[encoded data removed]",
      "text/plain": [
       "<Figure size 432x288 with 1 Axes>"
      ]
     },
     "metadata": {
      "needs_background": "light"
     },
     "output_type": "display_data"
    }
   ],
   "source": [
    "df_sep.groupby(['new_date']).size().plot( kind='bar', title='Trafic par jour en septembre')"
   ]
  },
  {
   "cell_type": "code",
   "execution_count": 52,
   "id": "545c058c-0474-4cea-9699-5d54b92f04b2",
   "metadata": {},
   "outputs": [
    {
     "data": {
      "text/plain": [
       "<AxesSubplot:xlabel='hour'>"
      ]
     },
     "execution_count": 52,
     "metadata": {},
     "output_type": "execute_result"
    },
    {
     "data": {
      "image/png": "[encoded data removed]",
      "text/plain": [
       "<Figure size 432x288 with 1 Axes>"
      ]
     },
     "metadata": {
      "needs_background": "light"
     },
     "output_type": "display_data"
    }
   ],
   "source": [
    "df_sep.groupby(['hour']).size().plot( kind='bar')"
   ]
  },
  {
   "cell_type": "code",
   "execution_count": 53,
   "id": "694deca1-30bc-4846-b94b-1f017123023c",
   "metadata": {},
   "outputs": [
    {
     "data": {
      "text/plain": [
       "<AxesSubplot:title={'center':'Trafic par jour de la semaine septembre'}, xlabel='day'>"
      ]
     },
     "execution_count": 53,
     "metadata": {},
     "output_type": "execute_result"
    },
    {
     "data": {
      "image/png": "[encoded data removed]",
      "text/plain": [
       "<Figure size 432x288 with 1 Axes>"
      ]
     },
     "metadata": {
      "needs_background": "light"
     },
     "output_type": "display_data"
    }
   ],
   "source": [
    "df_sep.groupby(['day']).size().plot( kind='bar', title='Trafic par jour de la semaine septembre')"
   ]
  },
  {
   "cell_type": "markdown",
   "id": "de54a1f7-602c-43ba-b23d-a88fa3086847",
   "metadata": {
    "tags": []
   },
   "source": [
    "CONCATENATION DES DATAFRAMES ET SUPPRESSION DES COLONNES QUI NE SERVENT PAS DANS LE MODELE ML"
   ]
  },
  {
   "cell_type": "code",
   "execution_count": 54,
   "id": "eb8d0f98-bb81-4a00-9622-15f00d9a5890",
   "metadata": {},
   "outputs": [],
   "source": [
    "df_def = pd.concat([df_apr, df_aug, df_jul, df_jun, df_may, df_sep])\n"
   ]
  },
  {
   "cell_type": "code",
   "execution_count": 55,
   "id": "a403debd-df01-426b-9ba4-3efc60c81905",
   "metadata": {},
   "outputs": [
    {
     "data": {
      "text/html": [
       "<div>\n",
       "<style scoped>\n",
       "    .dataframe tbody tr th:only-of-type {\n",
       "        vertical-align: middle;\n",
       "    }\n",
       "\n",
       "    .dataframe tbody tr th {\n",
       "        vertical-align: top;\n",
       "    }\n",
       "\n",
       "    .dataframe thead th {\n",
       "        text-align: right;\n",
       "    }\n",
       "</style>\n",
       "<table border=\"1\" class=\"dataframe\">\n",
       "  <thead>\n",
       "    <tr style=\"text-align: right;\">\n",
       "      <th></th>\n",
       "      <th>date_time</th>\n",
       "      <th>lat</th>\n",
       "      <th>lon</th>\n",
       "      <th>base</th>\n",
       "      <th>new_date</th>\n",
       "      <th>new_time</th>\n",
       "      <th>hour</th>\n",
       "      <th>day</th>\n",
       "    </tr>\n",
       "  </thead>\n",
       "  <tbody>\n",
       "    <tr>\n",
       "      <th>0</th>\n",
       "      <td>2014-04-01 00:11:00</td>\n",
       "      <td>40.7690</td>\n",
       "      <td>-73.9549</td>\n",
       "      <td>B02512</td>\n",
       "      <td>2014-04-01</td>\n",
       "      <td>00:11:00</td>\n",
       "      <td>0</td>\n",
       "      <td>1</td>\n",
       "    </tr>\n",
       "    <tr>\n",
       "      <th>1</th>\n",
       "      <td>2014-04-01 00:17:00</td>\n",
       "      <td>40.7267</td>\n",
       "      <td>-74.0345</td>\n",
       "      <td>B02512</td>\n",
       "      <td>2014-04-01</td>\n",
       "      <td>00:17:00</td>\n",
       "      <td>0</td>\n",
       "      <td>1</td>\n",
       "    </tr>\n",
       "    <tr>\n",
       "      <th>2</th>\n",
       "      <td>2014-04-01 00:21:00</td>\n",
       "      <td>40.7316</td>\n",
       "      <td>-73.9873</td>\n",
       "      <td>B02512</td>\n",
       "      <td>2014-04-01</td>\n",
       "      <td>00:21:00</td>\n",
       "      <td>0</td>\n",
       "      <td>1</td>\n",
       "    </tr>\n",
       "    <tr>\n",
       "      <th>3</th>\n",
       "      <td>2014-04-01 00:28:00</td>\n",
       "      <td>40.7588</td>\n",
       "      <td>-73.9776</td>\n",
       "      <td>B02512</td>\n",
       "      <td>2014-04-01</td>\n",
       "      <td>00:28:00</td>\n",
       "      <td>0</td>\n",
       "      <td>1</td>\n",
       "    </tr>\n",
       "    <tr>\n",
       "      <th>4</th>\n",
       "      <td>2014-04-01 00:33:00</td>\n",
       "      <td>40.7594</td>\n",
       "      <td>-73.9722</td>\n",
       "      <td>B02512</td>\n",
       "      <td>2014-04-01</td>\n",
       "      <td>00:33:00</td>\n",
       "      <td>0</td>\n",
       "      <td>1</td>\n",
       "    </tr>\n",
       "  </tbody>\n",
       "</table>\n",
       "</div>"
      ],
      "text/plain": [
       "            date_time      lat      lon    base    new_date  new_time  hour  \\\n",
       "0 2014-04-01 00:11:00  40.7690 -73.9549  B02512  2014-04-01  00:11:00     0   \n",
       "1 2014-04-01 00:17:00  40.7267 -74.0345  B02512  2014-04-01  00:17:00     0   \n",
       "2 2014-04-01 00:21:00  40.7316 -73.9873  B02512  2014-04-01  00:21:00     0   \n",
       "3 2014-04-01 00:28:00  40.7588 -73.9776  B02512  2014-04-01  00:28:00     0   \n",
       "4 2014-04-01 00:33:00  40.7594 -73.9722  B02512  2014-04-01  00:33:00     0   \n",
       "\n",
       "   day  \n",
       "0    1  \n",
       "1    1  \n",
       "2    1  \n",
       "3    1  \n",
       "4    1  "
      ]
     },
     "execution_count": 55,
     "metadata": {},
     "output_type": "execute_result"
    }
   ],
   "source": [
    "df_def.head()"
   ]
  },
  {
   "cell_type": "code",
   "execution_count": 56,
   "id": "324ba00c-325e-4cfd-9c0b-157bcf40c7ad",
   "metadata": {},
   "outputs": [],
   "source": [
    "df_def_2 = df_def.drop(columns=[\"date_time\"])"
   ]
  },
  {
   "cell_type": "code",
   "execution_count": 57,
   "id": "e89ca238-a2b6-44f2-8195-849d7b2bc4ed",
   "metadata": {},
   "outputs": [
    {
     "data": {
      "text/html": [
       "<div>\n",
       "<style scoped>\n",
       "    .dataframe tbody tr th:only-of-type {\n",
       "        vertical-align: middle;\n",
       "    }\n",
       "\n",
       "    .dataframe tbody tr th {\n",
       "        vertical-align: top;\n",
       "    }\n",
       "\n",
       "    .dataframe thead th {\n",
       "        text-align: right;\n",
       "    }\n",
       "</style>\n",
       "<table border=\"1\" class=\"dataframe\">\n",
       "  <thead>\n",
       "    <tr style=\"text-align: right;\">\n",
       "      <th></th>\n",
       "      <th>lat</th>\n",
       "      <th>lon</th>\n",
       "      <th>base</th>\n",
       "      <th>new_date</th>\n",
       "      <th>new_time</th>\n",
       "      <th>hour</th>\n",
       "      <th>day</th>\n",
       "    </tr>\n",
       "  </thead>\n",
       "  <tbody>\n",
       "    <tr>\n",
       "      <th>0</th>\n",
       "      <td>40.7690</td>\n",
       "      <td>-73.9549</td>\n",
       "      <td>B02512</td>\n",
       "      <td>2014-04-01</td>\n",
       "      <td>00:11:00</td>\n",
       "      <td>0</td>\n",
       "      <td>1</td>\n",
       "    </tr>\n",
       "    <tr>\n",
       "      <th>1</th>\n",
       "      <td>40.7267</td>\n",
       "      <td>-74.0345</td>\n",
       "      <td>B02512</td>\n",
       "      <td>2014-04-01</td>\n",
       "      <td>00:17:00</td>\n",
       "      <td>0</td>\n",
       "      <td>1</td>\n",
       "    </tr>\n",
       "    <tr>\n",
       "      <th>2</th>\n",
       "      <td>40.7316</td>\n",
       "      <td>-73.9873</td>\n",
       "      <td>B02512</td>\n",
       "      <td>2014-04-01</td>\n",
       "      <td>00:21:00</td>\n",
       "      <td>0</td>\n",
       "      <td>1</td>\n",
       "    </tr>\n",
       "    <tr>\n",
       "      <th>3</th>\n",
       "      <td>40.7588</td>\n",
       "      <td>-73.9776</td>\n",
       "      <td>B02512</td>\n",
       "      <td>2014-04-01</td>\n",
       "      <td>00:28:00</td>\n",
       "      <td>0</td>\n",
       "      <td>1</td>\n",
       "    </tr>\n",
       "    <tr>\n",
       "      <th>4</th>\n",
       "      <td>40.7594</td>\n",
       "      <td>-73.9722</td>\n",
       "      <td>B02512</td>\n",
       "      <td>2014-04-01</td>\n",
       "      <td>00:33:00</td>\n",
       "      <td>0</td>\n",
       "      <td>1</td>\n",
       "    </tr>\n",
       "  </tbody>\n",
       "</table>\n",
       "</div>"
      ],
      "text/plain": [
       "       lat      lon    base    new_date  new_time  hour  day\n",
       "0  40.7690 -73.9549  B02512  2014-04-01  00:11:00     0    1\n",
       "1  40.7267 -74.0345  B02512  2014-04-01  00:17:00     0    1\n",
       "2  40.7316 -73.9873  B02512  2014-04-01  00:21:00     0    1\n",
       "3  40.7588 -73.9776  B02512  2014-04-01  00:28:00     0    1\n",
       "4  40.7594 -73.9722  B02512  2014-04-01  00:33:00     0    1"
      ]
     },
     "execution_count": 57,
     "metadata": {},
     "output_type": "execute_result"
    }
   ],
   "source": [
    "df_def_2.head()"
   ]
  },
  {
   "cell_type": "code",
   "execution_count": 58,
   "id": "59f08d5b-51b8-4511-b415-24d4967e8f5b",
   "metadata": {},
   "outputs": [
    {
     "data": {
      "text/plain": [
       "lat         False\n",
       "lon         False\n",
       "base        False\n",
       "new_date    False\n",
       "new_time    False\n",
       "hour        False\n",
       "day         False\n",
       "dtype: bool"
      ]
     },
     "execution_count": 58,
     "metadata": {},
     "output_type": "execute_result"
    }
   ],
   "source": [
    "df_def_2.isnull().any()"
   ]
  },
  {
   "cell_type": "code",
   "execution_count": 59,
   "id": "d8c69e7e-29a0-4299-8183-79c07fd4871a",
   "metadata": {},
   "outputs": [
    {
     "data": {
      "text/html": [
       "<div>\n",
       "<style scoped>\n",
       "    .dataframe tbody tr th:only-of-type {\n",
       "        vertical-align: middle;\n",
       "    }\n",
       "\n",
       "    .dataframe tbody tr th {\n",
       "        vertical-align: top;\n",
       "    }\n",
       "\n",
       "    .dataframe thead th {\n",
       "        text-align: right;\n",
       "    }\n",
       "</style>\n",
       "<table border=\"1\" class=\"dataframe\">\n",
       "  <thead>\n",
       "    <tr style=\"text-align: right;\">\n",
       "      <th></th>\n",
       "      <th>lat</th>\n",
       "      <th>lon</th>\n",
       "      <th>base</th>\n",
       "      <th>new_date</th>\n",
       "      <th>new_time</th>\n",
       "      <th>hour</th>\n",
       "      <th>day</th>\n",
       "    </tr>\n",
       "  </thead>\n",
       "  <tbody>\n",
       "    <tr>\n",
       "      <th>0</th>\n",
       "      <td>40.7690</td>\n",
       "      <td>-73.9549</td>\n",
       "      <td>B02512</td>\n",
       "      <td>2014-04-01</td>\n",
       "      <td>00:11:00</td>\n",
       "      <td>0</td>\n",
       "      <td>1</td>\n",
       "    </tr>\n",
       "    <tr>\n",
       "      <th>1</th>\n",
       "      <td>40.7267</td>\n",
       "      <td>-74.0345</td>\n",
       "      <td>B02512</td>\n",
       "      <td>2014-04-01</td>\n",
       "      <td>00:17:00</td>\n",
       "      <td>0</td>\n",
       "      <td>1</td>\n",
       "    </tr>\n",
       "    <tr>\n",
       "      <th>2</th>\n",
       "      <td>40.7316</td>\n",
       "      <td>-73.9873</td>\n",
       "      <td>B02512</td>\n",
       "      <td>2014-04-01</td>\n",
       "      <td>00:21:00</td>\n",
       "      <td>0</td>\n",
       "      <td>1</td>\n",
       "    </tr>\n",
       "    <tr>\n",
       "      <th>3</th>\n",
       "      <td>40.7588</td>\n",
       "      <td>-73.9776</td>\n",
       "      <td>B02512</td>\n",
       "      <td>2014-04-01</td>\n",
       "      <td>00:28:00</td>\n",
       "      <td>0</td>\n",
       "      <td>1</td>\n",
       "    </tr>\n",
       "    <tr>\n",
       "      <th>4</th>\n",
       "      <td>40.7594</td>\n",
       "      <td>-73.9722</td>\n",
       "      <td>B02512</td>\n",
       "      <td>2014-04-01</td>\n",
       "      <td>00:33:00</td>\n",
       "      <td>0</td>\n",
       "      <td>1</td>\n",
       "    </tr>\n",
       "    <tr>\n",
       "      <th>...</th>\n",
       "      <td>...</td>\n",
       "      <td>...</td>\n",
       "      <td>...</td>\n",
       "      <td>...</td>\n",
       "      <td>...</td>\n",
       "      <td>...</td>\n",
       "      <td>...</td>\n",
       "    </tr>\n",
       "    <tr>\n",
       "      <th>1028131</th>\n",
       "      <td>40.7668</td>\n",
       "      <td>-73.9845</td>\n",
       "      <td>B02764</td>\n",
       "      <td>2014-09-30</td>\n",
       "      <td>22:57:00</td>\n",
       "      <td>22</td>\n",
       "      <td>1</td>\n",
       "    </tr>\n",
       "    <tr>\n",
       "      <th>1028132</th>\n",
       "      <td>40.6911</td>\n",
       "      <td>-74.1773</td>\n",
       "      <td>B02764</td>\n",
       "      <td>2014-09-30</td>\n",
       "      <td>22:57:00</td>\n",
       "      <td>22</td>\n",
       "      <td>1</td>\n",
       "    </tr>\n",
       "    <tr>\n",
       "      <th>1028133</th>\n",
       "      <td>40.8519</td>\n",
       "      <td>-73.9319</td>\n",
       "      <td>B02764</td>\n",
       "      <td>2014-09-30</td>\n",
       "      <td>22:58:00</td>\n",
       "      <td>22</td>\n",
       "      <td>1</td>\n",
       "    </tr>\n",
       "    <tr>\n",
       "      <th>1028134</th>\n",
       "      <td>40.7081</td>\n",
       "      <td>-74.0066</td>\n",
       "      <td>B02764</td>\n",
       "      <td>2014-09-30</td>\n",
       "      <td>22:58:00</td>\n",
       "      <td>22</td>\n",
       "      <td>1</td>\n",
       "    </tr>\n",
       "    <tr>\n",
       "      <th>1028135</th>\n",
       "      <td>40.7140</td>\n",
       "      <td>-73.9496</td>\n",
       "      <td>B02764</td>\n",
       "      <td>2014-09-30</td>\n",
       "      <td>22:58:00</td>\n",
       "      <td>22</td>\n",
       "      <td>1</td>\n",
       "    </tr>\n",
       "  </tbody>\n",
       "</table>\n",
       "<p>4534327 rows × 7 columns</p>\n",
       "</div>"
      ],
      "text/plain": [
       "             lat      lon    base    new_date  new_time  hour  day\n",
       "0        40.7690 -73.9549  B02512  2014-04-01  00:11:00     0    1\n",
       "1        40.7267 -74.0345  B02512  2014-04-01  00:17:00     0    1\n",
       "2        40.7316 -73.9873  B02512  2014-04-01  00:21:00     0    1\n",
       "3        40.7588 -73.9776  B02512  2014-04-01  00:28:00     0    1\n",
       "4        40.7594 -73.9722  B02512  2014-04-01  00:33:00     0    1\n",
       "...          ...      ...     ...         ...       ...   ...  ...\n",
       "1028131  40.7668 -73.9845  B02764  2014-09-30  22:57:00    22    1\n",
       "1028132  40.6911 -74.1773  B02764  2014-09-30  22:57:00    22    1\n",
       "1028133  40.8519 -73.9319  B02764  2014-09-30  22:58:00    22    1\n",
       "1028134  40.7081 -74.0066  B02764  2014-09-30  22:58:00    22    1\n",
       "1028135  40.7140 -73.9496  B02764  2014-09-30  22:58:00    22    1\n",
       "\n",
       "[4534327 rows x 7 columns]"
      ]
     },
     "execution_count": 59,
     "metadata": {},
     "output_type": "execute_result"
    }
   ],
   "source": [
    "df_def_2"
   ]
  },
  {
   "cell_type": "code",
   "execution_count": 60,
   "id": "8086b363-af13-430f-aa03-127f55e84b3b",
   "metadata": {
    "tags": []
   },
   "outputs": [],
   "source": [
    "df_def_2.to_csv('df_def_2.csv')"
   ]
  }
 ],
 "metadata": {
  "kernelspec": {
   "display_name": "Python 3 (ipykernel)",
   "language": "python",
   "name": "python3"
  },
  "language_info": {
   "codemirror_mode": {
    "name": "ipython",
    "version": 3
   },
   "file_extension": ".py",
   "mimetype": "text/x-python",
   "name": "python",
   "nbconvert_exporter": "python",
   "pygments_lexer": "ipython3",
   "version": "3.9.7"
  }
 },
 "nbformat": 4,
 "nbformat_minor": 5
}
