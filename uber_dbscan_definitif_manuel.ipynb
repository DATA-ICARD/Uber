{
 "cells": [
  {
   "cell_type": "code",
   "execution_count": 1,
   "id": "78dc1bbc-fc0e-4df4-b938-82702306f658",
   "metadata": {},
   "outputs": [
    {
     "name": "stdout",
     "output_type": "stream",
     "text": [
      "Collecting package metadata (current_repodata.json): ...working... done\n",
      "Solving environment: ...working... done\n",
      "\n",
      "# All requested packages already installed.\n",
      "\n",
      "Retrieving notices: ...working... done\n",
      "\n",
      "Note: you may need to restart the kernel to use updated packages.\n"
     ]
    }
   ],
   "source": [
    "conda install numpy"
   ]
  },
  {
   "cell_type": "code",
   "execution_count": 2,
   "id": "d3e862da",
   "metadata": {},
   "outputs": [
    {
     "name": "stdout",
     "output_type": "stream",
     "text": [
      "Collecting package metadata (current_repodata.json): ...working... done\n",
      "Solving environment: ...working... done\n",
      "\n",
      "## Package Plan ##\n",
      "\n",
      "  environment location: C:\\Users\\yanni\\anaconda3\n",
      "\n",
      "  added / updated specs:\n",
      "    - mkl\n",
      "\n",
      "\n",
      "The following packages will be downloaded:\n",
      "\n",
      "    package                    |            build\n",
      "    ---------------------------|-----------------\n",
      "    certifi-2021.10.8          |   py39haa95532_2         156 KB  intel\n",
      "    openssl-1.1.1n             |       h2bbff1b_0         5.8 MB  intel\n",
      "    ------------------------------------------------------------\n",
      "                                           Total:         5.9 MB\n",
      "\n",
      "The following packages will be SUPERSEDED by a higher-priority channel:\n",
      "\n",
      "  certifi                                         pkgs/main --> intel\n",
      "  openssl                                         pkgs/main --> intel\n",
      "\n",
      "\n",
      "\n",
      "Downloading and Extracting Packages\n",
      "\n",
      "openssl-1.1.1n       | 5.8 MB    |            |   0% \n",
      "openssl-1.1.1n       | 5.8 MB    |            |   0% \n",
      "openssl-1.1.1n       | 5.8 MB    |            |   1% \n",
      "openssl-1.1.1n       | 5.8 MB    | 1          |   1% \n",
      "openssl-1.1.1n       | 5.8 MB    | 2          |   2% \n",
      "openssl-1.1.1n       | 5.8 MB    | 5          |   5% \n",
      "openssl-1.1.1n       | 5.8 MB    | 9          |  10% \n",
      "openssl-1.1.1n       | 5.8 MB    | #8         |  18% \n",
      "openssl-1.1.1n       | 5.8 MB    | ##6        |  27% \n",
      "openssl-1.1.1n       | 5.8 MB    | ####4      |  44% \n",
      "openssl-1.1.1n       | 5.8 MB    | #####7     |  58% \n",
      "openssl-1.1.1n       | 5.8 MB    | #######8   |  79% \n",
      "openssl-1.1.1n       | 5.8 MB    | #########8 |  98% \n",
      "openssl-1.1.1n       | 5.8 MB    | ########## | 100% \n",
      "\n",
      "certifi-2021.10.8    | 156 KB    |            |   0% \n",
      "certifi-2021.10.8    | 156 KB    | #          |  10% \n",
      "certifi-2021.10.8    | 156 KB    | ########## | 100% \n",
      "certifi-2021.10.8    | 156 KB    | ########## | 100% \n",
      "Preparing transaction: ...working... done\n",
      "Verifying transaction: ...working... done\n",
      "Executing transaction: ...working... done\n",
      "Retrieving notices: ...working... done\n",
      "\n",
      "Note: you may need to restart the kernel to use updated packages.\n"
     ]
    }
   ],
   "source": [
    "conda install -c intel mkl"
   ]
  },
  {
   "cell_type": "code",
   "execution_count": 3,
   "id": "7950fca4",
   "metadata": {},
   "outputs": [
    {
     "name": "stdout",
     "output_type": "stream",
     "text": [
      "Requirement already satisfied: numpy in c:\\users\\yanni\\anaconda3\\lib\\site-packages (1.21.5)\n",
      "Collecting numpy\n",
      "  Downloading numpy-1.23.3-cp39-cp39-win_amd64.whl (14.7 MB)\n",
      "Installing collected packages: numpy\n",
      "  Attempting uninstall: numpy\n",
      "    Found existing installation: numpy 1.21.5\n",
      "    Uninstalling numpy-1.21.5:\n",
      "      Successfully uninstalled numpy-1.21.5\n",
      "Successfully installed numpy-1.23.3\n",
      "Note: you may need to restart the kernel to use updated packages.\n"
     ]
    },
    {
     "name": "stderr",
     "output_type": "stream",
     "text": [
      "ERROR: pip's dependency resolver does not currently take into account all the packages that are installed. This behaviour is the source of the following dependency conflicts.\n",
      "daal4py 2021.5.0 requires daal==2021.4.0, which is not installed.\n",
      "scipy 1.7.3 requires numpy<1.23.0,>=1.16.5, but you have numpy 1.23.3 which is incompatible.\n",
      "numba 0.55.1 requires numpy<1.22,>=1.18, but you have numpy 1.23.3 which is incompatible.\n"
     ]
    }
   ],
   "source": [
    "pip install -U numpy"
   ]
  },
  {
   "cell_type": "code",
   "execution_count": 3,
   "id": "c068b12a-d1bc-4e47-9fa5-6564d35219ba",
   "metadata": {},
   "outputs": [],
   "source": [
    "import pandas as pd \n",
    "import numpy as np \n",
    "\n",
    "from sklearn.preprocessing import  OneHotEncoder, StandardScaler\n",
    "from sklearn.compose import ColumnTransformer\n",
    "from sklearn.pipeline import Pipeline\n",
    "from sklearn import preprocessing\n",
    "from sklearn.cluster import DBSCAN\n",
    "\n",
    "\n",
    "import plotly.express as px\n",
    "import plotly.io as pio\n",
    "pio.renderers.default = \"iframe_connected\"\n",
    "from IPython.display import HTML, Image"
   ]
  },
  {
   "cell_type": "code",
   "execution_count": 4,
   "id": "ebb40c3e",
   "metadata": {},
   "outputs": [],
   "source": [
    "df_apr = pd.read_csv('uber-raw-data-apr14.csv')"
   ]
  },
  {
   "cell_type": "code",
   "execution_count": 5,
   "id": "0a4f6553",
   "metadata": {},
   "outputs": [],
   "source": [
    "df_may = pd.read_csv('uber-raw-data-may14.csv')"
   ]
  },
  {
   "cell_type": "code",
   "execution_count": 6,
   "id": "a1b0c7f1",
   "metadata": {},
   "outputs": [],
   "source": [
    "df_jun = pd.read_csv('uber-raw-data-jun14.csv')"
   ]
  },
  {
   "cell_type": "code",
   "execution_count": 7,
   "id": "0e4726fb",
   "metadata": {},
   "outputs": [],
   "source": [
    "df_jul = pd.read_csv('uber-raw-data-jul14.csv')"
   ]
  },
  {
   "cell_type": "code",
   "execution_count": 8,
   "id": "977849c9",
   "metadata": {},
   "outputs": [],
   "source": [
    "df_aug = pd.read_csv('uber-raw-data-aug14.csv')"
   ]
  },
  {
   "cell_type": "code",
   "execution_count": 9,
   "id": "75188d34",
   "metadata": {},
   "outputs": [],
   "source": [
    "df_sep = pd.read_csv('uber-raw-data-sep14.csv')"
   ]
  },
  {
   "cell_type": "code",
   "execution_count": 10,
   "id": "db56d387",
   "metadata": {},
   "outputs": [],
   "source": [
    "df_def = pd.concat([df_apr, df_aug, df_jul, df_jun, df_may, df_sep])"
   ]
  },
  {
   "cell_type": "code",
   "execution_count": 11,
   "id": "7e003d4c",
   "metadata": {},
   "outputs": [],
   "source": [
    "df_def.columns = [x.lower().replace('/', '_') for x in df_def.columns]"
   ]
  },
  {
   "cell_type": "code",
   "execution_count": 12,
   "id": "7ad2a590",
   "metadata": {},
   "outputs": [],
   "source": [
    "df_def.date_time = pd.to_datetime(df_def['date_time'])"
   ]
  },
  {
   "cell_type": "code",
   "execution_count": 13,
   "id": "d85c7ecc",
   "metadata": {},
   "outputs": [],
   "source": [
    "new_dates, new_times = zip(*[(d.date(), d.time()) for d in df_def['date_time']])\n",
    "df_def = df_def.assign(new_date=new_dates, new_time=new_times)\n",
    "df_def['hour'] = df_def.date_time.dt.hour\n",
    "df_def['day'] = df_def.date_time.dt.dayofweek"
   ]
  },
  {
   "cell_type": "code",
   "execution_count": 14,
   "id": "70d31586",
   "metadata": {},
   "outputs": [],
   "source": [
    "df_def = df_def.drop(columns=[\"date_time\"])"
   ]
  },
  {
   "cell_type": "code",
   "execution_count": 15,
   "id": "bc848914-832c-4dfe-a08e-2563fec41516",
   "metadata": {},
   "outputs": [
    {
     "data": {
      "text/plain": [
       "4534327"
      ]
     },
     "execution_count": 15,
     "metadata": {},
     "output_type": "execute_result"
    }
   ],
   "source": [
    "len(df_def)"
   ]
  },
  {
   "cell_type": "markdown",
   "id": "b2387c64-9f0b-45f5-8a9d-0ec586cdea6e",
   "metadata": {},
   "source": [
    "DROP OUTLIERS"
   ]
  },
  {
   "cell_type": "code",
   "execution_count": 16,
   "id": "18e59331-32d1-41d9-acc1-1aaabd7b1dec",
   "metadata": {},
   "outputs": [],
   "source": [
    "for i in ['lat', 'lon',]:\n",
    "    df_def = df_def[~(np.abs(df_def[i]-df_def[i].mean()) > (3*df_def[i].std()))]"
   ]
  },
  {
   "cell_type": "code",
   "execution_count": 17,
   "id": "a5add719-dbf3-4529-a1fd-bc352fb7427c",
   "metadata": {},
   "outputs": [
    {
     "data": {
      "text/plain": [
       "4301626"
      ]
     },
     "execution_count": 17,
     "metadata": {},
     "output_type": "execute_result"
    }
   ],
   "source": [
    "len(df_def)"
   ]
  },
  {
   "cell_type": "markdown",
   "id": "f8a89918",
   "metadata": {},
   "source": [
    "VISUALISATION DES LUNDI TOUTES LES HEURES."
   ]
  },
  {
   "cell_type": "code",
   "execution_count": 16,
   "id": "579b5e48",
   "metadata": {},
   "outputs": [],
   "source": [
    "df_j1 = df_def[(df_def.day == 0) & (df_def.hour <=23)]"
   ]
  },
  {
   "cell_type": "code",
   "execution_count": 17,
   "id": "9ce7a3e9",
   "metadata": {},
   "outputs": [],
   "source": [
    "df_j1 = df_j1.drop(columns=['base', 'new_date', 'new_time'])"
   ]
  },
  {
   "cell_type": "code",
   "execution_count": 18,
   "id": "7786759c",
   "metadata": {},
   "outputs": [
    {
     "data": {
      "text/html": [
       "<div>\n",
       "<style scoped>\n",
       "    .dataframe tbody tr th:only-of-type {\n",
       "        vertical-align: middle;\n",
       "    }\n",
       "\n",
       "    .dataframe tbody tr th {\n",
       "        vertical-align: top;\n",
       "    }\n",
       "\n",
       "    .dataframe thead th {\n",
       "        text-align: right;\n",
       "    }\n",
       "</style>\n",
       "<table border=\"1\" class=\"dataframe\">\n",
       "  <thead>\n",
       "    <tr style=\"text-align: right;\">\n",
       "      <th></th>\n",
       "      <th>lat</th>\n",
       "      <th>lon</th>\n",
       "      <th>hour</th>\n",
       "      <th>day</th>\n",
       "    </tr>\n",
       "  </thead>\n",
       "  <tbody>\n",
       "    <tr>\n",
       "      <th>7785</th>\n",
       "      <td>40.7205</td>\n",
       "      <td>-73.9939</td>\n",
       "      <td>0</td>\n",
       "      <td>0</td>\n",
       "    </tr>\n",
       "    <tr>\n",
       "      <th>7786</th>\n",
       "      <td>40.7407</td>\n",
       "      <td>-74.0077</td>\n",
       "      <td>0</td>\n",
       "      <td>0</td>\n",
       "    </tr>\n",
       "    <tr>\n",
       "      <th>7787</th>\n",
       "      <td>40.7591</td>\n",
       "      <td>-73.9892</td>\n",
       "      <td>0</td>\n",
       "      <td>0</td>\n",
       "    </tr>\n",
       "    <tr>\n",
       "      <th>7788</th>\n",
       "      <td>40.7419</td>\n",
       "      <td>-74.0034</td>\n",
       "      <td>0</td>\n",
       "      <td>0</td>\n",
       "    </tr>\n",
       "    <tr>\n",
       "      <th>7789</th>\n",
       "      <td>40.7419</td>\n",
       "      <td>-74.0034</td>\n",
       "      <td>1</td>\n",
       "      <td>0</td>\n",
       "    </tr>\n",
       "  </tbody>\n",
       "</table>\n",
       "</div>"
      ],
      "text/plain": [
       "          lat      lon  hour  day\n",
       "7785  40.7205 -73.9939     0    0\n",
       "7786  40.7407 -74.0077     0    0\n",
       "7787  40.7591 -73.9892     0    0\n",
       "7788  40.7419 -74.0034     0    0\n",
       "7789  40.7419 -74.0034     1    0"
      ]
     },
     "execution_count": 18,
     "metadata": {},
     "output_type": "execute_result"
    }
   ],
   "source": [
    "df_j1.head()"
   ]
  },
  {
   "cell_type": "code",
   "execution_count": 19,
   "id": "c5f2cd4a",
   "metadata": {
    "scrolled": true
   },
   "outputs": [],
   "source": [
    "numeric_features = [0, 1, 2, 3] # Positions des colonnes quantitatives dans X\n",
    "numeric_transformer = StandardScaler()\n",
    "\n",
    "# On combine les transformers dans un ColumnTransformer\n",
    "preprocessor = ColumnTransformer(\n",
    "    transformers=[\n",
    "        ('num', numeric_transformer, numeric_features),\n",
    "        \n",
    "    ])\n",
    "\n"
   ]
  },
  {
   "cell_type": "code",
   "execution_count": 20,
   "id": "fe97a073",
   "metadata": {},
   "outputs": [],
   "source": [
    "X_j1 = preprocessor.fit_transform(df_j1) # fit_transform !!\n",
    "\n",
    "db = DBSCAN(eps=0.2, min_samples=100, algorithm=\"brute\")\n",
    "\n",
    "db.fit(X_j1)\n",
    "np.unique(db.labels_)\n",
    "df_j1[\"cluster\"] = db.labels_"
   ]
  },
  {
   "cell_type": "code",
   "execution_count": 21,
   "id": "a0daf1b3",
   "metadata": {
    "scrolled": true
   },
   "outputs": [
    {
     "data": {
      "text/html": [
       "<iframe\n",
       "    scrolling=\"no\"\n",
       "    width=\"100%\"\n",
       "    height=\"545px\"\n",
       "    src=\"iframe_figures/figure_21.html\"\n",
       "    frameborder=\"0\"\n",
       "    allowfullscreen\n",
       "></iframe>\n"
      ]
     },
     "metadata": {},
     "output_type": "display_data"
    }
   ],
   "source": [
    "fig = px.scatter_mapbox(df_j1[(df_j1.cluster >=0)], \n",
    "        lat=\"lat\", \n",
    "        lon=\"lon\",\n",
    "        hover_name = 'hour',                \n",
    "        color=\"cluster\",\n",
    "        mapbox_style=\"carto-positron\",\n",
    "        animation_frame=\"hour\",\n",
    "        title = \"lundi_trafic_by_hour\"\n",
    ")\n",
    "fig.show()"
   ]
  },
  {
   "cell_type": "markdown",
   "id": "85d7ac27",
   "metadata": {},
   "source": [
    "VISUALITION MARDI TOUTES LES HEURES"
   ]
  },
  {
   "cell_type": "code",
   "execution_count": 22,
   "id": "4b5bef8a",
   "metadata": {},
   "outputs": [],
   "source": [
    "df_j2 = df_def[(df_def.day == 1) & (df_def.hour <=23)]"
   ]
  },
  {
   "cell_type": "code",
   "execution_count": 23,
   "id": "95c14364",
   "metadata": {},
   "outputs": [],
   "source": [
    "df_j2 = df_j2.drop(columns=['base', 'new_date', 'new_time'])"
   ]
  },
  {
   "cell_type": "code",
   "execution_count": 24,
   "id": "f2a02e27",
   "metadata": {},
   "outputs": [
    {
     "data": {
      "text/html": [
       "<div>\n",
       "<style scoped>\n",
       "    .dataframe tbody tr th:only-of-type {\n",
       "        vertical-align: middle;\n",
       "    }\n",
       "\n",
       "    .dataframe tbody tr th {\n",
       "        vertical-align: top;\n",
       "    }\n",
       "\n",
       "    .dataframe thead th {\n",
       "        text-align: right;\n",
       "    }\n",
       "</style>\n",
       "<table border=\"1\" class=\"dataframe\">\n",
       "  <thead>\n",
       "    <tr style=\"text-align: right;\">\n",
       "      <th></th>\n",
       "      <th>lat</th>\n",
       "      <th>lon</th>\n",
       "      <th>hour</th>\n",
       "      <th>day</th>\n",
       "    </tr>\n",
       "  </thead>\n",
       "  <tbody>\n",
       "    <tr>\n",
       "      <th>0</th>\n",
       "      <td>40.7690</td>\n",
       "      <td>-73.9549</td>\n",
       "      <td>0</td>\n",
       "      <td>1</td>\n",
       "    </tr>\n",
       "    <tr>\n",
       "      <th>1</th>\n",
       "      <td>40.7267</td>\n",
       "      <td>-74.0345</td>\n",
       "      <td>0</td>\n",
       "      <td>1</td>\n",
       "    </tr>\n",
       "    <tr>\n",
       "      <th>2</th>\n",
       "      <td>40.7316</td>\n",
       "      <td>-73.9873</td>\n",
       "      <td>0</td>\n",
       "      <td>1</td>\n",
       "    </tr>\n",
       "    <tr>\n",
       "      <th>3</th>\n",
       "      <td>40.7588</td>\n",
       "      <td>-73.9776</td>\n",
       "      <td>0</td>\n",
       "      <td>1</td>\n",
       "    </tr>\n",
       "    <tr>\n",
       "      <th>4</th>\n",
       "      <td>40.7594</td>\n",
       "      <td>-73.9722</td>\n",
       "      <td>0</td>\n",
       "      <td>1</td>\n",
       "    </tr>\n",
       "  </tbody>\n",
       "</table>\n",
       "</div>"
      ],
      "text/plain": [
       "       lat      lon  hour  day\n",
       "0  40.7690 -73.9549     0    1\n",
       "1  40.7267 -74.0345     0    1\n",
       "2  40.7316 -73.9873     0    1\n",
       "3  40.7588 -73.9776     0    1\n",
       "4  40.7594 -73.9722     0    1"
      ]
     },
     "execution_count": 24,
     "metadata": {},
     "output_type": "execute_result"
    }
   ],
   "source": [
    "df_j2.head()"
   ]
  },
  {
   "cell_type": "code",
   "execution_count": 25,
   "id": "02f6a23d",
   "metadata": {},
   "outputs": [],
   "source": [
    "numeric_features = [0, 1, 2, 3] # Positions des colonnes quantitatives dans X\n",
    "numeric_transformer = StandardScaler()\n",
    "\n",
    "# On combine les transformers dans un ColumnTransformer\n",
    "preprocessor = ColumnTransformer(\n",
    "    transformers=[\n",
    "        ('num', numeric_transformer, numeric_features),\n",
    "        \n",
    "    ])\n",
    "\n"
   ]
  },
  {
   "cell_type": "code",
   "execution_count": 26,
   "id": "8245b023",
   "metadata": {},
   "outputs": [],
   "source": [
    "X_j2 = preprocessor.fit_transform(df_j2) # fit_transform !!\n",
    "\n",
    "db = DBSCAN(eps=0.2, min_samples=100, algorithm=\"brute\")\n",
    "\n",
    "db.fit(X_j2)\n",
    "np.unique(db.labels_)\n",
    "df_j2[\"cluster\"] = db.labels_"
   ]
  },
  {
   "cell_type": "code",
   "execution_count": 27,
   "id": "50f17e27",
   "metadata": {},
   "outputs": [
    {
     "data": {
      "text/html": [
       "<iframe\n",
       "    scrolling=\"no\"\n",
       "    width=\"100%\"\n",
       "    height=\"545px\"\n",
       "    src=\"iframe_figures/figure_27.html\"\n",
       "    frameborder=\"0\"\n",
       "    allowfullscreen\n",
       "></iframe>\n"
      ]
     },
     "metadata": {},
     "output_type": "display_data"
    }
   ],
   "source": [
    "fig = px.scatter_mapbox(df_j2[(df_j2.cluster >=0)], \n",
    "        lat=\"lat\", \n",
    "        lon=\"lon\",\n",
    "        hover_name = 'hour',                \n",
    "        color=\"cluster\",\n",
    "        mapbox_style=\"carto-positron\",\n",
    "        animation_frame=\"hour\",\n",
    "        title = \"mardi_trafic_by_hour\"\n",
    "\n",
    ")\n",
    "fig.show()"
   ]
  },
  {
   "cell_type": "markdown",
   "id": "96f8a868",
   "metadata": {},
   "source": [
    "VISUALITION MERCREDI TOUTES LES HEURES"
   ]
  },
  {
   "cell_type": "code",
   "execution_count": 23,
   "id": "12b53a3e",
   "metadata": {},
   "outputs": [],
   "source": [
    "df_j3 = df_def[(df_def.day == 2) & (df_def.hour <=23)].drop(columns=['base', 'new_date', 'new_time'])"
   ]
  },
  {
   "cell_type": "code",
   "execution_count": 24,
   "id": "ffdc9649",
   "metadata": {},
   "outputs": [],
   "source": [
    "numeric_features = [0, 1, 2, 3] # Positions des colonnes quantitatives dans X\n",
    "numeric_transformer = StandardScaler()\n",
    "\n",
    "# On combine les transformers dans un ColumnTransformer\n",
    "preprocessor = ColumnTransformer(\n",
    "    transformers=[\n",
    "        ('num', numeric_transformer, numeric_features),\n",
    "        \n",
    "    ])\n",
    "\n"
   ]
  },
  {
   "cell_type": "code",
   "execution_count": 25,
   "id": "fc3f0fac",
   "metadata": {},
   "outputs": [],
   "source": [
    "X_j3 = preprocessor.fit_transform(df_j3) # fit_transform !!\n",
    "\n",
    "db = DBSCAN(eps=0.2, min_samples=100, algorithm=\"brute\")\n",
    "\n",
    "db.fit(X_j3)\n",
    "np.unique(db.labels_)\n",
    "df_j3[\"cluster\"] = db.labels_"
   ]
  },
  {
   "cell_type": "code",
   "execution_count": 26,
   "id": "2537f5ed",
   "metadata": {},
   "outputs": [
    {
     "data": {
      "text/html": [
       "<iframe\n",
       "    scrolling=\"no\"\n",
       "    width=\"100%\"\n",
       "    height=\"545px\"\n",
       "    src=\"iframe_figures/figure_80.html\"\n",
       "    frameborder=\"0\"\n",
       "    allowfullscreen\n",
       "></iframe>\n"
      ]
     },
     "metadata": {},
     "output_type": "display_data"
    }
   ],
   "source": [
    "fig = px.scatter_mapbox(df_j3[(df_j3.cluster >=0)], \n",
    "        lat=\"lat\", \n",
    "        lon=\"lon\",\n",
    "        hover_name = 'hour',                \n",
    "        color=\"cluster\",\n",
    "        mapbox_style=\"carto-positron\",\n",
    "        animation_frame=\"hour\",\n",
    "        title = \"mercredi_trafic_by_hour\"\n",
    "\n",
    ")\n",
    "fig.show()"
   ]
  },
  {
   "cell_type": "markdown",
   "id": "268cdd17",
   "metadata": {},
   "source": [
    "JEUDI"
   ]
  },
  {
   "cell_type": "code",
   "execution_count": null,
   "id": "4faced34",
   "metadata": {},
   "outputs": [],
   "source": [
    "df_j4 = df_def[(df_def.day == 3) & (df_def.hour <=23)].drop(columns=['base', 'new_date', 'new_time'])"
   ]
  },
  {
   "cell_type": "code",
   "execution_count": null,
   "id": "c6d67600",
   "metadata": {},
   "outputs": [],
   "source": [
    "X_j4 = preprocessor.fit_transform(df_j4) # fit_transform !!\n",
    "\n",
    "db = DBSCAN(eps=0.2, min_samples=100, algorithm=\"brute\")\n",
    "\n",
    "db.fit(X_j4)\n",
    "np.unique(db.labels_)\n",
    "df_j4[\"cluster\"] = db.labels_"
   ]
  },
  {
   "cell_type": "code",
   "execution_count": null,
   "id": "75a26cd6",
   "metadata": {},
   "outputs": [],
   "source": [
    "fig = px.scatter_mapbox(df_j4[(df_j4.cluster >=0)], \n",
    "        lat=\"lat\", \n",
    "        lon=\"lon\",\n",
    "        hover_name = 'hour',                \n",
    "        color=\"cluster\",\n",
    "        mapbox_style=\"carto-positron\",\n",
    "        animation_frame=\"hour\",\n",
    "        title = \"jeudi_trafic_by_hour\"\n",
    "\n",
    ")\n",
    "fig.show()"
   ]
  },
  {
   "cell_type": "markdown",
   "id": "0d7d19b5",
   "metadata": {},
   "source": [
    "VENDREDI"
   ]
  },
  {
   "cell_type": "code",
   "execution_count": null,
   "id": "f2751c9d",
   "metadata": {},
   "outputs": [],
   "source": [
    "df_j5 = df_def[(df_def.day == 4) & (df_def.hour <=23)].drop(columns=['base', 'new_date', 'new_time'])"
   ]
  },
  {
   "cell_type": "code",
   "execution_count": null,
   "id": "4476b484",
   "metadata": {},
   "outputs": [],
   "source": [
    "X_j5 = preprocessor.fit_transform(df_j5) # fit_transform !!\n",
    "\n",
    "db = DBSCAN(eps=0.2, min_samples=100, algorithm=\"brute\")\n",
    "\n",
    "db.fit(X_j5)\n",
    "np.unique(db.labels_)\n",
    "df_j5[\"cluster\"] = db.labels_"
   ]
  },
  {
   "cell_type": "code",
   "execution_count": null,
   "id": "509ad9fa",
   "metadata": {},
   "outputs": [],
   "source": [
    "fig = px.scatter_mapbox(df_j5[(df_j5.cluster >=0)], \n",
    "        lat=\"lat\", \n",
    "        lon=\"lon\",\n",
    "        hover_name = 'hour',                \n",
    "        color=\"cluster\",\n",
    "        mapbox_style=\"carto-positron\",\n",
    "        animation_frame=\"hour\",\n",
    "        title = \"vendredi_trafic_by_hour\"\n",
    "\n",
    ")\n",
    "fig.show()"
   ]
  },
  {
   "cell_type": "markdown",
   "id": "642a467b",
   "metadata": {},
   "source": [
    "SAMEDI"
   ]
  },
  {
   "cell_type": "code",
   "execution_count": 18,
   "id": "764671f5",
   "metadata": {},
   "outputs": [],
   "source": [
    "df_j6 = df_def[(df_def.day == 5) & (df_def.hour <=23)].drop(columns=['base', 'new_date', 'new_time'])"
   ]
  },
  {
   "cell_type": "code",
   "execution_count": 21,
   "id": "ebb818aa",
   "metadata": {},
   "outputs": [],
   "source": [
    "X_j6 = preprocessor.fit_transform(df_j6) # fit_transform !!\n",
    "\n",
    "db = DBSCAN(eps=0.2, min_samples=100, algorithm=\"brute\")\n",
    "\n",
    "db.fit(X_j6)\n",
    "np.unique(db.labels_)\n",
    "df_j6[\"cluster\"] = db.labels_"
   ]
  },
  {
   "cell_type": "code",
   "execution_count": 22,
   "id": "0c2f3791",
   "metadata": {},
   "outputs": [
    {
     "data": {
      "text/html": [
       "<iframe\n",
       "    scrolling=\"no\"\n",
       "    width=\"100%\"\n",
       "    height=\"545px\"\n",
       "    src=\"iframe_figures/figure_22.html\"\n",
       "    frameborder=\"0\"\n",
       "    allowfullscreen\n",
       "></iframe>\n"
      ]
     },
     "metadata": {},
     "output_type": "display_data"
    }
   ],
   "source": [
    "fig = px.scatter_mapbox(df_j6[(df_j6.cluster >=0)], \n",
    "        lat=\"lat\", \n",
    "        lon=\"lon\",\n",
    "        hover_name = 'hour',                \n",
    "        color=\"cluster\",\n",
    "        mapbox_style=\"carto-positron\",\n",
    "        animation_frame=\"hour\",\n",
    "        title = \"samedi_trafic_by_hour\"\n",
    "\n",
    ")\n",
    "fig.show()"
   ]
  },
  {
   "cell_type": "markdown",
   "id": "34c52c91",
   "metadata": {},
   "source": [
    "DIMANCHE"
   ]
  },
  {
   "cell_type": "code",
   "execution_count": null,
   "id": "564cd3ad",
   "metadata": {},
   "outputs": [],
   "source": [
    "df_j7 = df_def[(df_def.day == 6) & (df_def.hour <=23)].drop(columns=['base', 'new_date', 'new_time'])"
   ]
  },
  {
   "cell_type": "code",
   "execution_count": null,
   "id": "709981ea",
   "metadata": {},
   "outputs": [],
   "source": [
    "X_j7 = preprocessor.fit_transform(df_j7) # fit_transform !!\n",
    "\n",
    "db = DBSCAN(eps=0.2, min_samples=100, algorithm=\"brute\")\n",
    "\n",
    "db.fit(X_j7)\n",
    "np.unique(db.labels_)\n",
    "df_j7[\"cluster\"] = db.labels_"
   ]
  },
  {
   "cell_type": "code",
   "execution_count": null,
   "id": "eb410bc0",
   "metadata": {},
   "outputs": [],
   "source": [
    "fig = px.scatter_mapbox(df_j7[(df_j7.cluster >=0)], \n",
    "        lat=\"lat\", \n",
    "        lon=\"lon\",\n",
    "        hover_name = 'hour',                \n",
    "        color=\"cluster\",\n",
    "        mapbox_style=\"carto-positron\",\n",
    "        animation_frame=\"hour\",\n",
    "        title = \"dimanche_trafic_by_hour\"\n",
    "\n",
    ")\n",
    "fig.show()"
   ]
  },
  {
   "cell_type": "code",
   "execution_count": null,
   "id": "c3ccc487",
   "metadata": {},
   "outputs": [],
   "source": []
  }
 ],
 "metadata": {
  "kernelspec": {
   "display_name": "Python 3 (ipykernel)",
   "language": "python",
   "name": "python3"
  },
  "language_info": {
   "codemirror_mode": {
    "name": "ipython",
    "version": 3
   },
   "file_extension": ".py",
   "mimetype": "text/x-python",
   "name": "python",
   "nbconvert_exporter": "python",
   "pygments_lexer": "ipython3",
   "version": "3.9.12"
  }
 },
 "nbformat": 4,
 "nbformat_minor": 5
}
